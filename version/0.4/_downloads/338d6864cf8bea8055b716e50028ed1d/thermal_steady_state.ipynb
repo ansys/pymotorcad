{
  "cells": [
    {
      "cell_type": "markdown",
      "metadata": {},
      "source": [
        "\n\n# Thermal steady-state\nThis example demonstrates internal scripting thermal steady-state functionality\n"
      ]
    },
    {
      "cell_type": "markdown",
      "metadata": {},
      "source": [
        "Perform required imports\n\n"
      ]
    },
    {
      "cell_type": "code",
      "execution_count": null,
      "metadata": {
        "collapsed": false
      },
      "outputs": [],
      "source": [
        "import ansys.motorcad.core as pymotorcad"
      ]
    },
    {
      "cell_type": "markdown",
      "metadata": {},
      "source": [
        "Launch Motor-CAD\n\n"
      ]
    },
    {
      "cell_type": "code",
      "execution_count": null,
      "metadata": {
        "collapsed": false
      },
      "outputs": [],
      "source": [
        "mc = pymotorcad.MotorCAD()"
      ]
    },
    {
      "cell_type": "markdown",
      "metadata": {},
      "source": [
        "We will update the resistance between nodes with the following equation:\nresistance = (0.01 \u00d7 ambient_temp) + 1\nThis function is called when \"Run\" is pressed\n\n"
      ]
    },
    {
      "cell_type": "code",
      "execution_count": null,
      "metadata": {
        "collapsed": false
      },
      "outputs": [],
      "source": [
        "def main():\n    pass\n\n\nclass thermal_steady:\n    # Select nodes to update\n    housing_node = 1\n    ambient_node = 0\n\n    def initial(self):\n        # %%\n        # Disable pop-up messages\n        mc.set_variable(\"MessageDisplayState\", 2)\n\n        # Adjust Losses\n        mc.display_screen(\"Scripting\")\n        mc.set_variable(\"Armature_Copper_Loss_@Ref_Speed\", 200)\n\n    def main(self):\n        ambient_temp = mc.get_variable(\"T_Ambient\")\n        resistance = (ambient_temp * 0.01) + 1\n        mc.set_resistance_value(\n            \"Custom Resistance\", self.ambient_node, self.housing_node, resistance, \"\"\n        )\n        print(str(resistance))\n\n    def final(self):\n        # Get temperature from node\n        housing_temp = mc.get_node_temperature(self.housing_node)\n        print(\"Housing Temperature: \" + str(round(housing_temp, 1)))\n\n        mc.set_variable(\"MessageDisplayState\", 0)"
      ]
    },
    {
      "cell_type": "markdown",
      "metadata": {},
      "source": [
        "## PyMotorCAD Documentation Example\n(Used for the PyMotorCAD Documentation Examples only)\n\n"
      ]
    },
    {
      "cell_type": "code",
      "execution_count": null,
      "metadata": {
        "collapsed": false
      },
      "outputs": [],
      "source": [
        "try:\n    from setup_scripts.setup_script import run_thermal_steady_demo\nexcept ImportError:\n    pass\nelse:\n    run_thermal_steady_demo(mc)"
      ]
    }
  ],
  "metadata": {
    "kernelspec": {
      "display_name": "Python 3",
      "language": "python",
      "name": "python3"
    },
    "language_info": {
      "codemirror_mode": {
        "name": "ipython",
        "version": 3
      },
      "file_extension": ".py",
      "mimetype": "text/x-python",
      "name": "python",
      "nbconvert_exporter": "python",
      "pygments_lexer": "ipython3",
      "version": "3.10.8"
    }
  },
  "nbformat": 4,
  "nbformat_minor": 0
}