{
  "cells": [
    {
      "cell_type": "markdown",
      "metadata": {},
      "source": [
        "\n\n# Thermal transient\nThis example demonstrates internal scripting thermal transient functionality\n"
      ]
    },
    {
      "cell_type": "markdown",
      "metadata": {},
      "source": [
        "Perform required imports\n\n"
      ]
    },
    {
      "cell_type": "code",
      "execution_count": null,
      "metadata": {
        "collapsed": false
      },
      "outputs": [],
      "source": [
        "import ansys.motorcad.core as pymotorcad"
      ]
    },
    {
      "cell_type": "markdown",
      "metadata": {},
      "source": [
        "Launch Motor-CAD\n\n"
      ]
    },
    {
      "cell_type": "code",
      "execution_count": null,
      "metadata": {
        "collapsed": false
      },
      "outputs": [],
      "source": [
        "mc = pymotorcad.MotorCAD()\n\n\n# This function is called when \"Run\" is pressed\ndef main():\n    pass\n\n\nclass thermal_transient:\n    def initial(self):\n        # %%\n        # Disable pop-up messages\n        mc.set_variable(\"MessageDisplayState\", 2)\n        mc.display_screen(\"Scripting\")\n        # initialise water jacket and rotor cooling flow rate\n        mc.set_variable(\"Wet_Rotor_Fluid_Volume_Flow_Rate\", 0.1)\n        mc.set_variable(\"WJ_Fluid_Volume_Flow_Rate\", 0.1)\n\n    def main(self):\n        current_time = mc.get_variable(\"CurrentTime\")\n        if 1000 <= current_time < 1500:\n            # if between 1000 and 1500 s, stop water jacket coolant flow\n            mc.set_variable(\"WJ_Fluid_Volume_Flow_Rate\", 0)\n        else:\n            # if between 1000 and 1500 s, rotor coolant flow\n            mc.set_variable(\"Wet_Rotor_Fluid_Volume_Flow_Rate\", 0)\n\n    def final(self):\n        # Called after calculation\n        print(\"Thermal Transient - Final\")\n        mc.set_variable(\"MessageDisplayState\", 0)"
      ]
    },
    {
      "cell_type": "markdown",
      "metadata": {},
      "source": [
        "## Note\nFor more information about transient thermal analysis, see the Scripting Control In\nDuty Cycle tutorial, installed under\nC:\\ANSYS_Motor-CAD\\VersionNumber\\Tutorials\\Scripting_Control_In_Duty_Cycle.\n\n"
      ]
    },
    {
      "cell_type": "markdown",
      "metadata": {},
      "source": [
        "## PyMotorCAD Documentation Example\n(Used for the PyMotorCAD Documentation Examples only)\n\n"
      ]
    },
    {
      "cell_type": "code",
      "execution_count": null,
      "metadata": {
        "collapsed": false
      },
      "outputs": [],
      "source": [
        "try:\n    from setup_scripts.setup_script import run_thermal_transient_demo\nexcept ImportError:\n    pass\nelse:\n    run_thermal_transient_demo(mc)\n\nmc.set_variable(\"MessageDisplayState\", 0)"
      ]
    }
  ],
  "metadata": {
    "kernelspec": {
      "display_name": "Python 3",
      "language": "python",
      "name": "python3"
    },
    "language_info": {
      "codemirror_mode": {
        "name": "ipython",
        "version": 3
      },
      "file_extension": ".py",
      "mimetype": "text/x-python",
      "name": "python",
      "nbconvert_exporter": "python",
      "pygments_lexer": "ipython3",
      "version": "3.10.8"
    }
  },
  "nbformat": 4,
  "nbformat_minor": 0
}