{
  "cells": [
    {
      "cell_type": "markdown",
      "metadata": {},
      "source": [
        "\n\n# Curved Rotor Flux Barriers for SYNCREL U-Shape\nAdaptive Templates script to alter SYNCREL U-Shape rotor template to use curved rotor pockets.\nThis script is designed to be run from Motor-CAD template \"i3\".\n"
      ]
    },
    {
      "cell_type": "markdown",
      "metadata": {},
      "source": [
        "<div class=\"alert alert-info\"><h4>Note</h4><p>For more information on the use of Adaptive Templates in Motor-CAD,\n   and how to create, modify and debug Adaptive Templates Scripts,\n   see `ref_adaptive_templates_UG` in the `ref_user_guide`.</p></div>\n\n<div class=\"alert alert-info\"><h4>Note</h4><p>Adaptive Templates in Motor-CAD require v2024.1.2 (Motor-CAD 2024 R1 Update) or later and\n   PyMotorCAD v0.4.1. To update PyMotorCAD in Motor-CAD, go to Scripting -> Settings -> PyMotorCAD\n   updates and select 'Update to Latest Release'.</p></div>\n\n"
      ]
    },
    {
      "cell_type": "markdown",
      "metadata": {},
      "source": [
        "<div class=\"alert alert-info\"><h4>Note</h4><p>This script does not support:\n\n   * Zero inner/outer layer thickness\n\n   * Inner/outer posts</p></div>\n\n"
      ]
    },
    {
      "cell_type": "markdown",
      "metadata": {},
      "source": [
        "This script is designed to be run from Motor-CAD template \"i3\".\nIf no Motor-CAD file is open,\nthe i3 template will be loaded.\n\nTo set an adaptive geometry for a Motor-CAD file,\na script must be loaded in to the Adaptive Templates tab\n(Geometry -> Editor -> Adaptive Templates) in Motor-CAD\nand run.\nWhen the option 'Geometry Templates Type' is set to 'Adaptive',\nthis script is automatically run repeatedly\nto keep the Adaptive Geometry set in Motor-CAD.\n\n<img src=\"file://../../images/Adaptive_Templates_GUI_Screenshot.png\">\n\nThis Python script can also be executed externally,\nbut unless the script is loaded in to the Adaptive Templates tab\nin Motor-CAD, the geometry will only be defined temporarily.\n\n## Perform required imports\nImport pymotorcad to access Motor-CAD.\nImport Arc, Coordinate, Line, Region and rt_to_xy\nto define the adaptive template geometry.\nImport os, tempfile and shutil\nto open and save a temporary .mot file if none is open.\n\n"
      ]
    },
    {
      "cell_type": "code",
      "execution_count": null,
      "metadata": {
        "collapsed": false
      },
      "outputs": [],
      "source": [
        "import os\nimport shutil\nimport sys\nimport tempfile\n\nimport ansys.motorcad.core as pymotorcad\nfrom ansys.motorcad.core.geometry import Arc, Coordinate, Line, rt_to_xy, xy_to_rt"
      ]
    },
    {
      "cell_type": "markdown",
      "metadata": {},
      "source": [
        "## Connect to Motor-CAD\nIf this script is loaded into the Adaptive Templates file in Motor-CAD, the current Motor-CAD\ninstance will be used.\n\nIf the script is run externally: a new Motor-CAD instance will be opened, the e9 IPM motor\ntemplate will be loaded and the file will be saved to a temporary folder.\nTo keep a new Motor-CAD instance open after executing the script, the option\n``MotorCAD(keep_instance_open=True)`` is used when opening the new instance.\nAlternatively, use ``MotorCAD()`` and the Motor-CAD instance will close after the\nscript is executed.\n\n"
      ]
    },
    {
      "cell_type": "code",
      "execution_count": null,
      "metadata": {
        "collapsed": false
      },
      "outputs": [],
      "source": [
        "if pymotorcad.is_running_in_internal_scripting():\n    # Use existing Motor-CAD instance if possible\n    mc = pymotorcad.MotorCAD(open_new_instance=False)\nelse:\n    mc = pymotorcad.MotorCAD(keep_instance_open=True)\n    # Disable popup messages\n    mc.set_variable(\"MessageDisplayState\", 2)\n    mc.set_visible(True)\n    mc.load_template(\"i3\")\n\n    # Open relevant file\n    working_folder = os.path.join(tempfile.gettempdir(), \"adaptive_library\")\n    try:\n        shutil.rmtree(working_folder)\n    except:\n        pass\n    os.mkdir(working_folder)\n    mot_name = \"SYNCRELCurvedFluxBarriers\"\n    mc.save_to_file(working_folder + \"/\" + mot_name + \".mot\")\n\n# Reset geometry to default\nmc.reset_adaptive_geometry()"
      ]
    },
    {
      "cell_type": "markdown",
      "metadata": {},
      "source": [
        "## Define functions for the Adaptive Templates script\nThis example Adaptive Templates Script works by defining\na number of required functions.\nThese functions are then called within a ``for`` loop,\nwhich executes the script for each rotor duct layer.\n\n### Calculate barrier arc centre and radius coordinates\nDefine a function to get the radius and centre of a barrier arc.\n\nParameters:\n\n* ``coordinate_1`` : Coordinate, Arc start coordinate.\n\n* ``coordinate_2`` : Coordinate, Extra coordinate on arc\n\n* ``coordinate_3`` : Coordinate, Arc end coordinate\n\n* ``arc_direction`` : Integer, Direction to create arc between start/end\n\nReturns:\n\n* ``radius`` : float, Arc radius\n\n* ``centre`` : Coordinate, Arc centre coordinate\n\n"
      ]
    },
    {
      "cell_type": "code",
      "execution_count": null,
      "metadata": {
        "collapsed": false
      },
      "outputs": [],
      "source": [
        "def get_barrier_centre_and_radius(coordinate_1, coordinate_2, coordinate_3, arc_direction):\n    _, start_t = xy_to_rt(coordinate_1.x, coordinate_1.y)\n    _, end_t = xy_to_rt(coordinate_3.x, coordinate_3.y)\n\n    a = (\n        coordinate_1.x * (coordinate_2.y - coordinate_3.y)\n        - coordinate_1.y * (coordinate_2.x - coordinate_3.x)\n        + coordinate_2.x * coordinate_3.y\n        - coordinate_3.x * coordinate_2.y\n    )\n    b = (\n        (coordinate_1.x**2 + coordinate_1.y**2) * (coordinate_3.y - coordinate_2.y)\n        + (coordinate_2.x**2 + coordinate_2.y**2) * (coordinate_1.y - coordinate_3.y)\n        + (coordinate_3.x**2 + coordinate_3.y**2) * (coordinate_2.y - coordinate_1.y)\n    )\n    c = (\n        (coordinate_1.x**2 + coordinate_1.y**2) * (coordinate_2.x - coordinate_3.x)\n        + (coordinate_2.x**2 + coordinate_2.y**2) * (coordinate_3.x - coordinate_1.x)\n        + (coordinate_3.x**2 + coordinate_3.y**2) * (coordinate_1.x - coordinate_2.x)\n    )\n    centre = Coordinate((-b / a) / 2, (-c / a) / 2)\n    radius = Line(centre, coordinate_1).length * arc_direction\n\n    return radius, centre"
      ]
    },
    {
      "cell_type": "markdown",
      "metadata": {},
      "source": [
        "### Whether corner rounding should be applied to pocket\nDefine a function to determine whether corner rounding should be applied to pocket.\nReturns a boolean.\nReturns ``True`` if Corner Rounding is selected for the Rotor in the Motor-CAD\nfile, and if the Corner Rounding radius is set to a non-zero value.\n\n"
      ]
    },
    {
      "cell_type": "code",
      "execution_count": null,
      "metadata": {
        "collapsed": false
      },
      "outputs": [],
      "source": [
        "def get_pockets_include_corner_rounding():\n    return (mc.get_variable(\"CornerRounding_Rotor\") == 1) and (\n        mc.get_variable(\"CornerRoundingRadius_Rotor\") > 0\n    )"
      ]
    },
    {
      "cell_type": "markdown",
      "metadata": {},
      "source": [
        "### Create a rotor mirror line\nDefine a function to create mirror line through rotor from origin to airgap.\nReturns a Line.\nGet the rotor diameter and pole number from the Motor-CAD file.\nCalculate the airgap coordinates.\n\n"
      ]
    },
    {
      "cell_type": "code",
      "execution_count": null,
      "metadata": {
        "collapsed": false
      },
      "outputs": [],
      "source": [
        "def get_rotor_mirror_line():\n    rotor_radius = mc.get_variable(\"RotorDiameter\")\n    number_poles = mc.get_variable(\"Pole_Number\")\n    airgap_centre_x, airgap_centre_y = rt_to_xy(rotor_radius, (360 / number_poles) / 2)\n\n    return Line(Coordinate(0, 0), Coordinate(airgap_centre_x, airgap_centre_y))"
      ]
    },
    {
      "cell_type": "markdown",
      "metadata": {},
      "source": [
        "### Get list of coordinates\nDefine a function to get a list of coordinates\nfrom the pocket using coordinate_indices.\n\nOrder of coordinates: start, end, extra coordinate on arc.\n\nParameters:\n\n* ``pocket`` : Region, Pocket region\n\n* ``coordinate_indices`` : list of integer, Pocket region coordinate indices\n\n* ``mirror_line`` : Line, Mirror line to generate extra coordinate on arc\n\nReturns\n\n* list of Coordinates\n\nLoop through coordinates and add to a list.\nMirror the first coordinate to generate the third coordinate on the arc.\n\n"
      ]
    },
    {
      "cell_type": "code",
      "execution_count": null,
      "metadata": {
        "collapsed": false
      },
      "outputs": [],
      "source": [
        "def get_coordinates(pocket, coordinate_indices, mirror_line=None):\n    coordinates = [pocket.points[index] for index in coordinate_indices]\n    if mirror_line is not None:\n        coordinates.append(coordinates[0].mirror(mirror_line))\n\n    return coordinates"
      ]
    },
    {
      "cell_type": "markdown",
      "metadata": {},
      "source": [
        "### Get list of coordinates for ``pocket`` arcs\nDefine functions to get a list of coordinates\nto use to generate the top and bottom arcs for ``pocket``.\n\nReturn coordinates at indices from ``pocket.points``.\nThese indices match up with coordinates from each pocket region\nwith/without corner rounding.\n\nOrder of coordinates: [start, end, centre, start, end, centre]\n\nIndices have been selected using Motor-CAD geometry editor.\n\nFor no centre post:\n\nParameters:\n\n* ``pocket`` : Region, Pocket region\n\nReturns\n\n* list of Coordinates\n\n"
      ]
    },
    {
      "cell_type": "code",
      "execution_count": null,
      "metadata": {
        "collapsed": false
      },
      "outputs": [],
      "source": [
        "def get_coordinates_no_centre_post(pocket):\n    if get_pockets_include_corner_rounding():\n        return get_coordinates(pocket, [2, 8, 5, 11, 17, 14])\n    else:\n        return get_coordinates(pocket, [1, 5, 3, 6, 0, 8])"
      ]
    },
    {
      "cell_type": "markdown",
      "metadata": {},
      "source": [
        "For centre post:\n\nParameters:\n\n* ``pocket`` : Region, Pocket region\n\nReturns:\n\n* list of Coordinates\n\nMirror required to generate the third point on arc.\nThis third point is required to calculate the centre and radius of arc.\nThe mirror line mirrors the start point of each pocket arc\nto generate this third point.\n\n"
      ]
    },
    {
      "cell_type": "code",
      "execution_count": null,
      "metadata": {
        "collapsed": false
      },
      "outputs": [],
      "source": [
        "def get_coordinates_centre_post(pocket):\n    mirror = get_rotor_mirror_line()\n    if get_pockets_include_corner_rounding():\n        return get_coordinates(pocket, [2, 5], mirror) + get_coordinates(\n            pocket, [8, 11], mirror_line=mirror\n        )\n    else:\n        return get_coordinates(pocket, [1, 3], mirror) + get_coordinates(\n            pocket, [4, 0], mirror_line=mirror\n        )"
      ]
    },
    {
      "cell_type": "markdown",
      "metadata": {},
      "source": [
        "### Update pocket geometry\nDefine a function to update the ``pocket`` entities\nto create a curved pocket using input coordinates.\n\nParameters:\n\n* ``pocket`` : Region, Pocket region\n\n* ``coordinates`` : list of Coordinate, Coordinates to generate arcs with in region\n\nCreate a list of arc entities from the coordinates.\nRemove the entities between the start and end coordinates\nof each arc, then insert into the pocket.\n\n"
      ]
    },
    {
      "cell_type": "code",
      "execution_count": null,
      "metadata": {
        "collapsed": false
      },
      "outputs": [],
      "source": [
        "def update_pocket_geometry(pocket, coordinates):\n    entities = []\n    # create list of arc entities from coordinates\n    for element in range(0, len(coordinates), 3):\n        if (element + 1) % 2 == 0:\n            # clockwise arc\n            arc_direction = -1\n        else:\n            # ant-clockwise arc\n            arc_direction = 1\n\n        # get arc radius and centre point from three coordinates across the arc\n        radius, centre = get_barrier_centre_and_radius(\n            coordinates[element],  # arc start coordinate\n            coordinates[element + 1],  # arc end coordinate\n            coordinates[element + 2],  # arc third coordinate\n            arc_direction,\n        )\n        entities.append(\n            Arc(\n                coordinates[element],\n                coordinates[element + 1],\n                centre,\n                radius,\n            )\n        )\n    # remove entities between start and end coordinates of each arc then insert into pocket\n    for count, element in enumerate(range(0, len(coordinates), 3)):\n        start_index = pocket.points.index(coordinates[element])\n        end_index = pocket.points.index(coordinates[element + 1])\n        if end_index == 0:\n            end_index = len(pocket.points)\n\n        # use index of start/end coordinates to remove pockets entities between them\n        for index in reversed(range(start_index, end_index)):\n            pocket.entities.pop(index)\n\n        pocket.insert_entity(start_index, entities[count])"
      ]
    },
    {
      "cell_type": "markdown",
      "metadata": {},
      "source": [
        "### Get unique pocket name\nDefine a function to return the unique pocket name\nused in Motor-CAD.\n\nParameters:\n\n* ``index`` : integer, Current pocket index\n\nReturns:\n\n* string\n\n"
      ]
    },
    {
      "cell_type": "code",
      "execution_count": null,
      "metadata": {
        "collapsed": false
      },
      "outputs": [],
      "source": [
        "def get_pocket_name(index):\n    if index == 0:\n        return \"Rotor Pocket\"\n    else:\n        return \"Rotor Pocket_\" + str(index)"
      ]
    },
    {
      "cell_type": "markdown",
      "metadata": {},
      "source": [
        "## Create the Adaptive Templates geometry\nGet the number of layers in the rotor for the Motor-CAD file\n\n"
      ]
    },
    {
      "cell_type": "code",
      "execution_count": null,
      "metadata": {
        "collapsed": false
      },
      "outputs": [],
      "source": [
        "pocket_number = 0\nnumber_layers = mc.get_variable(\"Magnet_Layers\")"
      ]
    },
    {
      "cell_type": "markdown",
      "metadata": {},
      "source": [
        "For each layer:\n\n* Get the U-Shape layer parameters\n\n* Raise an exception if the curved barrier\n  can't be created for a layer\n  due to the thickness being zero\n\n* Raise an exception if the curved barrier\n  can't be created for a layer\n  due to the post width being zero\n\n* Get the pocket from Motor-CAD using unique name\n\n* Determine whether there are 1 or 2 pockets in the layer\n  and get the new coordinates\n\n* Update the rotor pocket geometry with the new coordinates\n\n* Set the updated pocket region in Motor-CAD\n\n* If there are 2 pockets in the layer,\n  the left pocket region is updated first.\n  This is then mirrored to update the right pocket region.\n\n"
      ]
    },
    {
      "cell_type": "code",
      "execution_count": null,
      "metadata": {
        "collapsed": false
      },
      "outputs": [],
      "source": [
        "for layer in range(number_layers):\n    # get U-Shape layer parameters\n    outer_thickness = mc.get_array_variable(\"UShape_Thickness_Outer_Array\", layer)\n    outer_post_width = mc.get_array_variable(\"UShape_Post_Outer_Array\", layer)\n    inner_thickness = mc.get_array_variable(\"UShape_Thickness_Inner_Array\", layer)\n    inner_post_width = mc.get_array_variable(\"UShape_Post_Inner_Array\", layer)\n    centre_post_width = mc.get_array_variable(\"UShape_CentrePost_Array\", layer)\n\n    if (inner_thickness == 0) or (outer_thickness == 0):\n        message_string = (\n            \"Unable to create curved barrier for layer \"\n            + str(layer)\n            + \". No inner/outer thickness.\"\n        )\n        raise Exception(message_string)\n    elif (outer_post_width > 0) or (inner_post_width > 0):\n        message_string = (\n            \"Unable to create curved barrier for layer \"\n            + str(layer)\n            + \". Inner/Outer post width > 0\"\n        )\n        raise Exception(message_string)\n\n    # get pocket from Motor-CAD using unique name\n    pocket_left = mc.get_region(get_pocket_name(pocket_number))\n\n    if centre_post_width == 0:\n        # no centre post, single rotor pocket in layer\n        new_coordinates = get_coordinates_no_centre_post(pocket_left)\n    else:\n        # centre post, two pockets per layer\n        new_coordinates = get_coordinates_centre_post(pocket_left)\n\n    update_pocket_geometry(pocket_left, new_coordinates)\n    # increment pocket number to get next pocket from Motor-CAD\n    pocket_number += 1\n\n    if pocket_left.is_closed():\n        # set region back into Motor-CAD\n        mc.set_region(pocket_left)\n\n    if centre_post_width > 0:\n        # mirror left barrier/pocket region across the rotor using mirror line\n        pocket_right = pocket_left.mirror(get_rotor_mirror_line(), unique_name=False)\n        pocket_right.name = get_pocket_name(pocket_number)\n        # increment pocket number to get next pocket from Motor-CAD\n        pocket_number += 1\n\n        if pocket_right.is_closed():\n            # set region back into Motor-CAD\n            mc.set_region(pocket_right)"
      ]
    },
    {
      "cell_type": "markdown",
      "metadata": {},
      "source": [
        "## Load in Adaptive Templates Script if required\nWhen the script is run externally:\n\n* Set Geometry type to \"Adaptive\"\n\n* Load the script into the Adaptive Templates tab\n\n* Go to the Geometry -> Radial tab to run the Adaptive Templates Script and display the new\n  geometry\n\n"
      ]
    },
    {
      "cell_type": "code",
      "execution_count": null,
      "metadata": {
        "collapsed": false
      },
      "outputs": [],
      "source": [
        "if not pymotorcad.is_running_in_internal_scripting():\n    mc.set_variable(\"GeometryTemplateType\", 1)\n    mc.load_adaptive_script(sys.argv[0])\n    mc.display_screen(\"Geometry;Radial\")"
      ]
    },
    {
      "cell_type": "markdown",
      "metadata": {},
      "source": [
        "<img src=\"file://../../images/UShapeSYNCRELCurvedFluxBarriers.png\">\n\n"
      ]
    }
  ],
  "metadata": {
    "kernelspec": {
      "display_name": "Python 3",
      "language": "python",
      "name": "python3"
    },
    "language_info": {
      "codemirror_mode": {
        "name": "ipython",
        "version": 3
      },
      "file_extension": ".py",
      "mimetype": "text/x-python",
      "name": "python",
      "nbconvert_exporter": "python",
      "pygments_lexer": "ipython3",
      "version": "3.10.8"
    }
  },
  "nbformat": 4,
  "nbformat_minor": 0
}