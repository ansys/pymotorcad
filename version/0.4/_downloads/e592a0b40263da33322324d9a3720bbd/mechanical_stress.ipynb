{
  "cells": [
    {
      "cell_type": "markdown",
      "metadata": {},
      "source": [
        "\n\n# Mechanical stress\nThis example demonstrates internal scripting mechanical stress functionality\n"
      ]
    },
    {
      "cell_type": "markdown",
      "metadata": {},
      "source": [
        "Perform required imports\n\n"
      ]
    },
    {
      "cell_type": "code",
      "execution_count": null,
      "metadata": {
        "collapsed": false
      },
      "outputs": [],
      "source": [
        "import ansys.motorcad.core as pymotorcad"
      ]
    },
    {
      "cell_type": "markdown",
      "metadata": {},
      "source": [
        "Launch Motor-CAD\n\n"
      ]
    },
    {
      "cell_type": "code",
      "execution_count": null,
      "metadata": {
        "collapsed": false
      },
      "outputs": [],
      "source": [
        "mc = pymotorcad.MotorCAD()\n\n\n# This function is called when \"Run\" is pressed\ndef main():\n    pass\n\n\nclass mechanical_stress:\n    def initial(self):\n        # %%\n        # Disable pop-up messages\n        mc.set_variable(\"MessageDisplayState\", 2)\n        # Called before calculation\n        mc.set_variable(\"ShaftSpeed\", 1500)\n\n    def final(self):\n        # Called after calculation\n        yield_stress = mc.get_variable(\"YieldStress_RotorLam\")\n        max_stress = mc.get_variable(\"MaxStress_RotorLam\")\n\n        print(\"Max Stress: \" + str(max_stress))\n\n        safety_factor = yield_stress / max_stress\n\n        print(\"Safety factor is: \" + str(round(safety_factor, 3)))\n\n        mc.set_variable(\"MessageDisplayState\", 0)"
      ]
    },
    {
      "cell_type": "markdown",
      "metadata": {},
      "source": [
        "## PyMotorCAD Documentation Example\n(Used for the PyMotorCAD Documentation Examples only)\n\n"
      ]
    },
    {
      "cell_type": "code",
      "execution_count": null,
      "metadata": {
        "collapsed": false
      },
      "outputs": [],
      "source": [
        "try:\n    from setup_scripts.setup_script import run_mech_stress_demo\nexcept ImportError:\n    pass\nelse:\n    run_mech_stress_demo(mc)"
      ]
    }
  ],
  "metadata": {
    "kernelspec": {
      "display_name": "Python 3",
      "language": "python",
      "name": "python3"
    },
    "language_info": {
      "codemirror_mode": {
        "name": "ipython",
        "version": 3
      },
      "file_extension": ".py",
      "mimetype": "text/x-python",
      "name": "python",
      "nbconvert_exporter": "python",
      "pygments_lexer": "ipython3",
      "version": "3.10.8"
    }
  },
  "nbformat": 4,
  "nbformat_minor": 0
}