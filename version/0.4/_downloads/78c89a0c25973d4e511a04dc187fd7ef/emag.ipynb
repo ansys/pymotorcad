{
  "cells": [
    {
      "cell_type": "markdown",
      "metadata": {},
      "source": [
        "\n\n# E-magnetic\nThis example demonstrates internal scripting E-Mag functionality\n"
      ]
    },
    {
      "cell_type": "code",
      "execution_count": null,
      "metadata": {
        "collapsed": false
      },
      "outputs": [],
      "source": [
        "import ansys.motorcad.core as pymotorcad\n\nmc = pymotorcad.MotorCAD()"
      ]
    },
    {
      "cell_type": "markdown",
      "metadata": {},
      "source": [
        "Disable pop-up messages\n\n"
      ]
    },
    {
      "cell_type": "code",
      "execution_count": null,
      "metadata": {
        "collapsed": false
      },
      "outputs": [],
      "source": [
        "mc.set_variable(\"MessageDisplayState\", 2)\n\n\n# This function is called when \"Run\" is pressed\ndef main():\n    pass\n\n\nclass emagnetic:\n    def initial(self):\n        mc.display_screen(\"Scripting\")\n        shaft_speed = mc.get_variable(\"ShaftSpeed\")\n        if shaft_speed > 1000:\n            print(\"Shaft speed is too high. Resetting to 500\")\n            mc.set_variable(\"ShaftSpeed\", 500)\n\n    def final(self):\n        loss_total = mc.get_variable(\"loss_total\")\n        # display total loss rounded to 2dp if available\n        print(\"total loss is: \" + str(round(loss_total, 2)))\n        mc.display_screen(\"Calculation\")"
      ]
    },
    {
      "cell_type": "markdown",
      "metadata": {},
      "source": [
        "## PyMotorCAD Documentation Example\n(Used for the PyMotorCAD Documentation Examples only)\n\n"
      ]
    },
    {
      "cell_type": "code",
      "execution_count": null,
      "metadata": {
        "collapsed": false
      },
      "outputs": [],
      "source": [
        "try:\n    from setup_scripts.setup_script import run_emag_demo\nexcept ImportError:\n    pass\nelse:\n    run_emag_demo(mc)\n\nmc.set_variable(\"MessageDisplayState\", 0)"
      ]
    }
  ],
  "metadata": {
    "kernelspec": {
      "display_name": "Python 3",
      "language": "python",
      "name": "python3"
    },
    "language_info": {
      "codemirror_mode": {
        "name": "ipython",
        "version": 3
      },
      "file_extension": ".py",
      "mimetype": "text/x-python",
      "name": "python",
      "nbconvert_exporter": "python",
      "pygments_lexer": "ipython3",
      "version": "3.10.8"
    }
  },
  "nbformat": 4,
  "nbformat_minor": 0
}