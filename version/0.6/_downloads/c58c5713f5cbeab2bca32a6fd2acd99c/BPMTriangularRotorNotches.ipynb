{
  "cells": [
    {
      "cell_type": "markdown",
      "metadata": {},
      "source": [
        "\n\n# Triangular Rotor Notches for IPM\nThis script applies the adaptive templates functionality to create triangular rotor notches to\nimprove NVH performance.\n"
      ]
    },
    {
      "cell_type": "markdown",
      "metadata": {},
      "source": [
        "<div class=\"alert alert-info\"><h4>Note</h4><p>For more information on the use of Adaptive Templates in Motor-CAD, and how to create, modify\n   and debug Adaptive Templates Scripts, see `ref_adaptive_templates_UG` in the\n   `ref_user_guide`.</p></div>\n\n<div class=\"alert alert-info\"><h4>Note</h4><p>Adaptive Templates in Motor-CAD require v2024.1.2 (Motor-CAD 2024 R1 Update) or later and\n   PyMotorCAD v0.4.1. To update PyMotorCAD in Motor-CAD, go to Scripting -> Settings -> PyMotorCAD\n   updates and select 'Update to Latest Release'.</p></div>\n\nThis script is designed to be run from Motor-CAD template \"e9\". If no Motor-CAD file is open, the\ne9 template will be loaded.\n\nThis script uses the following adaptive parameters:\n\n* Notch Angle (-4)\n\n* Notch Sweep (5)\n\n* Notch Depth (1)\n\n* Notches per Pole (2)\n\nIf these parameters are not already set up in the Motor-CAD file, the parameters will be\nautomatically set, with the default values shown in brackets.\n\nTo set an adaptive geometry for a Motor-CAD file, a script must be loaded in to the Adaptive\nTemplates tab (Geometry -> Editor -> Adaptive Templates) in Motor-CAD and run. When the option\n'Geometry Templates Type' is set to 'Adaptive', this script is automatically run repeatedly to\nkeep the Adaptive Geometry set in Motor-CAD.\n\n<img src=\"file://../../images/Adaptive_Templates_GUI_Screenshot.png\">\n\nThis Python script can also be executed externally. When executed externally, a Motor-CAD instance\nwill be launched and a file based on the \"e9\" template will be saved to a temporary folder. This\nscript will be loaded into the Adaptive Templates tab.\n\n"
      ]
    },
    {
      "cell_type": "markdown",
      "metadata": {},
      "source": [
        "## Perform Required imports\nImport the ``pymotorcad`` package to access Motor-CAD. Import the ``triangular_notch`` function to\ncreate the notch geometry region with Adaptive Templates geometry. Import the ``os``, ``shutil``,\n``sys``, and ``tempfile`` packages to open and save a temporary MOT file if none is open.\n\n"
      ]
    },
    {
      "cell_type": "code",
      "execution_count": null,
      "metadata": {
        "collapsed": false
      },
      "outputs": [],
      "source": [
        "import os\nimport shutil\nimport sys\nimport tempfile\n\nimport ansys.motorcad.core as pymotorcad\nfrom ansys.motorcad.core.geometry_shapes import triangular_notch"
      ]
    },
    {
      "cell_type": "markdown",
      "metadata": {},
      "source": [
        "## Connect to Motor-CAD\nIf this script is loaded into the Adaptive Templates file in Motor-CAD, the current Motor-CAD\ninstance is used.\n\nIf the script is run externally, these actions occur: a new Motor-CAD instance is opened,\nthe e9 IPM motor template is loaded, and the file is saved to a temporary folder.\nTo keep a new Motor-CAD instance open after executing the script, use the\n``MotorCAD(keep_instance_open=True)`` option when opening the new instance.\nAlternatively, use the ``MotorCAD()`` method, which closes the Motor-CAD instance after the\nscript is executed.\n\n"
      ]
    },
    {
      "cell_type": "code",
      "execution_count": null,
      "metadata": {
        "collapsed": false
      },
      "outputs": [],
      "source": [
        "if pymotorcad.is_running_in_internal_scripting():\n    # Use existing Motor-CAD instance if possible\n    mc = pymotorcad.MotorCAD(open_new_instance=False)\nelse:\n    mc = pymotorcad.MotorCAD(keep_instance_open=True)\n    # Disable popup messages\n    mc.set_variable(\"MessageDisplayState\", 2)\n    mc.set_visible(True)\n    mc.load_template(\"e9\")\n\n    # Open relevant file\n    working_folder = os.path.join(tempfile.gettempdir(), \"adaptive_library\")\n    try:\n        shutil.rmtree(working_folder)\n    except:\n        pass\n    os.mkdir(working_folder)\n    mot_name = \"BPMTriRotorNotches\"\n    mc.save_to_file(working_folder + \"/\" + mot_name + \".mot\")\n\n# Reset geometry to default\nmc.reset_adaptive_geometry()"
      ]
    },
    {
      "cell_type": "markdown",
      "metadata": {},
      "source": [
        "## Set Adaptive Parameters if required\nFour Adaptive Parameters are required for this adaptive template. These are used to define the\nnumber of rotor notches to be added, their position and size.\n\nIf the Adaptive Parameters have already been set in the current Motor-CAD file, their current\nvalues will be used. Otherwise, the Adaptive Parameters will be defined and set to default values.\n\nThe function ``set_default_parameter`` is defined to check if a parameter exists, and if not,\ncreate it with a default value.\n\n"
      ]
    },
    {
      "cell_type": "code",
      "execution_count": null,
      "metadata": {
        "collapsed": false
      },
      "outputs": [],
      "source": [
        "def set_default_parameter(parameter_name, default_value):\n    try:\n        mc.get_adaptive_parameter_value(parameter_name)\n    except pymotorcad.MotorCADError:\n        mc.set_adaptive_parameter_value(parameter_name, default_value)"
      ]
    },
    {
      "cell_type": "markdown",
      "metadata": {},
      "source": [
        "Use the ``set_default_parameter`` to set the required parameters if undefined\n\n"
      ]
    },
    {
      "cell_type": "code",
      "execution_count": null,
      "metadata": {
        "collapsed": false
      },
      "outputs": [],
      "source": [
        "set_default_parameter(\"Notch Angle\", -4)\nset_default_parameter(\"Notch Sweep\", 5)\nset_default_parameter(\"Notch Depth\", 1)\nset_default_parameter(\"Notches per Pole\", 2)"
      ]
    },
    {
      "cell_type": "markdown",
      "metadata": {},
      "source": [
        "## Get required parameters and objects\nGet the Adaptive Parameters specified in Motor-CAD, and their values\n\n"
      ]
    },
    {
      "cell_type": "code",
      "execution_count": null,
      "metadata": {
        "collapsed": false
      },
      "outputs": [],
      "source": [
        "notch_angle = mc.get_adaptive_parameter_value(\"notch angle\")\nnotch_angular_width = mc.get_adaptive_parameter_value(\"notch sweep\")\nnotch_depth = mc.get_adaptive_parameter_value(\"notch depth\")\nnumber_notches = int(mc.get_adaptive_parameter_value(\"notches per pole\"))"
      ]
    },
    {
      "cell_type": "markdown",
      "metadata": {},
      "source": [
        "Get the standard template rotor region from Motor-CAD. Calculate the rotor radius and define the\nrotor centre coordinates.\n\n"
      ]
    },
    {
      "cell_type": "code",
      "execution_count": null,
      "metadata": {
        "collapsed": false
      },
      "outputs": [],
      "source": [
        "rotor_region = mc.get_region(\"Rotor\")\n\nrotor_radius = mc.get_variable(\"RotorDiameter\") / 2\nduplication_angle = 360 / rotor_region.duplications"
      ]
    },
    {
      "cell_type": "markdown",
      "metadata": {},
      "source": [
        "Add an ``if`` statement to account for the case when a notch crosses the symmetry boundary. This\nresets ``notch_angle`` to half the ``notch_angular_width`` away from the boundary.\n\n"
      ]
    },
    {
      "cell_type": "code",
      "execution_count": null,
      "metadata": {
        "collapsed": false
      },
      "outputs": [],
      "source": [
        "if notch_angle > (duplication_angle / (2 * number_notches)) - (notch_angular_width / 2):\n    # Limit so notch does not cross the symmetry boundary\n    notch_angle = (duplication_angle / (2 * number_notches)) - notch_angular_width / 2\n    mc.show_message(\"Adaptive Parameter: 'notch angle' not valid, reset to \" + str(notch_angle))\n    mc.set_adaptive_parameter_value(\"notch angle\", notch_angle)"
      ]
    },
    {
      "cell_type": "markdown",
      "metadata": {},
      "source": [
        "Add an ``if`` statement to account for the case when notches overlap at the centre of the pole.\nThis resets ``notch_angle`` to:\n\n* Half the ``notch_angular_width`` away from the pole centre when there are an even number of\n  notches\n\n* The full ``notch_angular_width`` away from the pole centre when there are an odd number of\n  notches\n\n"
      ]
    },
    {
      "cell_type": "code",
      "execution_count": null,
      "metadata": {
        "collapsed": false
      },
      "outputs": [],
      "source": [
        "if number_notches % 2 == 0:\n    x = -1\nelse:\n    x = -2\n\nif notch_angle < -((duplication_angle / (2 * number_notches)) - (notch_angular_width / 2)):\n    # Limit so notches do not overlap at centre of pole\n    notch_angle = x * ((duplication_angle / (2 * number_notches)) - notch_angular_width / 2)\n    mc.show_message(\"Adaptive Parameter: 'notch angle' not valid, reset to \" + str(notch_angle))\n    mc.set_adaptive_parameter_value(\"notch angle\", notch_angle)"
      ]
    },
    {
      "cell_type": "markdown",
      "metadata": {},
      "source": [
        "## Create the Adaptive Templates geometry\nFor each notch to be added:\n\n* Calculate the angular position of the notch in mechanical degrees\n\n* Apply the offset angle. For notches on the left side of the pole, the position is shifted by\n  ``+ notch_angle`` mechanical degrees. For notches on the right side of the pole, the position is\n  shifted by ``- notch_angle`` mechanical degrees.\n\n* Create the notch Region using the ``triangular_notch()`` function, imported from\n  ``ansys.motorcad.core.geometry_shapes``. The arguments for the function are:\n\n  * rotor_radius\n\n  * notch_angular_width\n\n  * notch_centre_angle\n\n  * notch_depth\n\n* Define the properties for the notch region\n\n  * name\n\n  * colour\n\n  * duplication angle\n\n  * material\n\n* set the notch's ``parent`` to the rotor region. This will allow Motor-CAD to treat the notch as\n  a sub-region of the rotor and handle subtractions automatically.\n\n* If the notch is closed, set the region in Motor-CAD.\n\n"
      ]
    },
    {
      "cell_type": "code",
      "execution_count": null,
      "metadata": {
        "collapsed": false
      },
      "outputs": [],
      "source": [
        "for notch_loop in range(0, number_notches):\n    notch_name = \"Rotor_Notch_\" + str(notch_loop + 1)\n\n    # angular position of notch\n    notch_centre_angle = ((2 * notch_loop) + 1) * (duplication_angle / (2 * number_notches))\n\n    # Offset angle by notch_angle\n    if notch_centre_angle < duplication_angle / 2:\n        notch_centre_angle = notch_centre_angle - notch_angle\n    if notch_centre_angle > duplication_angle / 2:\n        notch_centre_angle = notch_centre_angle + notch_angle\n\n    # generate a triangular notch region\n    notch = triangular_notch(rotor_radius, notch_angular_width, notch_centre_angle, notch_depth)\n\n    # notch properties\n    notch.name = notch_name\n    notch.colour = (255, 255, 255)\n    notch.duplications = rotor_region.duplications\n    notch.material = \"Air\"\n    notch.parent = rotor_region\n\n    if notch.is_closed():\n        mc.set_region(notch)"
      ]
    },
    {
      "cell_type": "markdown",
      "metadata": {},
      "source": [
        "<img src=\"file://../../images/BPMTriangularRotorNotches.png\" width=\"300pt\">\n\n"
      ]
    },
    {
      "cell_type": "markdown",
      "metadata": {},
      "source": [
        "## Load in Adaptive Templates script if required\nWhen this script is run externally, the script executes the following:\n\n* Set **Geometry type** to **Adaptive**.\n\n* Load the script into the **Adaptive Templates** tab.\n\n* Go to the **Geometry -> Radial** tab to run the Adaptive Templates script and display the new\n  geometry.\n\n"
      ]
    },
    {
      "cell_type": "markdown",
      "metadata": {},
      "source": [
        "<div class=\"alert alert-info\"><h4>Note</h4><p>When running in a Jupyter Notebook, you must provide the path for the Adaptive Templates script\n   (PY file) instead of ``sys.argv[0]`` when using the ``load_adaptive_script()`` method.</p></div>\n\n"
      ]
    },
    {
      "cell_type": "code",
      "execution_count": null,
      "metadata": {
        "collapsed": false
      },
      "outputs": [],
      "source": [
        "if not pymotorcad.is_running_in_internal_scripting():\n    mc.set_variable(\"GeometryTemplateType\", 1)\n    mc.load_adaptive_script(sys.argv[0])\n    mc.display_screen(\"Geometry;Radial\")"
      ]
    }
  ],
  "metadata": {
    "kernelspec": {
      "display_name": "Python 3",
      "language": "python",
      "name": "python3"
    },
    "language_info": {
      "codemirror_mode": {
        "name": "ipython",
        "version": 3
      },
      "file_extension": ".py",
      "mimetype": "text/x-python",
      "name": "python",
      "nbconvert_exporter": "python",
      "pygments_lexer": "ipython3",
      "version": "3.10.11"
    }
  },
  "nbformat": 4,
  "nbformat_minor": 0
}