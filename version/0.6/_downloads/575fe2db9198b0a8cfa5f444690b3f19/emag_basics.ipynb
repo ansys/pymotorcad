{
  "cells": [
    {
      "cell_type": "markdown",
      "metadata": {},
      "source": [
        "\n\n# Motor-CAD E-magnetic example script\nThis example provides a Motor-CAD E-magnetic script. This script\ncreates a partial custom winding pattern to change\nparameter values, run the analysis, and plot results. To create\na full winding pattern, parameters must be specified\nfor all coils.\n"
      ]
    },
    {
      "cell_type": "markdown",
      "metadata": {},
      "source": [
        "## Set up example\nSetting up this example consists of performing imports, specifying the\nworking directory, launching Motor-CAD, and disabling all popup\nmessages from Motor-CAD.\n\n### Perform required imports\n\n"
      ]
    },
    {
      "cell_type": "code",
      "execution_count": null,
      "metadata": {
        "collapsed": false
      },
      "outputs": [],
      "source": [
        "import os\n\nimport matplotlib.pyplot as plt\n\nimport ansys.motorcad.core as pymotorcad\n\nif \"QT_API\" in os.environ:\n    os.environ[\"QT_API\"] = \"pyqt\""
      ]
    },
    {
      "cell_type": "markdown",
      "metadata": {},
      "source": [
        "### Specify working directory\n\n"
      ]
    },
    {
      "cell_type": "code",
      "execution_count": null,
      "metadata": {
        "collapsed": false
      },
      "outputs": [],
      "source": [
        "working_folder = os.getcwd()\n\nif os.path.isdir(working_folder) is False:\n    print(\"Working folder does not exist. Choose a folder that exists and try again.\")\n    print(working_folder)\n    exit()"
      ]
    },
    {
      "cell_type": "markdown",
      "metadata": {},
      "source": [
        "### Launch Motor-CAD\n\n"
      ]
    },
    {
      "cell_type": "code",
      "execution_count": null,
      "metadata": {
        "collapsed": false
      },
      "outputs": [],
      "source": [
        "print(\"Starting initialization.\")\nmcad = pymotorcad.MotorCAD()"
      ]
    },
    {
      "cell_type": "markdown",
      "metadata": {},
      "source": [
        "### Disable popup messages\n\n"
      ]
    },
    {
      "cell_type": "code",
      "execution_count": null,
      "metadata": {
        "collapsed": false
      },
      "outputs": [],
      "source": [
        "mcad.set_variable(\"MessageDisplayState\", 2)\nprint(\"Initialization completed.\")\nprint(\"Running simulation.\")"
      ]
    },
    {
      "cell_type": "markdown",
      "metadata": {},
      "source": [
        "## Create analysis\nCreating the analysis consists of showing the magnetic context, displaying\nthe **Scripting** tab, setting the geometry and parameters, and saving\nthe file.\n\nShow the magnetic context.\n\n"
      ]
    },
    {
      "cell_type": "code",
      "execution_count": null,
      "metadata": {
        "collapsed": false
      },
      "outputs": [],
      "source": [
        "mcad.show_magnetic_context()"
      ]
    },
    {
      "cell_type": "markdown",
      "metadata": {},
      "source": [
        "Display the **Scripting** tab.\n\n"
      ]
    },
    {
      "cell_type": "code",
      "execution_count": null,
      "metadata": {
        "collapsed": false
      },
      "outputs": [],
      "source": [
        "mcad.display_screen(\"Scripting\")"
      ]
    },
    {
      "cell_type": "markdown",
      "metadata": {},
      "source": [
        "Set the geometry.\n\n"
      ]
    },
    {
      "cell_type": "code",
      "execution_count": null,
      "metadata": {
        "collapsed": false
      },
      "outputs": [],
      "source": [
        "mcad.set_variable(\"Slot_Number\", 24)\nmcad.set_variable(\"Tooth_Width\", 6)\nmcad.set_variable(\"Magnet_Thickness\", 4.5)"
      ]
    },
    {
      "cell_type": "markdown",
      "metadata": {},
      "source": [
        "Set parameters for creating the custom winding pattern.\n\nThe following code creates only a partial winding pattern.\n\nSet the winding type to custom:\n:code:`mcad.set_variable('MagWindingType', 1)`\n\nSet the path type to upper and lower:\n:code:`mcad.set_variable('MagPathType', 1)`\n\nSet the number of phases:\n:code:`mcad.set_variable('MagPhases', 3)`\n\nSet the number of parallel paths:\n:code:`mcad.set_variable('ParallelPaths', 1)`\n\nSet the number of winding layers:\n:code:`mcad.set_variable('WindingLayers', 2)`\n\nDefine a coil's parameters:\n:code:`set_winding_coil(phase,\npath, coil, go_slot, go_position, return_slot, return_position, turns)`\n\n"
      ]
    },
    {
      "cell_type": "markdown",
      "metadata": {},
      "source": [
        "Set the stator/rotor lamination materials.\n\n"
      ]
    },
    {
      "cell_type": "code",
      "execution_count": null,
      "metadata": {
        "collapsed": false
      },
      "outputs": [],
      "source": [
        "mcad.set_component_material(\"Stator Lam (Back Iron)\", \"M250-35A\")\nmcad.set_component_material(\"Rotor Lam (Back Iron)\", \"M250-35A\")"
      ]
    },
    {
      "cell_type": "markdown",
      "metadata": {},
      "source": [
        "Set the torque calculation options.\n\n"
      ]
    },
    {
      "cell_type": "code",
      "execution_count": null,
      "metadata": {
        "collapsed": false
      },
      "outputs": [],
      "source": [
        "points_per_cycle = 30\nnumber_cycles = 1\nmcad.set_variable(\"TorquePointsPerCycle\", points_per_cycle)\nmcad.set_variable(\"TorqueNumberCycles\", number_cycles)"
      ]
    },
    {
      "cell_type": "markdown",
      "metadata": {},
      "source": [
        "Disable all performance tests except the ones for transient torque.\n\n"
      ]
    },
    {
      "cell_type": "code",
      "execution_count": null,
      "metadata": {
        "collapsed": false
      },
      "outputs": [],
      "source": [
        "mcad.set_variable(\"BackEMFCalculation\", False)\nmcad.set_variable(\"CoggingTorqueCalculation\", False)\nmcad.set_variable(\"ElectromagneticForcesCalc_OC\", False)\nmcad.set_variable(\"TorqueSpeedCalculation\", False)\nmcad.set_variable(\"DemagnetizationCalc\", False)\nmcad.set_variable(\"ElectromagneticForcesCalc_Load\", False)\nmcad.set_variable(\"InductanceCalc\", False)\nmcad.set_variable(\"BPMShortCircuitCalc\", False)"
      ]
    },
    {
      "cell_type": "markdown",
      "metadata": {},
      "source": [
        "Enable transient torque.\n\n"
      ]
    },
    {
      "cell_type": "code",
      "execution_count": null,
      "metadata": {
        "collapsed": false
      },
      "outputs": [],
      "source": [
        "mcad.set_variable(\"TorqueCalculation\", True)"
      ]
    },
    {
      "cell_type": "markdown",
      "metadata": {},
      "source": [
        "Set the operating point.\n\n"
      ]
    },
    {
      "cell_type": "code",
      "execution_count": null,
      "metadata": {
        "collapsed": false
      },
      "outputs": [],
      "source": [
        "mcad.set_variable(\"Shaft_Speed_[RPM]\", 1000)\nmcad.set_variable(\"CurrentDefinition\", 0)\nmcad.set_variable(\"PeakCurrent\", 3)\nmcad.set_variable(\"DCBusVoltage\", 350)\nmcad.set_variable(\"PhaseAdvance\", 45)"
      ]
    },
    {
      "cell_type": "markdown",
      "metadata": {},
      "source": [
        "Save the file.\n\n"
      ]
    },
    {
      "cell_type": "code",
      "execution_count": null,
      "metadata": {
        "collapsed": false
      },
      "outputs": [],
      "source": [
        "filename = os.path.join(working_folder, \"../ActiveX_Scripting_EMagnetic.mot\")\nmcad.save_to_file(filename)"
      ]
    },
    {
      "cell_type": "markdown",
      "metadata": {},
      "source": [
        "## Run simulation\nRun the simulation.\n\n"
      ]
    },
    {
      "cell_type": "code",
      "execution_count": null,
      "metadata": {
        "collapsed": false
      },
      "outputs": [],
      "source": [
        "mcad.do_magnetic_calculation()"
      ]
    },
    {
      "cell_type": "markdown",
      "metadata": {},
      "source": [
        "## Export results to CSV file\nExport results to a CSV file.\n\n"
      ]
    },
    {
      "cell_type": "code",
      "execution_count": null,
      "metadata": {
        "collapsed": false
      },
      "outputs": [],
      "source": [
        "exportFile = os.path.join(working_folder, \"../Export_EMag_Results.csv\")\ntry:\n    mcad.export_results(\"EMagnetic\", exportFile)\n    print(\"Results successfully exported.\")\nexcept pymotorcad.MotorCADError:\n    print(\"Results failed to export.\")"
      ]
    },
    {
      "cell_type": "markdown",
      "metadata": {},
      "source": [
        "## Get and analyze results\nGet torque and voltage data.\n\n"
      ]
    },
    {
      "cell_type": "code",
      "execution_count": null,
      "metadata": {
        "collapsed": false
      },
      "outputs": [],
      "source": [
        "shaft_torque = mcad.get_variable(\"ShaftTorque\")\nline_voltage = mcad.get_variable(\"PeakLineLineVoltage\")"
      ]
    },
    {
      "cell_type": "markdown",
      "metadata": {},
      "source": [
        "Graph the torque data.\n\n"
      ]
    },
    {
      "cell_type": "code",
      "execution_count": null,
      "metadata": {
        "collapsed": false
      },
      "outputs": [],
      "source": [
        "num_torque_points = points_per_cycle * number_cycles\nrotor_position = []\ntorque_vw = []\n\nfor n in range(num_torque_points):\n    (x, y) = mcad.get_magnetic_graph_point(\"TorqueVW\", n)\n    rotor_position.append(x)\n    torque_vw.append(y)"
      ]
    },
    {
      "cell_type": "markdown",
      "metadata": {},
      "source": [
        "Graph the airgap flux density data.\n\n"
      ]
    },
    {
      "cell_type": "code",
      "execution_count": null,
      "metadata": {
        "collapsed": false
      },
      "outputs": [],
      "source": [
        "loop = 0\nsuccess = 0\nmech_angle = []\nairgap_flux_density = []"
      ]
    },
    {
      "cell_type": "markdown",
      "metadata": {},
      "source": [
        "Keep looking until you cannot find the point.\n\n"
      ]
    },
    {
      "cell_type": "code",
      "execution_count": null,
      "metadata": {
        "collapsed": false
      },
      "outputs": [],
      "source": [
        "while success == 0:\n    try:\n        (x, y) = mcad.get_fea_graph_point(\"B Gap (on load)\", 1, loop, 0)\n        mech_angle.append(x)\n        airgap_flux_density.append(y)\n        loop = loop + 1\n    except pymotorcad.MotorCADError:\n        success = 1"
      ]
    },
    {
      "cell_type": "markdown",
      "metadata": {},
      "source": [
        "Graph the harmonic data.\n\n"
      ]
    },
    {
      "cell_type": "code",
      "execution_count": null,
      "metadata": {
        "collapsed": false
      },
      "outputs": [],
      "source": [
        "mcad.initialise_tab_names()\nmcad.display_screen(\"Graphs;Harmonics;Torque\")\n\nnum_harmonic_points = (points_per_cycle * number_cycles) + 1\ndata_point = []\ntorque = []\nfor n in range(num_harmonic_points):\n    try:\n        (x, y) = mcad.get_magnetic_graph_point(\"HarmonicDataCycle\", n)\n        data_point.append(x)\n        torque.append(y)\n    except pymotorcad.MotorCADError:\n        print(\"Results failed to export.\")\n\n\nprint(\"Simulation completed.\")"
      ]
    },
    {
      "cell_type": "markdown",
      "metadata": {},
      "source": [
        "## Plot results\nPlot results from the simulation.\n\n"
      ]
    },
    {
      "cell_type": "code",
      "execution_count": null,
      "metadata": {
        "collapsed": false
      },
      "outputs": [],
      "source": [
        "plt.subplot(211)\nplt.plot(mech_angle, airgap_flux_density)\nplt.xlabel(\"Mech Angle\")\nplt.ylabel(\"Airgap Flux Density\")\nplt.subplot(212)\nplt.plot(rotor_position, torque_vw)\nplt.xlabel(\"Rotor Position\")\nplt.ylabel(\"TorqueVW\")\nplt.figure(2)\nplt.plot(data_point, torque)\nplt.xlabel(\"DataPoint\")\nplt.ylabel(\"Torque (Nm)\")\nplt.show()"
      ]
    },
    {
      "cell_type": "markdown",
      "metadata": {},
      "source": [
        "## Exit Motor-CAD\nExit Motor-CAD.\n\n"
      ]
    },
    {
      "cell_type": "code",
      "execution_count": null,
      "metadata": {
        "collapsed": false
      },
      "outputs": [],
      "source": [
        "mcad.quit()"
      ]
    },
    {
      "cell_type": "markdown",
      "metadata": {},
      "source": [
        "If you want to continue working with this instance of Motor-CAD, rather\nthan using the preceding command, use this command:\n:code:`mcad.set_variable('MessageDisplayState', 0)`\n\n"
      ]
    }
  ],
  "metadata": {
    "kernelspec": {
      "display_name": "Python 3",
      "language": "python",
      "name": "python3"
    },
    "language_info": {
      "codemirror_mode": {
        "name": "ipython",
        "version": 3
      },
      "file_extension": ".py",
      "mimetype": "text/x-python",
      "name": "python",
      "nbconvert_exporter": "python",
      "pygments_lexer": "ipython3",
      "version": "3.10.11"
    }
  },
  "nbformat": 4,
  "nbformat_minor": 0
}