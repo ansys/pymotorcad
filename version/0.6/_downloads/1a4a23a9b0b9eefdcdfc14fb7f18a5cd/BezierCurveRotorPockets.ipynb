{
  "cells": [
    {
      "cell_type": "markdown",
      "metadata": {},
      "source": [
        "\n# Bezier curve rotor pockets\nThis script applies the adaptive templates functionality to modify rotor pockets\nwith a custom curve defined using a Bezier function.\n"
      ]
    },
    {
      "cell_type": "markdown",
      "metadata": {},
      "source": [
        "<div class=\"alert alert-info\"><h4>Note</h4><p>This script requires Motor-CAD 2024 R2 or later.</p></div>\n\n"
      ]
    },
    {
      "cell_type": "markdown",
      "metadata": {},
      "source": [
        "This script is designed to be run from a Motor-CAD model based on the e4a template (a 48 slot,\n8 pole IPM machine). The model is modified from the template by adjusting the Standard Template\ngeometry parameters as follows:\n\n* Set L1 Bridge thickness to 2 mm.\n\n* Set L1 Pole V Angle to 180 degrees.\n\n* Set L1 Magnet Post to 0 mm.\n\n* Set L1 Magnet Separation to 0 mm.\n\n* Set L1 Mag Gap Inner to 0 mm.\n\n"
      ]
    },
    {
      "cell_type": "markdown",
      "metadata": {},
      "source": [
        "<img src=\"file://../../images/Adaptive_Geometry_Bezier_e4a_1.png\">\n\n"
      ]
    },
    {
      "cell_type": "markdown",
      "metadata": {},
      "source": [
        "If no Motor-CAD file is open, the e4a template is loaded and the geometry is adjusted as\ndescribed earlier.\n\n"
      ]
    },
    {
      "cell_type": "markdown",
      "metadata": {},
      "source": [
        "## Perform required imports\nImport the ``pymotorcad`` package to access Motor-CAD.\nImport the ``Coordinate``, ``Arc``, ``Line`` and ``rt_to_xy`` objects\nto define the adaptive template geometry.\nImport ``bezier`` used to draw the curve.\nImport the ``os``, ``shutil``, ``sys`` and ``tempfile`` packages\nto open and save a temporary MOT file if none is open.\n\n"
      ]
    },
    {
      "cell_type": "code",
      "execution_count": null,
      "metadata": {
        "collapsed": false
      },
      "outputs": [],
      "source": [
        "import os\nimport shutil\nimport sys\nimport tempfile\n\nimport bezier\nimport numpy as np\n\nimport ansys.motorcad.core as pymotorcad\nfrom ansys.motorcad.core.geometry import Arc, Coordinate, Line, rt_to_xy\nfrom ansys.motorcad.core.geometry_fitting import return_entity_list"
      ]
    },
    {
      "cell_type": "markdown",
      "metadata": {},
      "source": [
        "## Connect to Motor-CAD\nIf this script is loaded into the Adaptive Templates file in Motor-CAD, the current Motor-CAD\ninstance is used.\n\nIf the script is run externally, these actions occur: a new Motor-CAD instance is opened,\nthe e4a IPM motor template is loaded, the geometry changes described earlier are applied and the\nfile is saved to a temporary folder. To keep a new Motor-CAD instance open after executing the\nscript, use the ``MotorCAD(keep_instance_open=True)`` option when opening the new instance.\nAlternatively, use the ``MotorCAD()`` method, which closes the Motor-CAD instance after the\nscript is executed.\n\n"
      ]
    },
    {
      "cell_type": "code",
      "execution_count": null,
      "metadata": {
        "collapsed": false
      },
      "outputs": [],
      "source": [
        "if pymotorcad.is_running_in_internal_scripting():\n    # Use existing Motor-CAD instance if possible\n    mc = pymotorcad.MotorCAD(open_new_instance=False)\nelse:\n    mc = pymotorcad.MotorCAD(keep_instance_open=True)\n    # Disable popup messages\n    mc.set_variable(\"MessageDisplayState\", 2)\n    mc.set_visible(True)\n    mc.load_template(\"e4a\")\n\n    # Set Standard Template geometry ready for Adaptive Templates script\n    mc.set_array_variable(\"BridgeThickness_Array\", 0, 2)  # Bridge thickness set to 0\n    mc.set_array_variable(\"PoleVAngle_Array\", 0, 180)  # Pole V angle set to 180\n    mc.set_array_variable(\"VShapeMagnetPost_Array\", 0, 0)  # Magnet Post set to 0\n    mc.set_array_variable(\"MagnetSeparation_Array\", 0, 0)  # Magnet Separation set to 0\n    mc.set_array_variable(\"VShape_Magnet_ClearanceInner\", 0, 0)  # Magnet Inner Gap set to 0\n\n    # Open relevant file\n    working_folder = os.path.join(tempfile.gettempdir(), \"adaptive_library\")\n    try:\n        shutil.rmtree(working_folder)\n    except:\n        pass\n    os.mkdir(working_folder)\n    mot_name = \"IPM_Pocket_Bezier\"\n    mc.save_to_file(working_folder + \"/\" + mot_name + \".mot\")\n\n# Reset geometry to default\nmc.reset_adaptive_geometry()"
      ]
    },
    {
      "cell_type": "markdown",
      "metadata": {},
      "source": [
        "## Set adaptive parameter if required\nThe ``set_default_parameter`` function is defined to check if a parameter exists. If not,\nit creates the parameter with a default value.\n\n"
      ]
    },
    {
      "cell_type": "code",
      "execution_count": null,
      "metadata": {
        "collapsed": false
      },
      "outputs": [],
      "source": [
        "def set_default_parameter(parameter_name, default_value):\n    try:\n        mc.get_adaptive_parameter_value(parameter_name)\n    except pymotorcad.MotorCADError:\n        mc.set_adaptive_parameter_value(parameter_name, default_value)"
      ]
    },
    {
      "cell_type": "markdown",
      "metadata": {},
      "source": [
        "Use the ``set_default_parameter()`` function to set the required ``L1 Bezier Curve Projection``,\n``L1 Upper Convex`` and ``L1 Lower Concave`` parameters if undefined.\n\n"
      ]
    },
    {
      "cell_type": "code",
      "execution_count": null,
      "metadata": {
        "collapsed": false
      },
      "outputs": [],
      "source": [
        "set_default_parameter(\"L1 Bezier Curve Projection\", 6)\nset_default_parameter(\"L1 Upper Convex\", 0.5)\nset_default_parameter(\"L1 Lower Concave\", -0.3)"
      ]
    },
    {
      "cell_type": "markdown",
      "metadata": {},
      "source": [
        "The adaptive parameters are used to define the curved rotor pocket geometry with a Bezier\nfunction. The parameters relate to the rotor pocket shape as follows:\n\n* ``L1 Bezier Curve Projection``: Defines the rotor pocket extension beyond the magnet edge in the\n  direction of the magnet length in mm.\n\n* ``L1 Upper Convex``: Defines the concave rotor pocket extension beyond the magnet edge in the\n  direction of the magnet thickness. This parameter is dependent on the magnet thickness (a\n  Standard Template parameter).\n\n* ``L1 Lower Concave``: Defines the convex rotor pocket curvature in the direction of the magnet\n  thickness. This parameter is dependent on the magnet thickness (a Standard Template parameter).\n\n<img src=\"file://../../images/Adaptive_Geometry_Bezier_e4a_2.png\">\n\n"
      ]
    },
    {
      "cell_type": "markdown",
      "metadata": {},
      "source": [
        "## Get required parameters and objects\nFrom Motor-CAD, get the adaptive parameters and their values.\n\nGet the standard template rotor region. This can be drawn for debugging if required.\n\n"
      ]
    },
    {
      "cell_type": "code",
      "execution_count": null,
      "metadata": {
        "collapsed": false
      },
      "outputs": [],
      "source": [
        "rotor_region = mc.get_region(\"Rotor\")\nrotor_radius = mc.get_variable(\"RotorDiameter\") / 2\npoles = mc.get_variable(\"Pole_Number\")\npole_angle = 360 / (poles * 2)"
      ]
    },
    {
      "cell_type": "markdown",
      "metadata": {},
      "source": [
        "Get the adaptive parameters specified in Motor-CAD, and their values\n\n"
      ]
    },
    {
      "cell_type": "code",
      "execution_count": null,
      "metadata": {
        "collapsed": false
      },
      "outputs": [],
      "source": [
        "totalprojection = mc.get_adaptive_parameter_value(\"L1 Bezier Curve Projection\")\nupperconvex = mc.get_adaptive_parameter_value(\"L1 Upper Convex\")\nlowerconcave = mc.get_adaptive_parameter_value(\"L1 Lower Concave\")"
      ]
    },
    {
      "cell_type": "markdown",
      "metadata": {},
      "source": [
        "Get the Rotor Pocket regions\n\n"
      ]
    },
    {
      "cell_type": "code",
      "execution_count": null,
      "metadata": {
        "collapsed": false
      },
      "outputs": [],
      "source": [
        "Rotor_Pocket_regions = []\nfor i in rotor_region.child_names:\n    if \"Pocket\" in i:\n        Rotor_Pocket_regions.append(mc.get_region(i))"
      ]
    },
    {
      "cell_type": "markdown",
      "metadata": {},
      "source": [
        "Get the magnet regions\n\n"
      ]
    },
    {
      "cell_type": "code",
      "execution_count": null,
      "metadata": {
        "collapsed": false
      },
      "outputs": [],
      "source": [
        "Magnet_regions = []\nfor i in rotor_region.child_names:\n    if \"Magnet\" in i:\n        Magnet_regions.append(mc.get_region(i))"
      ]
    },
    {
      "cell_type": "markdown",
      "metadata": {},
      "source": [
        "Find the magnet edge that is shared with the first rotor pocket\n\n"
      ]
    },
    {
      "cell_type": "code",
      "execution_count": null,
      "metadata": {
        "collapsed": false
      },
      "outputs": [],
      "source": [
        "for j in Magnet_regions:\n    for i in j.entities:\n        MagnetFaceLine = Rotor_Pocket_regions[0].find_entity_from_coordinates(i.start, i.end)\n        if MagnetFaceLine is not None:\n            break"
      ]
    },
    {
      "cell_type": "markdown",
      "metadata": {},
      "source": [
        "Get properties of the magnet edge that are to be used to define the new rotor pocket geometry\n\n"
      ]
    },
    {
      "cell_type": "code",
      "execution_count": null,
      "metadata": {
        "collapsed": false
      },
      "outputs": [],
      "source": [
        "LineLength = MagnetFaceLine.length\nStartCoordinate = MagnetFaceLine.start"
      ]
    },
    {
      "cell_type": "markdown",
      "metadata": {},
      "source": [
        "## Create the Adaptive Templates geometry\nRemove all existing entities from the first rotor pocket\n\n"
      ]
    },
    {
      "cell_type": "code",
      "execution_count": null,
      "metadata": {
        "collapsed": false
      },
      "outputs": [],
      "source": [
        "Rotor_Pocket_regions[0].entities.clear()"
      ]
    },
    {
      "cell_type": "markdown",
      "metadata": {},
      "source": [
        "Define the x-y points that are to be used to draw the new rotor pocket. The points are defined\nrelative to a vertical magnet edge (parallel to the y axis).\n\n"
      ]
    },
    {
      "cell_type": "code",
      "execution_count": null,
      "metadata": {
        "collapsed": false
      },
      "outputs": [],
      "source": [
        "xlist = np.array(\n    [\n        0.0,\n        totalprojection * -0.2,\n        totalprojection * -0.5,\n        -1 * totalprojection,\n        totalprojection * -0.5,\n        0.0,\n    ]\n)\nylist = np.array([0, 1 - 1 * lowerconcave, -0.5, 0.5, 1 + upperconvex, 1]) * LineLength"
      ]
    },
    {
      "cell_type": "markdown",
      "metadata": {},
      "source": [
        "Define nodes from points and create curve using bezier\n\n"
      ]
    },
    {
      "cell_type": "code",
      "execution_count": null,
      "metadata": {
        "collapsed": false
      },
      "outputs": [],
      "source": [
        "nodes2 = np.asfortranarray(\n    [\n        xlist,\n        ylist,\n    ]\n)\ncurve2 = bezier.Curve.from_nodes(nodes2)"
      ]
    },
    {
      "cell_type": "markdown",
      "metadata": {},
      "source": [
        "Create set of points for drawing the calculated bezier curve\n\n"
      ]
    },
    {
      "cell_type": "code",
      "execution_count": null,
      "metadata": {
        "collapsed": false
      },
      "outputs": [],
      "source": [
        "num_pts = 256\ns_vals = np.linspace(0.0, 1.0, num_pts)\npoints2 = curve2.evaluate_multi(s_vals)"
      ]
    },
    {
      "cell_type": "markdown",
      "metadata": {},
      "source": [
        "Add the points as ``Coordinate`` objects to a list\n\n"
      ]
    },
    {
      "cell_type": "code",
      "execution_count": null,
      "metadata": {
        "collapsed": false
      },
      "outputs": [],
      "source": [
        "xylist = []\nfor i in range(num_pts):\n    c = Coordinate(points2[0, i], points2[1, i])\n    xylist.append(c)"
      ]
    },
    {
      "cell_type": "markdown",
      "metadata": {},
      "source": [
        "Create a list of entities from the curve points\n\n"
      ]
    },
    {
      "cell_type": "code",
      "execution_count": null,
      "metadata": {
        "collapsed": false
      },
      "outputs": [],
      "source": [
        "linetolerance = 0.01\narctolerance = 0.01\nbez_curve_entities = return_entity_list(xylist, linetolerance, arctolerance)"
      ]
    },
    {
      "cell_type": "markdown",
      "metadata": {},
      "source": [
        "Add the new entities that make up the curve to the first rotor pocket region\nCounts the number of arcs and lines\n\n"
      ]
    },
    {
      "cell_type": "code",
      "execution_count": null,
      "metadata": {
        "collapsed": false
      },
      "outputs": [],
      "source": [
        "arccount = 0\nlinecount = 0\nfor ent in bez_curve_entities:\n    Rotor_Pocket_regions[0].add_entity(ent)\n    if isinstance(ent, Arc):\n        arccount = arccount + 1\n    if isinstance(ent, Line):\n        linecount = linecount + 1"
      ]
    },
    {
      "cell_type": "markdown",
      "metadata": {},
      "source": [
        "Translate (move) the rotor pocket region in the x-y plane to the magnet edge\n\n"
      ]
    },
    {
      "cell_type": "code",
      "execution_count": null,
      "metadata": {
        "collapsed": false
      },
      "outputs": [],
      "source": [
        "Rotor_Pocket_regions[0].translate(StartCoordinate.x, StartCoordinate.y)"
      ]
    },
    {
      "cell_type": "markdown",
      "metadata": {},
      "source": [
        "Rotate the rotor pocket region to match the magnet edge\n\n"
      ]
    },
    {
      "cell_type": "code",
      "execution_count": null,
      "metadata": {
        "collapsed": false
      },
      "outputs": [],
      "source": [
        "Rotor_Pocket_regions[0].rotate(StartCoordinate, -(90 - MagnetFaceLine.angle))"
      ]
    },
    {
      "cell_type": "markdown",
      "metadata": {},
      "source": [
        "Add the magnet edge line to the rotor pocket region\n\n"
      ]
    },
    {
      "cell_type": "code",
      "execution_count": null,
      "metadata": {
        "collapsed": false
      },
      "outputs": [],
      "source": [
        "Rotor_Pocket_regions[0].add_entity(MagnetFaceLine)"
      ]
    },
    {
      "cell_type": "markdown",
      "metadata": {},
      "source": [
        "Check that the rotor pocket region is joined up and set the region in Motor-CAD\n\n"
      ]
    },
    {
      "cell_type": "code",
      "execution_count": null,
      "metadata": {
        "collapsed": false
      },
      "outputs": [],
      "source": [
        "if Rotor_Pocket_regions[0].is_closed():\n    mc.set_region(Rotor_Pocket_regions[0])"
      ]
    },
    {
      "cell_type": "markdown",
      "metadata": {},
      "source": [
        "Mirror the first rotor pocket region on the other half of the rotor. Define the mirror line from\nthe origin and use the ``Region.mirror()`` method to create a new region named ``mirroredRegion``\nfrom the rotor pocket region.\n\n"
      ]
    },
    {
      "cell_type": "code",
      "execution_count": null,
      "metadata": {
        "collapsed": false
      },
      "outputs": [],
      "source": [
        "mirrorlinex, mirrorliney = rt_to_xy(rotor_radius, pole_angle)\nmirrorLine = Line(Coordinate(0, 0), Coordinate(mirrorlinex, mirrorliney))\nmirroredRegion = Rotor_Pocket_regions[0].mirror(mirrorLine)"
      ]
    },
    {
      "cell_type": "markdown",
      "metadata": {},
      "source": [
        "Use the ``Region.replace()`` method to replace the entities in the second rotor pocket with those\nfrom the new ``mirroredRegion``. The properties of the second rotor pocket (such as name,\nmaterial, colour) are retained.\n\n"
      ]
    },
    {
      "cell_type": "code",
      "execution_count": null,
      "metadata": {
        "collapsed": false
      },
      "outputs": [],
      "source": [
        "Rotor_Pocket_regions[1].replace(mirroredRegion)"
      ]
    },
    {
      "cell_type": "markdown",
      "metadata": {},
      "source": [
        "Check that the rotor pocket region is joined up and set the region in Motor-CAD\n\n"
      ]
    },
    {
      "cell_type": "code",
      "execution_count": null,
      "metadata": {
        "collapsed": false
      },
      "outputs": [],
      "source": [
        "if Rotor_Pocket_regions[1].is_closed():\n    mc.set_region(Rotor_Pocket_regions[1])"
      ]
    },
    {
      "cell_type": "markdown",
      "metadata": {},
      "source": [
        "<img src=\"file://../../images/Adaptive_Geometry_Bezier_e4a_3.png\" width=\"300pt\">\n\n"
      ]
    },
    {
      "cell_type": "markdown",
      "metadata": {},
      "source": [
        "## Load in Adaptive Templates script if required\nWhen this script is run externally, the script executes the following:\n\n* Set **Geometry type** to **Adaptive**.\n\n* Load the script into the **Adaptive Templates** tab.\n\n* Go to the **Geometry -> Radial** tab to run the Adaptive Templates script and display the new\n  geometry.\n\n"
      ]
    },
    {
      "cell_type": "markdown",
      "metadata": {},
      "source": [
        "<div class=\"alert alert-info\"><h4>Note</h4><p>When running in a Jupyter Notebook, you must provide the path for the Adaptive Templates script\n   (PY file) instead of ``sys.argv[0]`` when using the ``load_adaptive_script()`` method.</p></div>\n\n"
      ]
    },
    {
      "cell_type": "code",
      "execution_count": null,
      "metadata": {
        "collapsed": false
      },
      "outputs": [],
      "source": [
        "if not pymotorcad.is_running_in_internal_scripting():\n    mc.set_variable(\"GeometryTemplateType\", 1)\n    mc.load_adaptive_script(sys.argv[0])\n    mc.display_screen(\"Geometry;Radial\")"
      ]
    }
  ],
  "metadata": {
    "kernelspec": {
      "display_name": "Python 3",
      "language": "python",
      "name": "python3"
    },
    "language_info": {
      "codemirror_mode": {
        "name": "ipython",
        "version": 3
      },
      "file_extension": ".py",
      "mimetype": "text/x-python",
      "name": "python",
      "nbconvert_exporter": "python",
      "pygments_lexer": "ipython3",
      "version": "3.10.11"
    }
  },
  "nbformat": 4,
  "nbformat_minor": 0
}