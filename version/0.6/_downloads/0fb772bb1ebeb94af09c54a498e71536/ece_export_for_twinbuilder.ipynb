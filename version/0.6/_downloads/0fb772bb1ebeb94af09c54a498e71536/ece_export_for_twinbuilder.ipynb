{
  "cells": [
    {
      "cell_type": "markdown",
      "metadata": {},
      "source": [
        "\n# Motor-CAD EMag Twin Builder ECE\nThis example provides a Motor-CAD script for exporting\nan equivalent circuit extraction (ECE) model for permanent\nmagnet synchronous motors (PMSMs) from Motor-CAD to Ansys\nTwin Builder.\n"
      ]
    },
    {
      "cell_type": "markdown",
      "metadata": {},
      "source": [
        "## Set up example\nSetting up this example consists of performing imports, launching\nMotor-CAD, disabling all popup messages from Motor-CAD, and\nimporting the initial settings.\n\n"
      ]
    },
    {
      "cell_type": "markdown",
      "metadata": {},
      "source": [
        "### Perform required imports\nImport the required packages.\n\n"
      ]
    },
    {
      "cell_type": "code",
      "execution_count": null,
      "metadata": {
        "collapsed": false
      },
      "outputs": [],
      "source": [
        "import json\nimport math\nimport os\n\nimport matplotlib.pyplot as plt\nimport numpy as np\nfrom scipy import io\n\nimport ansys.motorcad.core as pymotorcad\n\nif \"QT_API\" in os.environ:\n    os.environ[\"QT_API\"] = \"pyqt\""
      ]
    },
    {
      "cell_type": "markdown",
      "metadata": {},
      "source": [
        "### Launch Motor-CAD\nInitialize ActiveX automation and launch Motor-CAD.\n\n"
      ]
    },
    {
      "cell_type": "code",
      "execution_count": null,
      "metadata": {
        "collapsed": false
      },
      "outputs": [],
      "source": [
        "print(\"Starting initialization.\")\nmcad = pymotorcad.MotorCAD()"
      ]
    },
    {
      "cell_type": "markdown",
      "metadata": {},
      "source": [
        "### Disable popup messages\nDisable all popup messages from Motor-CAD.\n\n"
      ]
    },
    {
      "cell_type": "code",
      "execution_count": null,
      "metadata": {
        "collapsed": false
      },
      "outputs": [],
      "source": [
        "mcad.set_variable(\"MessageDisplayState\", 2)"
      ]
    },
    {
      "cell_type": "markdown",
      "metadata": {},
      "source": [
        "## Import and save initial settings\nYou use the ``read_parameters`` method to import initial settings\nfrom a JSON file:\n\n"
      ]
    },
    {
      "cell_type": "code",
      "execution_count": null,
      "metadata": {
        "collapsed": false
      },
      "outputs": [],
      "source": [
        "def read_parameters(json_file):\n    \"\"\"Read input parameters.\"\"\"\n    with open(json_file, \"r\") as f:\n        param_dict = json.load(f)\n    return param_dict"
      ]
    },
    {
      "cell_type": "markdown",
      "metadata": {},
      "source": [
        "Specify the working directory.\n\n"
      ]
    },
    {
      "cell_type": "code",
      "execution_count": null,
      "metadata": {
        "collapsed": false
      },
      "outputs": [],
      "source": [
        "working_folder = os.getcwd()"
      ]
    },
    {
      "cell_type": "markdown",
      "metadata": {},
      "source": [
        "Open the JSON file and import the initial settings.\n\n"
      ]
    },
    {
      "cell_type": "code",
      "execution_count": null,
      "metadata": {
        "collapsed": false
      },
      "outputs": [],
      "source": [
        "json_file = os.path.join(working_folder, \"ece_config.json\")\nin_data = read_parameters(json_file)\nmot_file = in_data[\"mot_file\"]\nshaft_speed = in_data[\"shaft_speed\"]\ndc_bus_voltage = float(in_data[\"dc_bus_voltage\"])\nmachine_temp = float(in_data[\"machine_temp\"])\nId_max = float(in_data[\"Id_max\"])\ncurrent_step = float(in_data[\"current_step\"])\nmap_name = in_data[\"map_name\"]\ntxt_file = in_data[\"txt_file\"]\nsml_file = in_data[\"sml_file\"]"
      ]
    },
    {
      "cell_type": "markdown",
      "metadata": {},
      "source": [
        "Save input settings to a MCAD file.\n\n"
      ]
    },
    {
      "cell_type": "code",
      "execution_count": null,
      "metadata": {
        "collapsed": false
      },
      "outputs": [],
      "source": [
        "mcad.load_template(\"e8\")\nmcad_name = \"e8_mobility\"\nmcad.save_to_file(os.path.join(working_folder, mcad_name))"
      ]
    },
    {
      "cell_type": "markdown",
      "metadata": {},
      "source": [
        "## Run simulation\nDetect alignment angles and run the simulation.\n\n"
      ]
    },
    {
      "cell_type": "code",
      "execution_count": null,
      "metadata": {
        "collapsed": false
      },
      "outputs": [],
      "source": [
        "points_per_cycle = 30\nmcad.set_variable(\"DCBusVoltage\", dc_bus_voltage)\nmcad.set_variable(\"ArmatureConductor_Temperature\", machine_temp)\nmcad.set_variable(\"Magnet_Temperature\", machine_temp)\nmcad.set_variable(\"Shaft_Temperature\", machine_temp)\nmcad.set_variable(\"CurrentDefinition\", 0)\nmcad.set_variable(\"MagneticThermalCoupling\", 0)\nmcad.set_variable(\"BackEMFCalculation\", True)\nmcad.set_variable(\"TorquePointsPerCycle\", points_per_cycle)\nmcad.set_variable(\"ShaftSpeed\", shaft_speed)\nmcad.set_variable(\"PeakCurrent\", 0)\nmcad.set_variable(\"CoggingTorqueCalculation\", False)\nmcad.set_variable(\"TorqueCalculation\", False)\nmcad.set_variable(\"TorqueSpeedCalculation\", False)\ntry:\n    mcad.do_magnetic_calculation()\nexcept pymotorcad.MotorCADError:\n    print(\"Calculation failed.\")"
      ]
    },
    {
      "cell_type": "markdown",
      "metadata": {},
      "source": [
        "Plot the flux linkage for the A phase.\n\n"
      ]
    },
    {
      "cell_type": "code",
      "execution_count": null,
      "metadata": {
        "collapsed": false
      },
      "outputs": [],
      "source": [
        "e_deg = []\nflux_a = []\nindexf = points_per_cycle\nfor n in range(indexf + 1):\n    xa, ya = mcad.get_magnetic_graph_point(\"FluxLinkageOCPh1\", n)\n    e_deg.append(xa)\n    flux_a.append(ya)"
      ]
    },
    {
      "cell_type": "markdown",
      "metadata": {},
      "source": [
        "Calculate the torque points per cycle.\n\n"
      ]
    },
    {
      "cell_type": "code",
      "execution_count": null,
      "metadata": {
        "collapsed": false
      },
      "outputs": [],
      "source": [
        "p = mcad.get_variable(\"Pole_Number\")\ndrive = mcad.get_variable(\"DriveOffsetAngleLoad\")\nphase_res = mcad.get_variable(\"ArmatureWindingResistancePh\")\nphase_l = mcad.get_variable(\"EndWdgInductance_Used\")\ndrive_offset = 90 + drive\np = p / 2\nmax_elec_degree = 120"
      ]
    },
    {
      "cell_type": "markdown",
      "metadata": {},
      "source": [
        "Define the factor function.\n\n"
      ]
    },
    {
      "cell_type": "code",
      "execution_count": null,
      "metadata": {
        "collapsed": false
      },
      "outputs": [],
      "source": [
        "fac = []\nd = 2\nn = drive_offset\nwhile n >= d:\n    if n % d == 0:\n        fac.append(d)\n        n /= d\n    else:\n        d = d + 1\n\nfac_size = len(fac)\nelec_deg = fac[fac_size - 1]\ni = 1\nwhile (max_elec_degree / elec_deg) < 30:\n    elec_deg = fac[fac_size - 1 - i]\n    i = i + 1\nm_period = max_elec_degree / p\nmec_deg = float(float(elec_deg) / float(p))\npoints_per_cycle = 360 / elec_deg"
      ]
    },
    {
      "cell_type": "markdown",
      "metadata": {},
      "source": [
        "Calculate the saturation map.\n\n"
      ]
    },
    {
      "cell_type": "code",
      "execution_count": null,
      "metadata": {
        "collapsed": false
      },
      "outputs": [],
      "source": [
        "mcad.set_variable(\"TorquePointsPerCycle\", points_per_cycle)\nmcad.set_variable(\"SaturationMap_ExportFile\", map_name)\nmcad.set_variable(\"SaturationMap_InputDefinition\", 1)\nmcad.set_variable(\"SaturationMap_CalculationMethod\", 1)\nmcad.set_variable(\"SaturationMap_FEACalculationType\", 1)\nmcad.set_variable(\"SaturationMap_ResultType\", 1)\nmcad.set_variable(\"LossMap_Export\", False)\nmcad.set_variable(\"SaturationMap_Current_D_Max\", Id_max)\nmcad.set_variable(\"SaturationMap_Current_D_Step\", current_step)\nmcad.set_variable(\"SaturationMap_Current_D_Min\", -Id_max)\nmcad.set_variable(\"SaturationMap_Current_Q_Max\", Id_max)\nmcad.set_variable(\"SaturationMap_Current_Q_Step\", current_step)\nmcad.set_variable(\"SaturationMap_Current_Q_Min\", -Id_max)\n\ntry:\n    mcad.calculate_saturation_map()\nexcept pymotorcad.MotorCADError:\n    print(\"Map calculation failed.\")"
      ]
    },
    {
      "cell_type": "markdown",
      "metadata": {},
      "source": [
        "Load the saturation map.\n\n"
      ]
    },
    {
      "cell_type": "code",
      "execution_count": null,
      "metadata": {
        "collapsed": false
      },
      "outputs": [],
      "source": [
        "mat_file_data = io.loadmat(map_name)\n\nid_peak = mat_file_data[\"Id_Peak\"]\niq_peak = mat_file_data[\"Iq_Peak\"]\nangular_flux_linkage_d = mat_file_data[\"Angular_Flux_Linkage_D\"]\nangular_flux_linkage_q = mat_file_data[\"Angular_Flux_Linkage_Q\"]\nangular_flux_linkage_1 = mat_file_data[\"Angular_Flux_Linkage_Phase_1\"]\nangular_flux_linkage_2 = mat_file_data[\"Angular_Flux_Linkage_Phase_2\"]\nangular_flux_linkage_3 = mat_file_data[\"Angular_Flux_Linkage_Phase_3\"]\nangular_rotor_position = mat_file_data[\"Angular_Rotor_Position\"]\nangular_electromagnetic_torque = mat_file_data[\"Angular_Electromagnetic_Torque\"]\nphase_advance = mat_file_data[\"Phase_Advance\"]\nd_values = len(id_peak)\nq_values = len(id_peak[0])\ncomb = d_values * q_values\nmap_points = int((max_elec_degree / elec_deg) + 1)\nrot_pos = (max_elec_degree / p) + 1\nind = 0\nindex_1 = []\nflux_d_2 = []\nflux_q_3 = []\nflux_0_4 = []\ntorque_5 = []\nid_6 = []\niq_7 = []\nphase_ad_8 = []\nrotor_pos_9 = []\nfinal_table = []\nskip = math.ceil(drive_offset / elec_deg)"
      ]
    },
    {
      "cell_type": "markdown",
      "metadata": {},
      "source": [
        "Implement the final table.\n\n"
      ]
    },
    {
      "cell_type": "code",
      "execution_count": null,
      "metadata": {
        "collapsed": false
      },
      "outputs": [],
      "source": [
        "for i in range(d_values):\n    for j in range(q_values):\n        for k in range(int(skip), int(skip - map_points), (-1)):\n            ind = ind + 1\n            if k < 0:\n                kprimo = int(points_per_cycle + k)\n                index_1.append(ind - 1)\n                flux_d_2.append(angular_flux_linkage_d[i, j, kprimo])\n                flux_q_3.append(angular_flux_linkage_q[i, j, kprimo])\n                flux_0_4.append(0)\n                torque_5.append(-angular_electromagnetic_torque[i, j, kprimo])\n                id_6.append(id_peak[i, j])\n                iq_7.append(iq_peak[i, j])\n                phase_ad_8.append(phase_advance[i, j])\n                rotor_pos_9.append(angular_rotor_position[i, j, kprimo])\n            else:\n                index_1.append(ind - 1)\n                flux_d_2.append(angular_flux_linkage_d[i, j, k])\n                flux_q_3.append(angular_flux_linkage_q[i, j, k])\n                flux_0_4.append(0)\n                torque_5.append(-angular_electromagnetic_torque[i, j, k])\n                id_6.append(id_peak[i, j])\n                iq_7.append(iq_peak[i, j])\n                phase_ad_8.append(phase_advance[i, j])\n                rotor_pos_9.append(angular_rotor_position[i, j, k])\n\nfinal_table = np.array(\n    [index_1, flux_d_2, flux_q_3, flux_0_4, torque_5, id_6, iq_7, phase_ad_8, rotor_pos_9]\n)"
      ]
    },
    {
      "cell_type": "markdown",
      "metadata": {},
      "source": [
        "## Plot results\nPlot flux linkage in the A phase.\n\n"
      ]
    },
    {
      "cell_type": "code",
      "execution_count": null,
      "metadata": {
        "collapsed": false
      },
      "outputs": [],
      "source": [
        "plt.figure(1)\nplt.plot(e_deg, flux_a)\nplt.xlabel(\"Position [EDeg]\")\nplt.ylabel(\"FluxLinkageA\")\nplt.title(\"A_Phase Flux Linkage\")\nplt.show()\n\n# Plot the D-Q flux.\nplt.figure(2)\nplt.plot(index_1, flux_d_2, \"r\", index_1, flux_q_3, \"b\", linewidth=1.0)\nplt.xlabel(\"Points\")\nplt.ylabel(\"Flux [Vs]\")\nplt.legend([\"Psid\", \"Psiq\"], loc=\"lower right\")\nplt.title(\"D-Q Flux\")\nplt.show()"
      ]
    },
    {
      "cell_type": "markdown",
      "metadata": {},
      "source": [
        "Plot torque.\n\n"
      ]
    },
    {
      "cell_type": "code",
      "execution_count": null,
      "metadata": {
        "collapsed": false
      },
      "outputs": [],
      "source": [
        "plt.figure(3)\nplt.plot(index_1, torque_5, \"r\", linewidth=2.0)\nplt.ylabel(\"Torque [Nm]\")\nplt.xlabel(\"Points\")\nplt.title(\"Torque\")\nplt.show()"
      ]
    },
    {
      "cell_type": "markdown",
      "metadata": {},
      "source": [
        "Plot D-flux linkages versus the q-axis current.\n\n"
      ]
    },
    {
      "cell_type": "code",
      "execution_count": null,
      "metadata": {
        "collapsed": false
      },
      "outputs": [],
      "source": [
        "plt.figure(3)\nfor i in range(d_values):\n    plt.plot(\n        iq_peak[0, :], angular_flux_linkage_q[i, :, skip], label=\"Id=\" + str(id_peak[i, 0]) + \"A\"\n    )\nplt.ylabel(\"Flux [Vs]\")\nplt.xlabel(\"Iq [A]\")\nplt.legend(fontsize=8, loc=\"lower right\")\nplt.title(\"D-Flux vs Iq\")\nplt.show()\n\n# Plot Q-flux linkages versus the q-axis current.\nplt.figure(4)\nfor i in range(d_values):\n    plt.plot(\n        iq_peak[0, :], angular_flux_linkage_d[:, i, skip], label=\"Id=\" + str(id_peak[i, 0]) + \"A\"\n    )\nplt.legend(fontsize=8, loc=\"lower right\")\nplt.ylabel(\"Flux [Vs]\")\nplt.xlabel(\"Iq [A]\")\nplt.title(\"Q-Flux vs Iq\")\nplt.show()"
      ]
    },
    {
      "cell_type": "markdown",
      "metadata": {},
      "source": [
        "## Write TXT and SML files\nWrite the TXT text.\n\n"
      ]
    },
    {
      "cell_type": "code",
      "execution_count": null,
      "metadata": {
        "collapsed": false
      },
      "outputs": [],
      "source": [
        "rows = len(index_1)\n\nfile_id = open(txt_file, \"w\")\nfile_id.write(\"%6s\\r\\n\" % \"B_BasicData\")\nfile_id.write(\"%6s\\r\\n\" % \"  Version   1.0\")\nfile_id.write(\"%6s %i\\r\\n\" % (\"  Poles\", p * 2))\nfile_id.write(\"%6s\\r\\n\\n\" % \"E_BasicData\")\n\nfile_id.write(\"%6s\\r\\n\" % \"B_PhaseImp 3\")\nfile_id.write(\"%6s %12.10e %s %12.10e\\r\\n\" % (\"    WG_Ph1\", phase_res, \"    \", phase_l))\nfile_id.write(\"%6s %12.10e %s %12.10e\\r\\n\" % (\"    WG_Ph2\", phase_res, \"    \", phase_l))\nfile_id.write(\"%6s %12.10e %s %12.10e\\r\\n\" % (\"    WG_Ph3\", phase_res, \"    \", phase_l))\nfile_id.write(\"%6s\\r\\n\\n\" % \"E_PhaseImp\")\n\nfile_id.write(\"%6s\\r\\n\\n\" % \"B_Sweepings\")\nfile_id.write(\"%s %i %s\" % (\"  Id_Iq     (\", d_values, \":\"))\nfor i in range(d_values):\n    file_id.write(\"%s %i\" % (\" \", id_peak[i, 0]))\nfile_id.write(\"%s\\n\" % \")\")\n\nfile_id.write(\"%s %i %s\" % (\"            (\", q_values, \":\"))\nfor i in range(q_values):\n    file_id.write(\"%s %i\" % (\" \", iq_peak[0, i]))\nfile_id.write(\"%s\\n\" % \")\")\n\nfile_id.write(\"%s %i %s\" % (\"  Rotate    (\", map_points, \":\"))\n\nfor i in range(map_points):\n    file_id.write(\"%s %6.3f\" % (\" \", i * mec_deg))\nfile_id.write(\"%s\\n\" % \")\")\nfile_id.write(\"%s\\n\\n\" % \"E_Sweepings\")\n\nfile_id.write(\"%s\\n\" % \"B_OutputMatrix DQ0\")\n\nfor i in range(rows):\n    file_id.write(\n        \"%10i %19.10e %19.10e %19.10e %19.10e\\r\\n\"\n        % (index_1[i], flux_d_2[i], flux_q_3[i], flux_0_4[i], torque_5[i])\n    )\nfile_id.write(\"%s\\n\" % \"E_OutputMatrix\")\n\nfile_id.close()"
      ]
    },
    {
      "cell_type": "markdown",
      "metadata": {},
      "source": [
        "Write the SML file.\n\n"
      ]
    },
    {
      "cell_type": "code",
      "execution_count": null,
      "metadata": {
        "collapsed": false
      },
      "outputs": [],
      "source": [
        "file_id = open(sml_file, \"w\")\nfile_id.write(\"%6s\\r\\n\" % \"MODELDEF ECER_Model1\")\nfile_id.write(\"%s\\r\\n\" % \"{\")\nfile_id.write(\"%6s\\r\\n\" % \"PORT electrical: A0;\")\nfile_id.write(\"%6s\\r\\n\" % \"PORT electrical: X0;\")\nfile_id.write(\"%6s\\r\\n\" % \"PORT electrical: B0;\")\nfile_id.write(\"%6s\\r\\n\" % \"PORT electrical: Y0;\")\nfile_id.write(\"%6s\\r\\n\" % \"PORT electrical: C0;\")\nfile_id.write(\"%6s\\r\\n\" % \"PORT electrical: Z0;\")\nfile_id.write(\"%6s\\r\\n\" % \"PORT ROTATIONAL_V: ROT1;\")\nfile_id.write(\"%6s\\r\\n\" % \"PORT ROTATIONAL_V: ROT2;\")\n\nfile_id.write(\"%6s%4.3f%s\\r\\n\" % (\"PORT REAL IN: ra0 = \", phase_res, \";\"))\nfile_id.write(\"%6s%4.0e%s\\r\\n\" % (\"PORT REAL IN: la0 = \", phase_l, \";\"))\nfile_id.write(\"%6s\\r\\n\" % \"PORT REAL IN: IniIa0 = 0;\")\nfile_id.write(\"%6s\\r\\n\" % \"PORT REAL IN: IniIb0 = 0;\")\nfile_id.write(\"%6s\\r\\n\" % \"PORT REAL IN: IniIc0 = 0;\")\nfile_id.write(\"%6s\\r\\n\" % \"PORT REAL OUT: Fluxa0 = AM_Fluxa0.I;\")\nfile_id.write(\"%6s\\r\\n\" % \"PORT REAL OUT: Fluxb0 = AM_Fluxb0.I;\")\nfile_id.write(\"%6s\\r\\n\" % \"PORT REAL OUT: Fluxc0 = AM_Fluxc0.I;\")\nfile_id.write(\"%6s\\r\\n\" % \"PORT REAL OUT: Fluxd0 = AMFd.I;\")\nfile_id.write(\"%6s\\r\\n\" % \"PORT REAL OUT: Fluxq0 = AMFq.I;\")\n\nfile_id.write(\"%6s\\r\\n\" % \"PORT REAL IN ANGLE[deg]: IniPos = 0;\")\nfile_id.write(\"%6s\\r\\n\\n\" % \"PORT REAL OUT ANGLE[deg]: Pos = VM_Mdeg.V;\")\n\nfile_id.write(\"%6s\\r\\n\" % \"INTERN  R        Ra0  N1:=A0, N2:=N_1  ( R:=ra0 );\")\nfile_id.write(\"%6s\\r\\n\" % \"INTERN  L        La0  N1:=N_1, N2:=N_2  ( L:=la0, I0:=IniIa0 );\")\nfile_id.write(\"%6s\\r\\n\" % \"INTERN  AM       AMa0  N1:=N_2, N2:=N_3  ;\")\nfile_id.write(\"%6s\\r\\n\" % \"INTERN  EV       Ema0  N1:=N_3, N2:=X0  ( QUANT:=VMa0.V, FACT:=-1 ); \")\nfile_id.write(\"%6s\\r\\n\" % \"INTERN  L        Lma0  N1:=N_4, N2:=GND  ( L:=1 ); \")\nfile_id.write(\"%6s\\r\\n\" % \"INTERN  VM       VMa0  N1:=N_4, N2:=GND  ; \")\nfile_id.write(\"%6s\\r\\n\" % \"INTERN  AM       AM_Fluxa0  N1:=N_5, N2:=N_4  ; \")\nfile_id.write(\n    \"%6s\\r\\n\"\n    % \"INTERN  II       Fluxad  N1:=GND, N2:=N_5  ( QUANT:=AMFd.I, FACT:=cos(VM_Erad.V) ); \"\n)\nfile_id.write(\n    \"%6s\\r\\n\"\n    % \"INTERN  II       Fluxaq  N1:=GND, N2:=N_5  ( QUANT:=AMFq.I, FACT:=sin(VM_Erad.V) ); \"\n)\nfile_id.write(\"%6s\\r\\n\" % \"INTERN  II       Fluxao  N1:=GND, N2:=N_5  ( QUANT:=AMFo.I, FACT:=1 ); \")\nfile_id.write(\n    \"%6s\\r\\n\\n\" % \"INTERN  II       Fluxa0  N1:=GND, N2:=N_5  ( QUANT:=AMo.I, FACT:=0 ); \"\n)\n\nfile_id.write(\"%6s\\r\\n\" % \"INTERN  R        Rb0  N1:=B0, N2:=N_6  ( R:=ra0 ); \")\nfile_id.write(\"%6s\\r\\n\" % \"INTERN  L        Lb0  N1:=N_6, N2:=N_7  ( L:=la0, I0:=IniIb0 );\")\nfile_id.write(\"%6s\\r\\n\" % \"INTERN  AM       AMb0  N1:=N_7, N2:=N_8  ; \")\nfile_id.write(\"%6s\\r\\n\" % \"INTERN  EV       Emb0  N1:=N_8, N2:=Y0  ( QUANT:=VMb0.V, FACT:=-1 );  \")\nfile_id.write(\"%6s\\r\\n\" % \"INTERN  L        Lmb0  N1:=N_9, N2:=GND  ( L:=1 ); \")\nfile_id.write(\"%6s\\r\\n\" % \"INTERN  VM       VMb0  N1:=N_9, N2:=GND  ; \")\nfile_id.write(\"%6s\\r\\n\" % \"INTERN  AM       AM_Fluxb0  N1:=N_10, N2:=N_9  ; \")\nfile_id.write(\n    \"%6s\\r\\n\"\n    % (\n        \"INTERN  II       Fluxbd  N1:=GND, N2:=N_10  \"\n        \"( QUANT:=AMFd.I, FACT:=cos(VM_Erad.V-2*PI/3) );\"\n    )\n)\nfile_id.write(\n    \"%6s\\r\\n\"\n    % (\n        \"INTERN  II       Fluxbq  N1:=GND, N2:=N_10  \"\n        \"( QUANT:=AMFq.I, FACT:=sin(VM_Erad.V-2*PI/3) ); \"\n    )\n)\nfile_id.write(\n    \"%6s\\r\\n\" % \"INTERN  II       Fluxbo  N1:=GND, N2:=N_10\" \"  ( QUANT:=AMFo.I, FACT:=1 ); \"\n)\nfile_id.write(\n    \"%6s\\r\\n\\n\" % \"INTERN  II       Fluxb0  N1:=GND, N2:=N_10\" \"  ( QUANT:=AMo.I, FACT:=0 ); \"\n)\n\nfile_id.write(\"%6s\\r\\n\" % \"INTERN  R        Rc0  N1:=C0, N2:=N_11  \" \"( R:=ra0 ); \")\nfile_id.write(\"%6s\\r\\n\" % \"INTERN  L        Lc0  N1:=N_11, N2:=N_12\" \"  ( L:=la0, I0:=IniIc0 ); \")\nfile_id.write(\"%6s\\r\\n\" % \"INTERN  AM       AMc0  N1:=N_12, N2:=N_13\" \"  ;  \")\nfile_id.write(\n    \"%6s\\r\\n\" % \"INTERN  EV       Emc0  N1:=N_13, N2:=Z0\" \"  ( QUANT:=VMc0.V, FACT:=-1 ); \"\n)\nfile_id.write(\"%6s\\r\\n\" % \"INTERN  L        Lmc0  N1:=N_14, N2:=GND\" \"  ( L:=1 ); \")\nfile_id.write(\"%6s\\r\\n\" % \"INTERN  VM       VMc0  N1:=N_14, N2:=GND\" \"  ;\")\nfile_id.write(\"%6s\\r\\n\" % \"INTERN  AM       AM_Fluxc0  N1:=N_15,\" \" N2:=N_14  ;\")\nfile_id.write(\n    \"%6s\\r\\n\"\n    % (\n        \"INTERN  II       Fluxcd  N1:=GND, N2:=N_15  \"\n        \"( QUANT:=AMFd.I, FACT:=cos(VM_Erad.V-4*PI/3) ); \"\n    )\n)\nfile_id.write(\n    \"%6s\\r\\n\"\n    % (\n        \"INTERN  II       Fluxcq  N1:=GND, N2:=N_15\"\n        \"  ( QUANT:=AMFq.I, FACT:=sin(VM_Erad.V-4*PI/3) ); \"\n    )\n)\nfile_id.write(\n    \"%6s\\r\\n\" % \"INTERN  II       Fluxco  N1:=GND,\" \" N2:=N_15  ( QUANT:=AMFo.I, FACT:=1 ); \"\n)\nfile_id.write(\n    \"%6s\\r\\n\\n\" % \"INTERN  II       Fluxc0  N1:=GND,\" \" N2:=N_15  ( QUANT:=AMo.I, FACT:=0 );\"\n)\n\nfile_id.write(\"%6s\\r\\n\" % \"INTERN  AM\" \"       AMFd  N1:=N_16, N2:=GND  ; \")\nfile_id.write(\"%6s\\r\\n\" % \"INTERN\" \"  AM       AMFq  N1:=N_17, N2:=GND  ;\")\nfile_id.write(\"%6s\\r\\n\\n\" % \"INTERN\" \"  AM       AMFo  N1:=N_18, N2:=GND  ; \")\n\nfile_id.write(\n    \"%6s\\r\\n\" % \"INTERN  II       Id0  N1:=GND,\"\n    \" N2:=N_19  ( QUANT:=AMa0.I, FACT:=2/3*cos(VM_Erad.V) ); \"\n)\nfile_id.write(\n    \"%6s\\r\\n\"\n    % (\n        \"INTERN  II       Id1  N1:=GND, N2:=N_19\"\n        \"  ( QUANT:=AMb0.I, FACT:=2/3*cos(VM_Erad.V-2*PI/3) ); \"\n    )\n)\nfile_id.write(\n    \"%6s\\r\\n\"\n    % (\n        \"INTERN  II       Id2  N1:=GND, N2:=N_19\"\n        \"  ( QUANT:=AMc0.I, FACT:=2/3*cos(VM_Erad.V-4*PI/3) );\"\n    )\n)\nfile_id.write(\"%6s\\r\\n\" % \"INTERN  AM       AM0  N1:=N_19,\" \" N2:=GND  ;\")\nfile_id.write(\n    \"%6s\\r\\n\" % \"INTERN  II       Iq0  N1:=GND, N2:=N_20\"\n    \"  ( QUANT:=AMa0.I, FACT:=2/3*sin(VM_Erad.V) ); \"\n)\nfile_id.write(\n    \"%6s\\r\\n\"\n    % (\n        \"INTERN  II       Iq1  N1:=GND, N2:=N_20\"\n        \"  ( QUANT:=AMb0.I, FACT:=2/3*sin(VM_Erad.V-2*PI/3) ); \"\n    )\n)\nfile_id.write(\n    \"%6s\\r\\n\"\n    % (\n        \"INTERN  II       Iq2  N1:=GND, N2:=N_20\"\n        \"  ( QUANT:=AMc0.I, FACT:=2/3*sin(VM_Erad.V-4*PI/3) ); \"\n    )\n)\nfile_id.write(\"%6s\\r\\n\" % \"INTERN  AM       AM1  N1:=N_20,\" \" N2:=GND  ; \")\nfile_id.write(\n    \"%6s\\r\\n\" % \"INTERN  II       I00  N1:=GND,\" \" N2:=N_21  ( QUANT:=AMa0.I, FACT:=1/3 ); \"\n)\nfile_id.write(\n    \"%6s\\r\\n\" % \"INTERN  II       I01  N1:=GND,\" \" N2:=N_21  ( QUANT:=AMb0.I, FACT:=1/3 ); \"\n)\nfile_id.write(\n    \"%6s\\r\\n\" % \"INTERN  II       I02  N1:=GND,\" \" N2:=N_21  ( QUANT:=AMc0.I, FACT:=1/3 ); \"\n)\nfile_id.write(\"%6s\\r\\n\\n\" % \"INTERN  \" \"AM       AMo  N1:=N_21, N2:=GND  ; \")\n\nfile_id.write(\"%6s\\r\\n\" % \"INTERN  \" \"VM       VM_Speed  N1:=N_23, N2:=N_22  ; \")\nfile_id.write(\n    \"%6s\\r\\n\"\n    % (\n        \"UMODEL  D2D      \"\n        'D2D1 N1:=N_23, N2:=ROT1 ( NATURE_1:=\"electrical\",'\n        ' NATURE_2:=\"Rotational_V\" ) SRC: DLL( File:=\"Domains.dll\");'\n    )\n)\nfile_id.write(\n    \"%6s\\r\\n\"\n    % (\n        \"UMODEL  D2D      \"\n        'D2D2 N1:=N_22, N2:=ROT2 ( NATURE_1:=\"electrical\",'\n        ' NATURE_2:=\"Rotational_V\" ) SRC: DLL( File:=\"Domains.dll\");'\n    )\n)\nfile_id.write(\n    \"%6s\\r\\n\" % \"INTERN  IV       \"\n    \"Gx  N1:=GND,\"\n    \" N2:=N_24  ( QUANT:=VM_Speed.V, FACT:=57.29578 ); \"\n)\nfile_id.write(\"%6s\\r\\n\" % \"INTERN  C\" \"        \" \"Cx  N1:=N_24, N2:=GND  ( C:=1, V0:=IniPos ); \")\nfile_id.write(\"%6s\\r\\n\" % \"INTERN  VM\" \"\" \"       VM_Mdeg  N1:=N_24, N2:=GND  ; \")\nfile_id.write(\n    \"%6s\\r\\n\" % \"INTERN  IV\" \"\" \"       Ipos  N1:=GND, N2:=N_25  ( QUANT:=VM_Mdeg.V, FACT:=1 ); \"\n)\nfile_id.write(\"%6s\\r\\n\" % \"INTERN  AM\" \"\" \"       AM2  N1:=N_25, N2:=N_26  ; \")\nfile_id.write(\n    \"%6s %8.7f %s\\r\\n\"\n    % (\"INTERN  R\" \"        Rpos  N1:=N_26, N2:=GND  ( R:=\", 0.0174533 * p, \" ); \")\n)\nfile_id.write(\"%6s\\r\\n\\n\" % \"INTERN  VM\" \"\" \"       VM_Erad  N1:=N_26, N2:=GND  ;\")\n\nfile_id.write(\n    \"%6s\\r\\n\"\n    % (\n        \"INTERN  NDSRC    PECER_Model1  N0:=GND,\"\n        \" N1:=N_16, N2:=GND, N3:=N_17,\"\n        \" N4:=GND, N5:=N_18, N6:=N_22, N7:=N_23 \\ \"\n    )\n)\nfile_id.write(\n    \"%6s\\r\\n\" % \" ( QUANT:={ AM0.I, AM1.I, AM2.I },\"\n    ' SRC:={ isrc, isrc, isrc, isrc }, TableData:=\"\\ '\n)\nfile_id.write(\"%6s\" % \".MODEL ECER_Model1_table pwl TABLE=(\")\nfile_id.write(\"%s%u%s\" % (\" \", d_values, \",\"))\n\nindex = 0\n\nfor i in range(d_values):\n    file_id.write(\"%s%d\" % (\" \", id_peak[i, 0]))\n    file_id.write(\"%s\" % \",\")\n    if i == (d_values - 1):\n        file_id.write(\"%s\\n\" % \"\\ \")\n        file_id.write(\"%s\" % \" 0,\")\n\nfor r in range(d_values):\n    file_id.write(\"%s%u%s\" % (\" \", q_values, \",\"))\n    for i in range(q_values):\n        file_id.write(\"%s%d\" % (\" \", iq_peak[0, i]))\n        file_id.write(\"%s\" % \",\")\n        if i == (q_values - 1):\n            file_id.write(\"%s\\n\" % \"\\ \")\n            file_id.write(\"%s\" % \" 0,\")\n\n    for k in range(q_values):\n        file_id.write(\"%s%u%s\" % (\" \", map_points, \",\"))\n        for i in range(map_points):\n            file_id.write(\"%s%6.3f\" % (\" \", i * mec_deg))\n            file_id.write(\"%s\" % (\",\"))\n            if i == (map_points - 1):\n                file_id.write(\"%s\\n\" % \"\\ \")\n                file_id.write(\"%s\" % \" 4,\")\n\n        for j in range(1, 5):\n            for i in range(map_points):\n                file_id.write(\"%s%f\" % (\" \", final_table[int(j), int(index + i)]))\n                file_id.write(\"%s\" % (\",\"))\n                if r == (d_values - 1) and k == (q_values - 1) and j == 4 and i == (map_points - 1):\n                    file_id.write(\"%s\\r\\n\" % \") LINEAR LINEAR PERIODIC\\ \")\n                    file_id.write(\"%s\\r\\n\" % ' DEEPSPLINE\" );')\n                    file_id.write(\"%s\\r\\n\" % \"}\")\n                elif i == (map_points - 1):\n                    file_id.write(\"%s\\n\" % \"\\ \")\n        index = index + map_points\n\nfile_id.close()"
      ]
    },
    {
      "cell_type": "markdown",
      "metadata": {},
      "source": [
        "## Exit Motor-CAD\nExit Motor-CAD.\n\n"
      ]
    },
    {
      "cell_type": "code",
      "execution_count": null,
      "metadata": {
        "collapsed": false
      },
      "outputs": [],
      "source": [
        "mcad.quit()"
      ]
    }
  ],
  "metadata": {
    "kernelspec": {
      "display_name": "Python 3",
      "language": "python",
      "name": "python3"
    },
    "language_info": {
      "codemirror_mode": {
        "name": "ipython",
        "version": 3
      },
      "file_extension": ".py",
      "mimetype": "text/x-python",
      "name": "python",
      "nbconvert_exporter": "python",
      "pygments_lexer": "ipython3",
      "version": "3.10.11"
    }
  },
  "nbformat": 4,
  "nbformat_minor": 0
}