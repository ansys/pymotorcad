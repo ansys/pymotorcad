{
  "cells": [
    {
      "cell_type": "markdown",
      "metadata": {},
      "source": [
        "\n# Custom DXF Geometry\nThis script applies the adaptive templates functionality to import custom rotor geometry from a\nDXF file.\n"
      ]
    },
    {
      "cell_type": "markdown",
      "metadata": {},
      "source": [
        "<div class=\"alert alert-info\"><h4>Note</h4><p>For more information on how to add imported DXF geometries to Adaptive Templates in Motor-CAD,\n   see `ref_adaptive_templates_UG` in the `ref_user_guide`.</p></div>\n\n<div class=\"alert alert-info\"><h4>Note</h4><p>DXF import for Adaptive Templates in Motor-CAD requires Motor-CAD 2024 R2 or later.</p></div>\n\nThis script is designed to be run from Motor-CAD template \"e8\". The \"e8\" template file contains an\nimported custom geometry from a DXF file. The template should be adjusted slightly to more\nclosely match the imported custom geometry before running the Adaptive Templates script.\nThe following Standard Template geometry changes should be made:\n\n* Set **L1 Mag Gap Inner** and **L2 Mag Gap Inner** to 0 mm (for Magnet Layers 1 and 2).\n\n* Set **L2 Web Thickness** to 18 mm (for Magnet Layer 2).\n\n* Set **L2 Pole Arc [ED]** to 105 electrical degrees (for Magnet Layer 2).\n\n* Set **L2 RDuct Rad Dia** to 123.8 mm (for Rotor Duct Layer 2).\n\n* Set **L2 RDuct Dia** to 4.94 mm (for Rotor Duct Layer 2).\n\n"
      ]
    },
    {
      "cell_type": "markdown",
      "metadata": {},
      "source": [
        "<img src=\"file://../../images/DXFImport1_2.png\">\n\n"
      ]
    },
    {
      "cell_type": "markdown",
      "metadata": {},
      "source": [
        "If no Motor-CAD file is open, the e8 template is loaded and the geometry is adjusted as\ndescribed earlier.\n\n"
      ]
    },
    {
      "cell_type": "markdown",
      "metadata": {},
      "source": [
        "## Perform required imports\nImport the ``pymotorcad`` package to access Motor-CAD.\nImport the ``os``, ``shutil``, ``sys``, and ``tempfile`` packages\nto open and save a temporary MOT file if none is open.\n\n"
      ]
    },
    {
      "cell_type": "code",
      "execution_count": null,
      "metadata": {
        "collapsed": false
      },
      "outputs": [],
      "source": [
        "import os\nimport shutil\nimport sys\nimport tempfile\n\nimport ansys.motorcad.core as pymotorcad"
      ]
    },
    {
      "cell_type": "markdown",
      "metadata": {},
      "source": [
        "## Connect to Motor-CAD\nIf this script is loaded into the Adaptive Templates file in Motor-CAD, the current Motor-CAD\ninstance is used.\n\nIf the script is run externally, these actions occur: a new Motor-CAD instance is opened,\nthe e8 IPM motor template is loaded, the geometry changes described earlier are applied and the\nfile is saved to a temporary folder.\nTo keep a new Motor-CAD instance open after executing the script, use the\n``MotorCAD(keep_instance_open=True)`` option when opening the new instance.\nAlternatively, use the ``MotorCAD()`` method, which closes the Motor-CAD instance after the\nscript is executed.\n\n"
      ]
    },
    {
      "cell_type": "code",
      "execution_count": null,
      "metadata": {
        "collapsed": false
      },
      "outputs": [],
      "source": [
        "if pymotorcad.is_running_in_internal_scripting():\n    # Use existing Motor-CAD instance if possible\n    mc = pymotorcad.MotorCAD(open_new_instance=False)\nelse:\n    mc = pymotorcad.MotorCAD(keep_instance_open=True)\n    # Disable popup messages\n    mc.set_variable(\"MessageDisplayState\", 2)\n    mc.set_visible(True)\n    mc.load_template(\"e8\")\n\n    # Set Standard Template geometry to closely match the imported DXF custom geometry\n    mc.set_array_variable(\n        \"VShape_Magnet_ClearanceInner\", 0, 0\n    )  # Set the Magnet Inner Gap to 0 mm for Layer 1\n    mc.set_array_variable(\n        \"VShape_Magnet_ClearanceInner\", 1, 0\n    )  # Set the Magnet Inner Gap to 0 mm for Layer 2\n    mc.set_array_variable(\"WebThickness_Array\", 1, 18)  # Set the Web Thickness to 18 mm for Layer 2\n    mc.set_array_variable(\"PoleArc_Array\", 1, 105)  # Set the Pole Arc to 105 ED for Layer 2\n    mc.set_array_variable(\n        \"RotorCircularDuctLayer_RadialDiameter\", 1, 123.8\n    )  # Set the Rotor Duct Radial Diameter to 123.8 mm for Layer 2\n    mc.set_array_variable(\n        \"RotorCircularDuctLayer_ChannelDiameter\", 1, 4.94\n    )  # Set the Rotor Duct Diameter to 4.94 mm for Layer 2\n\n    # Open relevant file\n    working_folder = os.path.join(tempfile.gettempdir(), \"adaptive_library\")\n    try:\n        shutil.rmtree(working_folder)\n    except:\n        pass\n    os.mkdir(working_folder)\n    mot_name = \"e8_DXF_Import\"\n    mc.save_to_file(working_folder + \"/\" + mot_name + \".mot\")\n\n# Reset geometry to default\nmc.reset_adaptive_geometry()"
      ]
    },
    {
      "cell_type": "markdown",
      "metadata": {},
      "source": [
        "## Get required region objects\nGet the existing Standard Template regions, and imported regions that are required for the script.\n\n### Identify the required regions\nThis workflow replaces existing template regions with corresponding imported regions. For\nexample, the Standard Template geometry region **RotorDuctFluidRegion_2** is replaced by a\ncustom region from the imported DXF file.\n\n<img src=\"file://../../images/DXFImport2.png\">\n\nFind the names of the corresponding DXF regions under **Import** in the Geometry tree on\nthe **Geometry -> Editor -> Geometry** tab in Motor-CAD. Imported regions are displayed by\nselecting the checkbox. For example, the corresponding imported DXF region for template region\n**RotorDuctFluidRegion_2** is named **DXFRegion_Rotor_14**.\n\n<img src=\"file://../../images/DXFImport3.png\">\n\nThis script replaces the entities (lines and arcs) of **RotorDuctFluidRegion_2** with entities\nfrom **DXFRegion_Rotor_14**. The geometry is replaced, while the properties of the region\n**RotorDuctFluidRegion_2**, such as name, material, colour are retained.\n\n"
      ]
    },
    {
      "cell_type": "markdown",
      "metadata": {},
      "source": [
        "### Get existing template regions\nThe regions in the existing template geometry to be replaced by custom regions from the\nimported DXF geometry will be stored in a list. Use the ``get_region()`` method to get the\nrequired regions and store these in the ``standard_regions`` list.\n\n"
      ]
    },
    {
      "cell_type": "code",
      "execution_count": null,
      "metadata": {
        "collapsed": false
      },
      "outputs": [],
      "source": [
        "standard_regions = [\n    mc.get_region(\"Rotor Pocket_1\"),\n    mc.get_region(\"Rotor Pocket_2\"),\n    mc.get_region(\"Rotor Pocket_4\"),\n    mc.get_region(\"Rotor Pocket_5\"),\n    mc.get_region(\"RotorDuctFluidRegion_1\"),\n    mc.get_region(\"RotorDuctFluidRegion_2\"),\n]"
      ]
    },
    {
      "cell_type": "markdown",
      "metadata": {},
      "source": [
        "### Get imported DXF regions\nThe imported DXF regions to replace the existing regions with will be stored in a list. Use the\n``get_region_dxf()`` method to get the required regions and store in the ``replacement_regions``\nlist. The indices of the regions in the ``standard_regions`` and ``replacement_regions`` lists\nmust match such that the corresponding standard and replacement regions share the same index.\nFor example, the **RotorDuctFluidRegion_2** and **DXFRegion_Rotor_14** regions are both the fifth\nelement of their respective lists.\n\n"
      ]
    },
    {
      "cell_type": "code",
      "execution_count": null,
      "metadata": {
        "collapsed": false
      },
      "outputs": [],
      "source": [
        "replacement_regions = [\n    mc.get_region_dxf(\"DXFRegion_Rotor_6\"),\n    mc.get_region_dxf(\"DXFRegion_Rotor_7\"),\n    mc.get_region_dxf(\"DXFRegion_Rotor_10\"),\n    mc.get_region_dxf(\"DXFRegion_Rotor_11\"),\n    mc.get_region_dxf(\"DXFRegion_Rotor_14\"),\n    mc.get_region_dxf(\"DXFRegion_Rotor_12\"),\n]"
      ]
    },
    {
      "cell_type": "markdown",
      "metadata": {},
      "source": [
        "## Replace ``standard_regions`` with ``replacement_regions``\nFor each standard region, use the ``Region.replace()`` method to replace the region with its\ncorresponding imported DXF region. The ``Region.replace()`` method replaces the entities\n(lines and arcs) of a region with entities from another region. The geometry entities are\nreplaced, while the properties, such as name, material, colour, of the original regions are\nretained.\n\nFor more information on the ``Region.replace()`` method, see the entry under ``Region`` in\n`ref_geometry_functions` in the API reference documentation.\n\nOnce the entities have been replaced, use the ``set_region()`` method to set the modified region\nin Motor-CAD.\n\n"
      ]
    },
    {
      "cell_type": "code",
      "execution_count": null,
      "metadata": {
        "collapsed": false
      },
      "outputs": [],
      "source": [
        "for index in range(len(standard_regions)):\n    i = standard_regions[index]\n    i.replace(replacement_regions[index])\n    mc.set_region(i)"
      ]
    },
    {
      "cell_type": "markdown",
      "metadata": {},
      "source": [
        "<img src=\"file://../../images/DXFImport4.png\">\n\n"
      ]
    },
    {
      "cell_type": "markdown",
      "metadata": {},
      "source": [
        "## Load in Adaptive Templates Script if required\nWhen this script is run externally, the script executes the following:\n\n* Set **Geometry type** to **Adaptive**.\n\n* Load the script into the **Adaptive Templates** tab.\n\n* Go to the **Geometry -> Radial** tab to run the Adaptive Templates script and display the new\n  geometry.\n\n"
      ]
    },
    {
      "cell_type": "markdown",
      "metadata": {},
      "source": [
        "<div class=\"alert alert-info\"><h4>Note</h4><p>When running in a Jupyter Notebook, you must provide the path for the Adaptive Templates script\n   (PY file) instead of ``sys.argv[0]`` when using the ``load_adaptive_script()`` method.</p></div>\n\n"
      ]
    },
    {
      "cell_type": "code",
      "execution_count": null,
      "metadata": {
        "collapsed": false
      },
      "outputs": [],
      "source": [
        "if not pymotorcad.is_running_in_internal_scripting():\n    mc.set_variable(\"GeometryTemplateType\", 1)\n    mc.load_adaptive_script(sys.argv[0])\n    mc.display_screen(\"Geometry;Radial\")"
      ]
    }
  ],
  "metadata": {
    "kernelspec": {
      "display_name": "Python 3",
      "language": "python",
      "name": "python3"
    },
    "language_info": {
      "codemirror_mode": {
        "name": "ipython",
        "version": 3
      },
      "file_extension": ".py",
      "mimetype": "text/x-python",
      "name": "python",
      "nbconvert_exporter": "python",
      "pygments_lexer": "ipython3",
      "version": "3.10.11"
    }
  },
  "nbformat": 4,
  "nbformat_minor": 0
}