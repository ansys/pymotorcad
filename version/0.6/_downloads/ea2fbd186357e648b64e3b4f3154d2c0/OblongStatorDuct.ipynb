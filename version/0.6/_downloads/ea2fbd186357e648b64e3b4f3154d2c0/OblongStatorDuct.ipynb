{
  "cells": [
    {
      "cell_type": "markdown",
      "metadata": {},
      "source": [
        "\n# Oblong stator ducts with thermal adjustment\nThis script applies the adaptive templates functionality to modify rectangular ducts\ninto oblong ducts. Further, the thermal effect of modified duct is taken into account by modifying\nthe area adjustment under housing water jacket in thermal module.\n"
      ]
    },
    {
      "cell_type": "markdown",
      "metadata": {},
      "source": [
        "## Perform required imports\nImport ``pymotorcad`` to access Motor-CAD.\nImport ``Arc``, ``Line``, ``Coordinate``, ``rt_to_xy``, ``xy_to_rt``, ``math``\nto define the adaptive template geometry.\nImport ``os``, ``shutil``, ``sys``, and ``tempfile``\nto open and save a temporary .mot file if none is open.\n\n"
      ]
    },
    {
      "cell_type": "code",
      "execution_count": null,
      "metadata": {
        "collapsed": false
      },
      "outputs": [],
      "source": [
        "import math\nimport os\nimport shutil\nimport sys\nimport tempfile\n\nimport ansys.motorcad.core as pymotorcad\nfrom ansys.motorcad.core.geometry import Arc, Coordinate, Line, rt_to_xy, xy_to_rt"
      ]
    },
    {
      "cell_type": "markdown",
      "metadata": {},
      "source": [
        "## Connect to Motor-CAD\nIf this script is loaded into the Adaptive Templates file in Motor-CAD, the current Motor-CAD\ninstance is used.\n\nIf the script is run externally, these actions occur: a new Motor-CAD instance is opened,\nthe e9 IPM motor template is loaded and set up with rectangular stator ducts, and the file is\nsaved to a temporary folder. To keep a new Motor-CAD instance open after executing the script, use\nthe ``MotorCAD(keep_instance_open=True)`` option when opening the new instance.\nAlternatively, use the ``MotorCAD()`` method, which closes the Motor-CAD instance after the\nscript is executed.\n\n"
      ]
    },
    {
      "cell_type": "code",
      "execution_count": null,
      "metadata": {
        "collapsed": false
      },
      "outputs": [],
      "source": [
        "if pymotorcad.is_running_in_internal_scripting():\n    # Use existing Motor-CAD instance if possible\n    mc = pymotorcad.MotorCAD(open_new_instance=False)\nelse:\n    mc = pymotorcad.MotorCAD(keep_instance_open=True)\n    # Disable popup messages\n    mc.set_variable(\"MessageDisplayState\", 2)\n    mc.set_visible(True)\n    mc.load_template(\"e9\")\n    mc.set_variable(\"StatorDuctType\", 4)  # selected rectangular ducts\n    mc.set_variable(\"CircularDuctLayers\", 1)  # set number of duct layers\n    mc.set_variable(\"CircularDuctL1RadialDiameter\", 180)  # set number of duct radial diameter\n    mc.set_variable(\"CircularDuctL1ChannelWidth\", 2)  # set duct width\n    mc.set_variable(\"CircularDuctL1ChannelHeight\", 3)  # set duct height\n    mc.set_variable(\"CircularDuctL1Channels\", 48)  # set number of duct channels\n    mc.set_variable(\"HousingType\", 0)  # set housing type to 'Round'\n\n    # Open relevant file\n    working_folder = os.path.join(tempfile.gettempdir(), \"adaptive_library\")\n    try:\n        shutil.rmtree(working_folder)\n    except:\n        pass\n    os.mkdir(working_folder)\n    mot_name = \"Oblong_duct\"\n    mc.save_to_file(working_folder + \"/\" + mot_name + \".mot\")\n\n# Reset geometry to default\nmc.reset_adaptive_geometry()"
      ]
    },
    {
      "cell_type": "markdown",
      "metadata": {},
      "source": [
        "## Define necessary functions\nSet adaptive parameter if required\n~~~~~~~~~~~~~~~~~~~~~~~~~~~~~~~~~~\nThe ``set_default_parameter`` function is defined to check if a parameter exists. If not,\nit creates the parameter with a default value.\n\n"
      ]
    },
    {
      "cell_type": "code",
      "execution_count": null,
      "metadata": {
        "collapsed": false
      },
      "outputs": [],
      "source": [
        "def set_default_parameter(parameter_name, default_value):\n    try:\n        mc.get_adaptive_parameter_value(parameter_name)\n    except pymotorcad.MotorCADError:\n        mc.set_adaptive_parameter_value(parameter_name, default_value)"
      ]
    },
    {
      "cell_type": "markdown",
      "metadata": {},
      "source": [
        "### Check line distance from origin\nThe rectangle consists of two lines of length equal to the rectangle width.\nOnly the top  and bottom lines requires modification.\nIt is necessary to check whether the line is closest to the origin. As this will affect the center\nof arcs needs to convert the lines. Index ``i`` is\nthe line under investigation. Index ``j`` is the adjacent line. If the radius of midpoint of line\n``i`` is less than that of line ``j`` , line ``i`` is closer to the origin.\n\n"
      ]
    },
    {
      "cell_type": "code",
      "execution_count": null,
      "metadata": {
        "collapsed": false
      },
      "outputs": [],
      "source": [
        "def check_line_origin_distance(i, duct_region):\n    if i == 0:  # first index of rectangle duct\n        j = 1\n    else:\n        j = i - 1\n    rad_start_i, _ = xy_to_rt(duct_region.entities[i].start.x, duct_region.entities[i].start.y)\n    rad_end_i, _ = xy_to_rt(duct_region.entities[i].end.x, duct_region.entities[i].end.y)\n    rad_mid_i = (rad_start_i + rad_end_i) / 2\n    rad_start_j, _ = xy_to_rt(duct_region.entities[j].start.x, duct_region.entities[j].start.y)\n    rad_end_j, _ = xy_to_rt(duct_region.entities[j].end.x, duct_region.entities[j].end.y)\n    rad_mid_j = (rad_start_j + rad_end_j) / 2\n    if rad_mid_i < rad_mid_j:\n        return True\n    else:\n        return False"
      ]
    },
    {
      "cell_type": "markdown",
      "metadata": {},
      "source": [
        "### Generate arc associated with oblong duct\nTwo separate functions are needed depending  on full duct or half duct (due to symmetry) is\npresent under Geometry Editor\n\n"
      ]
    },
    {
      "cell_type": "code",
      "execution_count": null,
      "metadata": {
        "collapsed": false
      },
      "outputs": [],
      "source": [
        "def get_arc_radius(entity_start, entity_end, height):\n    # Generate arc radius and center based on\n    # line and arc height\n    start_point_xy = [entity_start.x, entity_start.y]\n    end_point_xy = [entity_end.x, entity_end.y]\n    x = math.dist(start_point_xy, end_point_xy) / 2  # chord length/2\n    y = height\n    # conversion to polar coordinates\n    start_point_r, start_point_t = xy_to_rt(entity_start.x, entity_start.y)\n    end_point_r, end_piont_t = xy_to_rt(entity_end.x, entity_end.y)\n    r = (x**2 + y**2) / (2 * y)  # radius\n    return r\n\n\ndef get_arc_radius_halfduct(entity_start, entity_end, height, Line_origin, Symm_angle):\n    # Generate arc radius, center, start and  end point based on for half duct\n    # line and arc height\n    start_point_xy = [entity_start.x, entity_start.y]\n    end_point_xy = [entity_end.x, entity_end.y]\n\n    x = math.dist(start_point_xy, end_point_xy)  # chord length\n    y = height\n    start_point_r, start_point_t = xy_to_rt(entity_start.x, entity_start.y)\n    end_point_r, end_piont_t = xy_to_rt(entity_end.x, entity_end.y)\n    r = (x**2 + y**2) / (2 * y)  # radius\n    if Line_origin == True:\n        # line is closer to origin\n        if start_point_t == 0 or round(start_point_t / Symm_angle, 2) == 1:\n            # start point is on symmetry boundary of geometry\n            new_start_x, new_start_y = rt_to_xy(start_point_r - height, start_point_t)\n            new_end_x, new_end_y = entity_end.x, entity_end.y\n        elif end_piont_t == 0 or round(end_piont_t / Symm_angle, 2) == 1:\n            # end  point is on symmetry boundary of geometry\n            new_start_x, new_start_y = entity_start.x, entity_start.y\n            new_end_x, new_end_y = rt_to_xy(end_point_r - height, end_piont_t)\n    else:\n        # Line is far from origin\n        if start_point_t == 0 or round(start_point_t / Symm_angle, 2) == 1:\n            # start point is on symmetry boundary of geometry\n            new_start_x, new_start_y = rt_to_xy(start_point_r + height, start_point_t)\n            new_end_x, new_end_y = entity_end.x, entity_end.y\n        elif end_piont_t == 0 or round(end_piont_t / Symm_angle, 2) == 1:\n            # end point is on symmetry boundary of geometry\n            new_start_x, new_start_y = entity_start.x, entity_start.y\n            new_end_x, new_end_y = rt_to_xy(end_point_r + height, end_piont_t)\n    new_start_point = Coordinate(new_start_x, new_start_y)\n    new_end_point = Coordinate(new_end_x, new_end_y)\n    return r, new_start_point, new_end_point"
      ]
    },
    {
      "cell_type": "markdown",
      "metadata": {},
      "source": [
        "## Get required parameters and objects\nFrom Motor-CAD, get the adaptive parameters and their values.\n\nUse the ``set_default_parameter()`` method to set the required ``Duct Arc Height`` parameter\nif undefined.\n\n"
      ]
    },
    {
      "cell_type": "code",
      "execution_count": null,
      "metadata": {
        "collapsed": false
      },
      "outputs": [],
      "source": [
        "set_default_parameter(\"Duct Arc Height\", 0.7)"
      ]
    },
    {
      "cell_type": "markdown",
      "metadata": {},
      "source": [
        "Set required parameters for the oblong: height of arc ``Duct Arc Height``, duct width and duct\nheight.\n\n"
      ]
    },
    {
      "cell_type": "code",
      "execution_count": null,
      "metadata": {
        "collapsed": false
      },
      "outputs": [],
      "source": [
        "duct_arc_height = mc.get_adaptive_parameter_value(\"Duct Arc Height\")\nduct_height = mc.get_variable(\"CircularDuctL1ChannelHeight\")\nduct_width = mc.get_variable(\"CircularDuctL1ChannelWidth\")\nduct_area = duct_height * duct_width"
      ]
    },
    {
      "cell_type": "markdown",
      "metadata": {},
      "source": [
        "Get the standard template stator region. This can be drawn for debugging if required.\n\n"
      ]
    },
    {
      "cell_type": "code",
      "execution_count": null,
      "metadata": {
        "collapsed": false
      },
      "outputs": [],
      "source": [
        "st_region = mc.get_region(\"stator\")  # get the stator region"
      ]
    },
    {
      "cell_type": "markdown",
      "metadata": {},
      "source": [
        "## Create the Adaptive Templates geometry\nFor each child region of the stator region:\n\n* Check whether the region is a stator duct.\n\n* Find the top and bottom lines that makes up the duct.\n\n* Modify the lines with respective arcs.\n\n* Set the region in Motor-CAD.\n\nThe script accounts for whether ducts are full ducts or half ducts (the case when a duct spans the\nrotor pole boundary)\n\n"
      ]
    },
    {
      "cell_type": "code",
      "execution_count": null,
      "metadata": {
        "collapsed": false
      },
      "outputs": [],
      "source": [
        "for child_name in st_region.child_names:\n    if \"StatorDuctFluidRegion\" in child_name:\n        duct_region = mc.get_region(child_name)\n        if round(duct_region.area / duct_area, 2) == 1:  # check if  full duct is drawn\n            for i, entity in enumerate(duct_region.entities):\n                if round(entity.length / duct_width, 2) == 1:  # check if the line is duct width\n                    # additional check in case width = height\n                    _, angle_start_point_angle = xy_to_rt(entity.start.x, entity.start.y)\n                    _, angle_end_point_angle = xy_to_rt(entity.end.x, entity.end.y)\n                    if (\n                        abs(angle_end_point_angle - angle_start_point_angle) > 0.05\n                    ):  # 0.05 degree is tolerance\n                        # get radius and center\n                        # convert this line segment to Arc\n                        Line_origin = check_line_origin_distance(\n                            i, duct_region\n                        )  # line near of far from origin\n                        radius = get_arc_radius(entity.start, entity.end, duct_arc_height)\n                        Duct_Arc = Arc(entity.start, entity.end, radius=radius)\n                        duct_region.entities[i] = Duct_Arc\n\n        elif round(duct_region.area / duct_area, 2) == 0.5:  # if the half duct is drawn\n            Symm_angle = 360 / duct_region.duplications  # angle of symmetry\n            for i, entity in enumerate(duct_region.entities):\n                if (\n                    round(entity.length / duct_width, 2) == 0.5\n                ):  # check if  the line is half duct width\n                    # additional check in case width/2 = height\n                    _, angle_start_point_angle = xy_to_rt(entity.start.x, entity.start.y)\n                    _, angle_end_point_angle = xy_to_rt(entity.end.x, entity.end.y)\n                    if (\n                        abs(angle_end_point_angle - angle_start_point_angle) > 0.05\n                    ):  # 0.05 degree is tolerance\n                        # get radius and center\n                        # convert this line segment to Arc\n                        Line_origin = check_line_origin_distance(i, duct_region)\n                        radius, start_point, end_point = get_arc_radius_halfduct(\n                            entity.start, entity.end, duct_arc_height, Line_origin, Symm_angle\n                        )\n                        Duct_Arc = Arc(start_point, end_point, radius=radius)\n                        duct_region.entities[i] = Duct_Arc\n                elif round(entity.length / duct_height, 2) == 1:\n                    # modify the line on symmetry planes\n                    rad_start_point, angle_start_point = xy_to_rt(entity.start.x, entity.start.y)\n                    rad_end_point, angle_end_point = xy_to_rt(entity.end.x, entity.end.y)\n                    if angle_start_point == 0 and angle_end_point == 0:\n                        # line located at x=0\n                        entity.start.x = entity.start.x - duct_arc_height\n                        entity.end.x = entity.end.x + duct_arc_height\n                    elif (\n                        round(angle_start_point / Symm_angle, 2) == 1\n                        and round(angle_end_point / Symm_angle, 2) == 1\n                    ):\n                        # line on symmetry plane\n                        # start and end point follow anticlockwise naming convention\n                        rad_start_point = rad_start_point + duct_arc_height\n                        rad_end_point = rad_end_point - duct_arc_height\n                        new_start_x, new_start_y = rt_to_xy(rad_start_point, angle_start_point)\n                        new_end_x, new_end_y = rt_to_xy(rad_end_point, angle_end_point)\n                        start_point = Coordinate(new_start_x, new_start_y)\n                        end_point = Coordinate(new_end_x, new_end_y)\n                        duct_region.entities[i] = Line(start_point, end_point)\n\n        mc.set_region(duct_region)"
      ]
    },
    {
      "cell_type": "markdown",
      "metadata": {},
      "source": [
        "<img src=\"file://../../images/adaptive_templates/OblongDuct.png\" width=\"600pt\">\n\n"
      ]
    },
    {
      "cell_type": "markdown",
      "metadata": {},
      "source": [
        "## Apply surface area correction in Motor-CAD Thermal\nThe oblong stator ducts can be used in the Motor-CAD Thermal model as channels for water jacket\ncooling. The **Housing Water Jacket** cooling model in Motor-CAD can be set up to use stator duct\nchannels when a housing type without channels is selected in the **Geometry** tab.\n\nAs of Motor-CAD v2024R2, the **Housing Water Jacket** calculations will use duct areas from the\nMotor-CAD Standard Template geometry - not the custom Adaptive Templates geometry. For example,\nwhen the stator duct geometry has been updated from rectangular to oblong shapes, the duct area\nhas increased. For this example, the area increases from 6 mm\\ :sup:`2` to 8.03852\\ :sup:`2`. This\ncan be seen in the **Geometry -> Editor -> Geometry** tab, or by using the ``area`` method for the\nduct region.\n\n"
      ]
    },
    {
      "cell_type": "markdown",
      "metadata": {},
      "source": [
        "<img src=\"file://../../images/adaptive_templates/OblongDuct_area.png\" width=\"600pt\">\n\n"
      ]
    },
    {
      "cell_type": "markdown",
      "metadata": {},
      "source": [
        "To account for this in the **Housing Water Jacket** cooling model, you can apply a cross section\narea adjustment. By default, this is set to 0. To see this in the Motor-CAD interface, go to the\n**Input Data -> Housing Water Jacket -> Fluid FLow** tab in the **Thermal** context.\n\n"
      ]
    },
    {
      "cell_type": "markdown",
      "metadata": {},
      "source": [
        "<img src=\"file://../../images/adaptive_templates/OblongDuct_HWJ_before.png\" width=\"600pt\">\n\n"
      ]
    },
    {
      "cell_type": "markdown",
      "metadata": {},
      "source": [
        "The appropriate area adjustment is calculated and applied within the Adaptive Templates script.\nTo calculate the area adjustment, get the area of the stator duct regions using the ``area``\nmethod. For the case where there are two half-ducts, it is necessary to get the area for all duct\nregions and to calculate the sum of the areas.\n\n"
      ]
    },
    {
      "cell_type": "code",
      "execution_count": null,
      "metadata": {
        "collapsed": false
      },
      "outputs": [],
      "source": [
        "oblong_duct_areas = []\nnum_slots = mc.get_variable(\"Slot_Number\")\nnum_ducts = mc.get_variable(\"CircularDuctL1Channels\")\nducts_per_slot = num_ducts / num_slots\nfor child_name in st_region.child_names:\n    if \"StatorDuctFluidRegion\" in child_name:\n        oblong_duct_areas.append(mc.get_region(child_name).area)\noblong_duct_area = sum(oblong_duct_areas) / ducts_per_slot"
      ]
    },
    {
      "cell_type": "markdown",
      "metadata": {},
      "source": [
        "The area of the original rectangular duct was already calculated earlier (``duct_area``). The area\nadjustment is calculated by subtracting the rectangular duct area from the oblong duct area.\n\n"
      ]
    },
    {
      "cell_type": "code",
      "execution_count": null,
      "metadata": {
        "collapsed": false
      },
      "outputs": [],
      "source": [
        "area_adjustment = oblong_duct_area - duct_area"
      ]
    },
    {
      "cell_type": "markdown",
      "metadata": {},
      "source": [
        "Set the area adjustment value in Motor-CAD.\n\n"
      ]
    },
    {
      "cell_type": "code",
      "execution_count": null,
      "metadata": {
        "collapsed": false
      },
      "outputs": [],
      "source": [
        "mc.set_array_variable(\"HousingWJ_Channel_CSArea_L1_A_Adjustment\", 0, area_adjustment)"
      ]
    },
    {
      "cell_type": "markdown",
      "metadata": {},
      "source": [
        "The area adjustment is applied by the Adaptive Templates script and is updated any time the\ngeometry is changed.\n\n"
      ]
    },
    {
      "cell_type": "markdown",
      "metadata": {},
      "source": [
        "<img src=\"file://../../images/adaptive_templates/OblongDuct_HWJ_after.png\" width=\"600pt\">\n\n"
      ]
    },
    {
      "cell_type": "markdown",
      "metadata": {},
      "source": [
        "## Load in Adaptive Templates script if required\nWhen this script is run externally, the script executes the following:\n\n* Set **Geometry type** to **Adaptive**.\n\n* Load the script into the **Adaptive Templates** tab.\n\n* Go to the **Geometry -> Radial** tab to run the Adaptive Templates script and display the new\n  geometry.\n\n"
      ]
    },
    {
      "cell_type": "markdown",
      "metadata": {},
      "source": [
        "<div class=\"alert alert-info\"><h4>Note</h4><p>When running in a Jupyter Notebook, you must provide the path for the Adaptive Templates script\n   (PY file) instead of ``sys.argv[0]`` when using the ``load_adaptive_script()`` method.</p></div>\n\n"
      ]
    },
    {
      "cell_type": "code",
      "execution_count": null,
      "metadata": {
        "collapsed": false
      },
      "outputs": [],
      "source": [
        "if not pymotorcad.is_running_in_internal_scripting():\n    mc.set_variable(\"GeometryTemplateType\", 1)\n    mc.load_adaptive_script(sys.argv[0])\n    mc.display_screen(\"Geometry;Radial\")"
      ]
    }
  ],
  "metadata": {
    "kernelspec": {
      "display_name": "Python 3",
      "language": "python",
      "name": "python3"
    },
    "language_info": {
      "codemirror_mode": {
        "name": "ipython",
        "version": 3
      },
      "file_extension": ".py",
      "mimetype": "text/x-python",
      "name": "python",
      "nbconvert_exporter": "python",
      "pygments_lexer": "ipython3",
      "version": "3.10.11"
    }
  },
  "nbformat": 4,
  "nbformat_minor": 0
}