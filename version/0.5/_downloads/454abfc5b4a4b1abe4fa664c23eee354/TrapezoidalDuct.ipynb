{
  "cells": [
    {
      "cell_type": "markdown",
      "metadata": {},
      "source": [
        "\n# Trapezoidal ducts\nThis script applies the adaptive templates functionality to modify rectangular ducts\ninto trapezoidal ducts.\n"
      ]
    },
    {
      "cell_type": "markdown",
      "metadata": {},
      "source": [
        "## Perform required imports\nImport ``pymotorcad`` to access Motor-CAD.\nImport ``Coordinate``, ``rt_to_xy``, ``xy_to_rt``\nto define the adaptive template geometry.\nImport ``os``, ``shutil``, ``sys``, and ``tempfile``\nto open and save a temporary .mot file if none is open.\n\n"
      ]
    },
    {
      "cell_type": "code",
      "execution_count": null,
      "metadata": {
        "collapsed": false
      },
      "outputs": [],
      "source": [
        "import os\nimport shutil\nimport sys\nimport tempfile\n\nimport ansys.motorcad.core as pymotorcad\nfrom ansys.motorcad.core.geometry import Coordinate, rt_to_xy, xy_to_rt"
      ]
    },
    {
      "cell_type": "markdown",
      "metadata": {},
      "source": [
        "## Connect to Motor-CAD\nIf this script is loaded into the Adaptive Templates file in Motor-CAD, the current Motor-CAD\ninstance is used.\n\nIf the script is run externally, these actions occur: a new Motor-CAD instance is opened,\nthe e10 IPM motor template is loaded and set up with four rectangular rotor ducts, and the file is\nsaved to a temporary folder. To keep a new Motor-CAD instance open after executing the script, use\nthe``MotorCAD(keep_instance_open=True)`` option when opening the new instance.\nAlternatively, use the ``MotorCAD()`` method, which closes the Motor-CAD instance after the\nscript is executed.\n\n"
      ]
    },
    {
      "cell_type": "code",
      "execution_count": null,
      "metadata": {
        "collapsed": false
      },
      "outputs": [],
      "source": [
        "if pymotorcad.is_running_in_internal_scripting():\n    # Use existing Motor-CAD instance if possible\n    mc = pymotorcad.MotorCAD(open_new_instance=False)\nelse:\n    mc = pymotorcad.MotorCAD(keep_instance_open=True)\n    # Disable popup messages\n    mc.set_variable(\"MessageDisplayState\", 2)\n    mc.set_visible(True)\n    mc.load_template(\"e10\")\n    mc.set_variable(\"RotorDuctType\", 4)  # selected rectangular ducts\n    mc.set_array_variable(\"RotorCircularDuctLayer_ChannelWidth\", 0, 4)  # set duct width\n\n    # Open relevant file\n    working_folder = os.path.join(tempfile.gettempdir(), \"adaptive_library\")\n    try:\n        shutil.rmtree(working_folder)\n    except:\n        pass\n    os.mkdir(working_folder)\n    mot_name = \"Trapezoidal_duct\"\n    mc.save_to_file(working_folder + \"/\" + mot_name + \".mot\")\n\n# Reset geometry to default\nmc.reset_adaptive_geometry()"
      ]
    },
    {
      "cell_type": "markdown",
      "metadata": {},
      "source": [
        "## Define necessary functions\nSet adaptive parameter if required\n~~~~~~~~~~~~~~~~~~~~~~~~~~~~~~~~~~\nThe ``set_default_parameter`` function is defined to check if a parameter exists. If not,\nit creates the parameter with a default value.\n\n"
      ]
    },
    {
      "cell_type": "code",
      "execution_count": null,
      "metadata": {
        "collapsed": false
      },
      "outputs": [],
      "source": [
        "def set_default_parameter(parameter_name, default_value):\n    try:\n        mc.get_adaptive_parameter_value(parameter_name)\n    except pymotorcad.MotorCADError:\n        mc.set_adaptive_parameter_value(parameter_name, default_value)"
      ]
    },
    {
      "cell_type": "markdown",
      "metadata": {},
      "source": [
        "### Check line distance from origin\nThe rectangle consists of two lines of length equal to the rectangle width.\nOnly the top line requires modification.\nIt is necessary to check whether the line is closest to the origin. Index ``i`` is\nthe line under investigation. Index ``j`` is the adjacent line. If the radius of midpoint of line\n``i`` is less than that of line ``j`` , line ``i`` is closer to the origin.\n\n"
      ]
    },
    {
      "cell_type": "code",
      "execution_count": null,
      "metadata": {
        "collapsed": false
      },
      "outputs": [],
      "source": [
        "def check_line_origin_distance(i, duct_region):\n    if i == 0:  # first index of rectangle duct\n        j = 1\n    else:\n        j = i - 1\n    rad_start_i, _ = xy_to_rt(duct_region.entities[i].start.x, duct_region.entities[i].start.y)\n    rad_end_i, _ = xy_to_rt(duct_region.entities[i].end.x, duct_region.entities[i].end.y)\n    rad_mid_i = (rad_start_i + rad_end_i) / 2\n    rad_start_j, _ = xy_to_rt(duct_region.entities[j].start.x, duct_region.entities[j].start.y)\n    rad_end_j, _ = xy_to_rt(duct_region.entities[j].end.x, duct_region.entities[j].end.y)\n    rad_mid_j = (rad_start_j + rad_end_j) / 2\n    if rad_mid_i < rad_mid_j:\n        return True\n    else:\n        return False"
      ]
    },
    {
      "cell_type": "markdown",
      "metadata": {},
      "source": [
        "## Get required parameters and objects\nFrom Motor-CAD, get the adaptive parameters and their values.\n\nUse the ``set_default_parameter()`` method to set the required ``Trapezoid_base_ratio`` parameter\nif undefined.\n\n"
      ]
    },
    {
      "cell_type": "code",
      "execution_count": null,
      "metadata": {
        "collapsed": false
      },
      "outputs": [],
      "source": [
        "set_default_parameter(\"Trapezoid_base_ratio\", 0.7)"
      ]
    },
    {
      "cell_type": "markdown",
      "metadata": {},
      "source": [
        "Set required parameters for the trapezoid: ratio of top width / base width\n(``Trapezoid_base_ratio``), trapezoid width and trapezoid height.\n\n"
      ]
    },
    {
      "cell_type": "code",
      "execution_count": null,
      "metadata": {
        "collapsed": false
      },
      "outputs": [],
      "source": [
        "Trap_ratio = mc.get_adaptive_parameter_value(\"Trapezoid_base_ratio\")\nTrap_W = mc.get_array_variable(\n    \"RotorCircularDuctLayer_ChannelWidth\",\n    0,\n)\nTrap_H = mc.get_array_variable(\n    \"RotorCircularDuctLayer_ChannelHeight\",\n    0,\n)"
      ]
    },
    {
      "cell_type": "markdown",
      "metadata": {},
      "source": [
        "Get the standard template rotor region. This can be drawn for debugging if required.\n\n"
      ]
    },
    {
      "cell_type": "code",
      "execution_count": null,
      "metadata": {
        "collapsed": false
      },
      "outputs": [],
      "source": [
        "rt_region = mc.get_region(\"Rotor\")  # get the rotor region"
      ]
    },
    {
      "cell_type": "markdown",
      "metadata": {},
      "source": [
        "## Create the Adaptive Templates geometry\nFor each child region of the rotor region:\n\n* Check whether the region is a rotor duct.\n\n* Find the top line that makes up the duct.\n\n* Modify the start and end points of the line.\n\n* Set the region in Motor-CAD.\n\nThe script accounts for whether ducts are full ducts or half ducts (the case when a duct spans the\nrotor pole boundary)\n\n"
      ]
    },
    {
      "cell_type": "code",
      "execution_count": null,
      "metadata": {
        "collapsed": false
      },
      "outputs": [],
      "source": [
        "duct_area = Trap_H * Trap_W\nfor child_name in rt_region.child_names:\n    if \"RotorDuctFluidRegion\" in child_name:\n        duct_region = mc.get_region(child_name)\n        if round(duct_region.area / duct_area, 2) == 1:  # check if  full duct is drawn\n            for i, entity in enumerate(duct_region.entities):\n                if round(entity.length / Trap_W, 2) == 1:  # check if  the line is width\n                    # additional check in case width = height\n                    r_start_point, angle_start_point = xy_to_rt(entity.start.x, entity.start.y)\n                    r_end_point, angle_end_point = xy_to_rt(entity.end.x, entity.end.y)\n                    if abs(angle_end_point - angle_start_point) > 0.05:  # 0.05 degree is tolerance\n                        # check if the line located at top or bottom\n                        Line_origin = check_line_origin_distance(i, duct_region)\n                        if not Line_origin:\n                            del_trap_angle = (\n                                (angle_end_point - angle_start_point) * (1 - Trap_ratio) / 2\n                            )\n                            new_angle_start_point = angle_start_point + del_trap_angle\n                            new_angle_end_point = angle_end_point - del_trap_angle\n                            new_start_x, new_start_y = rt_to_xy(\n                                r_start_point, new_angle_start_point\n                            )\n                            new_end_x, new_end_y = rt_to_xy(r_end_point, new_angle_end_point)\n                            new_start_point = Coordinate(new_start_x, new_start_y)\n                            new_end_point = Coordinate(new_end_x, new_end_y)\n                            duct_region.edit_point(entity.start, new_start_point)\n                            duct_region.edit_point(entity.end, new_end_point)\n                            mc.set_region(duct_region)\n\n        elif round(duct_region.area / duct_area, 2) == 0.5:  # half duct\n            Symm_angle = 360 / duct_region.duplications  # angle of symmetry\n\n            for i, entity in enumerate(duct_region.entities):\n                if round(entity.length / Trap_W, 2) == 0.5:  # check if  the line is width\n                    # additional check in case width = height\n                    r_start_point, angle_start_point = xy_to_rt(entity.start.x, entity.start.y)\n                    r_end_point, angle_end_point = xy_to_rt(entity.end.x, entity.end.y)\n                    if abs(angle_end_point - angle_start_point) > 0.05:  # 0.05 degree is tolerance\n                        Line_origin = check_line_origin_distance(i, duct_region)\n                        if not Line_origin:\n                            del_trap_angle = (angle_end_point - angle_start_point) * (\n                                1 - Trap_ratio\n                            )\n                            if (\n                                angle_start_point - 0 < 1e-10\n                                or angle_start_point == 0\n                                or round(angle_start_point / Symm_angle, 2) == 1\n                            ):  # on symmetry plane\n                                new_angle_end_point = angle_end_point - del_trap_angle\n                                new_end_x, new_end_y = rt_to_xy(r_end_point, new_angle_end_point)\n                                new_end_point = Coordinate(new_end_x, new_end_y)\n                                duct_region.edit_point(entity.end, new_end_point)\n                            elif (\n                                angle_end_point - 0 < 1e-10\n                                or round(angle_end_point / Symm_angle, 2) == 1\n                            ):  # symmetry plan\n                                new_angle_start_point = angle_start_point + del_trap_angle\n                                new_start_x, new_start_y = rt_to_xy(\n                                    r_start_point, new_angle_start_point\n                                )\n                                new_start_point = Coordinate(new_start_x, new_start_y)\n                                duct_region.edit_point(entity.start, new_start_point)\n\n                            mc.set_region(duct_region)"
      ]
    },
    {
      "cell_type": "markdown",
      "metadata": {},
      "source": [
        "<img src=\"file://../../images/TrapezoidalDuct1.png\" width=\"300pt\">\n\n"
      ]
    },
    {
      "cell_type": "markdown",
      "metadata": {},
      "source": [
        "## Load in Adaptive Templates script if required\nWhen this script is run externally, the script executes the following:\n\n* Set **Geometry type** to **Adaptive**.\n\n* Load the script into the **Adaptive Templates** tab.\n\n* Go to the **Geometry -> Radial** tab to run the Adaptive Templates script and display the new\n  geometry.\n\n"
      ]
    },
    {
      "cell_type": "markdown",
      "metadata": {},
      "source": [
        "<div class=\"alert alert-info\"><h4>Note</h4><p>When running in a Jupyter Notebook, you must provide the path for the Adaptive Templates script\n   (PY file) instead of ``sys.argv[0]`` when using the ``load_adaptive_script()`` method.</p></div>\n\n"
      ]
    },
    {
      "cell_type": "code",
      "execution_count": null,
      "metadata": {
        "collapsed": false
      },
      "outputs": [],
      "source": [
        "if not pymotorcad.is_running_in_internal_scripting():\n    mc.set_variable(\"GeometryTemplateType\", 1)\n    mc.load_adaptive_script(sys.argv[0])\n    mc.display_screen(\"Geometry;Radial\")"
      ]
    }
  ],
  "metadata": {
    "kernelspec": {
      "display_name": "Python 3",
      "language": "python",
      "name": "python3"
    },
    "language_info": {
      "codemirror_mode": {
        "name": "ipython",
        "version": 3
      },
      "file_extension": ".py",
      "mimetype": "text/x-python",
      "name": "python",
      "nbconvert_exporter": "python",
      "pygments_lexer": "ipython3",
      "version": "3.10.11"
    }
  },
  "nbformat": 4,
  "nbformat_minor": 0
}