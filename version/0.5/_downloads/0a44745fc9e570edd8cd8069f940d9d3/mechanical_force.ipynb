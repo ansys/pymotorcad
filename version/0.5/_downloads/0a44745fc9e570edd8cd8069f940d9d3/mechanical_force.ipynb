{
  "cells": [
    {
      "cell_type": "markdown",
      "metadata": {},
      "source": [
        "\n\n# Mechanical force\nThis example demonstrates internal scripting mechanical force functionality\nThis will compute the operating conditions for some requested torque values\nand display the natural frequencies for the 0th and 8th modes.\n"
      ]
    },
    {
      "cell_type": "markdown",
      "metadata": {},
      "source": [
        "Perform required imports\n\n"
      ]
    },
    {
      "cell_type": "code",
      "execution_count": null,
      "metadata": {
        "collapsed": false
      },
      "outputs": [],
      "source": [
        "import ansys.motorcad.core as pymotorcad"
      ]
    },
    {
      "cell_type": "markdown",
      "metadata": {},
      "source": [
        "Launch Motor-CAD\n\n"
      ]
    },
    {
      "cell_type": "code",
      "execution_count": null,
      "metadata": {
        "collapsed": false
      },
      "outputs": [],
      "source": [
        "mc = pymotorcad.MotorCAD()"
      ]
    },
    {
      "cell_type": "markdown",
      "metadata": {},
      "source": [
        "Create internal script.\nThis could also be saved in a separate file\n\n"
      ]
    },
    {
      "cell_type": "code",
      "execution_count": null,
      "metadata": {
        "collapsed": false
      },
      "outputs": [],
      "source": [
        "import numpy as np\n\n\n# This function is called when \"Run\" is pressed\ndef main():\n    pass\n\n\nclass mechanical_forces:\n    def initial(self):\n        # %%\n        # Disable pop-up messages\n        mc.set_variable(\"MessageDisplayState\", 2)\n\n        # Called before calculation\n        # For each operating point, set requested torque and speed\n        # (using this mode requires that a Lab model has been built)\n        # Note that if a lab model isn't available, MultiForceLoadPointDefinition\n        # can be set to 1 (Current and Phase), and\n        # LoadPoint_Current_Array and LoadPoint_PhaseAdvance_Array set\n        # IM operating points are set with speed, current, and LoadPoint_Slip_Array\n        NVH_Duty_Speed = np.concatenate((250, 6000, 9000), axis=None)\n        NVH_Duty_Torque = np.concatenate((40, 20, 10), axis=None)\n        mc.set_variable(\"NumLoadPoints\", len(NVH_Duty_Speed))\n        for i in range(len(NVH_Duty_Speed)):\n            mc.set_array_variable(\"LoadPoint_Speed_Array\", i, float(NVH_Duty_Speed[i]))\n            mc.set_array_variable(\"LoadPoint_Torque_Array\", i, float(NVH_Duty_Torque[i]))\n\n        # Set number of steps per cycle - for speed just use 30 in this example. 90 would be\n        # a more usual minimum\n        # If calculating for an induction machine (IM), use IMSingleLoadPointsPerCycle instead\n        mc.set_variable(\"TorquePointsPerCycle\", 30)\n\n    def final(self):\n        # Called after calculation\n        # Example modal results\n        o_Natural_Freq_Mode_0 = mc.get_magnetic_graph_point(\"NVH_NaturalFrequency\", 0)\n        o_Natural_Freq_Mode_8 = mc.get_magnetic_graph_point(\"NVH_NaturalFrequency\", 8)\n\n        mc.show_message(\" Natural_Freq_Mode_0 \" + str(o_Natural_Freq_Mode_0))\n        mc.show_message(\" Natural_Freq_Mode_8 \" + str(o_Natural_Freq_Mode_8))\n\n        mc.set_variable(\"MessageDisplayState\", 0)"
      ]
    },
    {
      "cell_type": "markdown",
      "metadata": {},
      "source": [
        "## Note\nFor further details, please see the E-NVH tutorial.\n\n"
      ]
    },
    {
      "cell_type": "markdown",
      "metadata": {},
      "source": [
        "## PyMotorCAD Documentation Example\n(Used for the PyMotorCAD Documentation Examples only)\n\n"
      ]
    },
    {
      "cell_type": "code",
      "execution_count": null,
      "metadata": {
        "collapsed": false
      },
      "outputs": [],
      "source": [
        "try:\n    from setup_scripts.setup_script import run_mech_force_demo\nexcept ImportError:\n    pass\nelse:\n    run_mech_force_demo(mc)"
      ]
    }
  ],
  "metadata": {
    "kernelspec": {
      "display_name": "Python 3",
      "language": "python",
      "name": "python3"
    },
    "language_info": {
      "codemirror_mode": {
        "name": "ipython",
        "version": 3
      },
      "file_extension": ".py",
      "mimetype": "text/x-python",
      "name": "python",
      "nbconvert_exporter": "python",
      "pygments_lexer": "ipython3",
      "version": "3.10.11"
    }
  },
  "nbformat": 4,
  "nbformat_minor": 0
}