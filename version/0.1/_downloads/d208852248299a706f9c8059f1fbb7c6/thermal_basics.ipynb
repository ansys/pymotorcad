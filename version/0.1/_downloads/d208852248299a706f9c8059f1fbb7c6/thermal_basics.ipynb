{
  "cells": [
    {
      "cell_type": "code",
      "execution_count": null,
      "metadata": {
        "collapsed": false
      },
      "outputs": [],
      "source": [
        "%matplotlib inline"
      ]
    },
    {
      "cell_type": "markdown",
      "metadata": {},
      "source": [
        "\n\n# Motor-CAD thermal example script\nThis example provides a Motor-CAD thermal script.\n"
      ]
    },
    {
      "cell_type": "markdown",
      "metadata": {},
      "source": [
        "## Set up example\nSetting up this example consists of performing imports, launching\nMotor-CAD, disabling all popup messages from Motor-CAD, and\nopening the file for the thermal analysis.\n\n"
      ]
    },
    {
      "cell_type": "code",
      "execution_count": null,
      "metadata": {
        "collapsed": false
      },
      "outputs": [],
      "source": [
        "# Perform required imports\n# ~~~~~~~~~~~~~~~~~~~~~~~~\n# Import the required packages.\nimport os\n\nimport matplotlib.pyplot as plt\n\nimport ansys.motorcad.core as pymotorcad\n\nif \"QT_API\" in os.environ:\n    os.environ[\"QT_API\"] = \"pyqt\""
      ]
    },
    {
      "cell_type": "markdown",
      "metadata": {},
      "source": [
        "### Launch Motor-CAD\nInitialize ActiveX automation and launch Motor-CAD.\n\n"
      ]
    },
    {
      "cell_type": "code",
      "execution_count": null,
      "metadata": {
        "collapsed": false
      },
      "outputs": [],
      "source": [
        "print(\"Starting initialization.\")\nmcad = pymotorcad.MotorCAD()"
      ]
    },
    {
      "cell_type": "markdown",
      "metadata": {},
      "source": [
        "### Disable popup messages\nDisable all popup messages from Motor-CAD.\n\n"
      ]
    },
    {
      "cell_type": "code",
      "execution_count": null,
      "metadata": {
        "collapsed": false
      },
      "outputs": [],
      "source": [
        "mcad.set_variable(\"MessageDisplayState\", 2)"
      ]
    },
    {
      "cell_type": "markdown",
      "metadata": {},
      "source": [
        "### Open relevant file\nSpecify the working directory and open the relevant file for the\nthermal analysis.\n\n"
      ]
    },
    {
      "cell_type": "code",
      "execution_count": null,
      "metadata": {
        "collapsed": false
      },
      "outputs": [],
      "source": [
        "working_folder = os.getcwd()\nmcad.load_template(\"e8\")\nmcad_name = \"e8_mobility\"\nmcad.save_to_file(os.path.join(working_folder, mcad_name))\n\nmcad.load_from_file(os.path.join(working_folder, mcad_name + \".mot\"))\n\nprint(\"Initialization completed.\")"
      ]
    },
    {
      "cell_type": "markdown",
      "metadata": {},
      "source": [
        "## Create analysis\nCreating the analysis consists of showing the thermal context, displaying\nthe **Scripting** tab, setting parameters, and saving the file.\n\n"
      ]
    },
    {
      "cell_type": "code",
      "execution_count": null,
      "metadata": {
        "collapsed": false
      },
      "outputs": [],
      "source": [
        "# Show thermal context\n# -----------------------\nmcad.show_thermal_context()"
      ]
    },
    {
      "cell_type": "markdown",
      "metadata": {},
      "source": [
        "Display the **Scripting** tab.\n\n"
      ]
    },
    {
      "cell_type": "code",
      "execution_count": null,
      "metadata": {
        "collapsed": false
      },
      "outputs": [],
      "source": [
        "mcad.display_screen(\"Scripting\")"
      ]
    },
    {
      "cell_type": "markdown",
      "metadata": {},
      "source": [
        "Change the housing diameter.\n\n"
      ]
    },
    {
      "cell_type": "code",
      "execution_count": null,
      "metadata": {
        "collapsed": false
      },
      "outputs": [],
      "source": [
        "mcad.set_variable(\"Housing_Dia\", 250)"
      ]
    },
    {
      "cell_type": "markdown",
      "metadata": {},
      "source": [
        "Set the flow rate of the WJ fluid volume.\n\n"
      ]
    },
    {
      "cell_type": "code",
      "execution_count": null,
      "metadata": {
        "collapsed": false
      },
      "outputs": [],
      "source": [
        "mcad.set_variable(\"WJ_Fluid_Volume_Flow_Rate\", 0.002)"
      ]
    },
    {
      "cell_type": "markdown",
      "metadata": {},
      "source": [
        "Set the temperature of the WJ fluid inlet.\n\n"
      ]
    },
    {
      "cell_type": "code",
      "execution_count": null,
      "metadata": {
        "collapsed": false
      },
      "outputs": [],
      "source": [
        "mcad.set_variable(\"WJ_Fluid_Inlet_Temperature\", 25)"
      ]
    },
    {
      "cell_type": "markdown",
      "metadata": {},
      "source": [
        "Change the cooling fluid.\n\n"
      ]
    },
    {
      "cell_type": "code",
      "execution_count": null,
      "metadata": {
        "collapsed": false
      },
      "outputs": [],
      "source": [
        "mcad.set_fluid(\"HousingWJFluid\", \"Dynalene HF-LO\")"
      ]
    },
    {
      "cell_type": "markdown",
      "metadata": {},
      "source": [
        "Set the heat transfer correlation.\n\n"
      ]
    },
    {
      "cell_type": "code",
      "execution_count": null,
      "metadata": {
        "collapsed": false
      },
      "outputs": [],
      "source": [
        "mcad.set_variable(\"Calc/Input_h[WJ]_Rear_Housing\", 1)\nmcad.set_array_variable(\"HousingWJ_CalcInputH_A\", 0, 1)\n\nwj_fluid_k = mcad.get_variable(\"WJ_Fluid_Thermal_Conductivity\")\nwj_fluid_rho = mcad.get_variable(\"WJ_Fluid_Density\")\nwj_fluid_mu = mcad.get_variable(\"WJ_Fluid_Dynamic_Viscosity\")\nwj_fluid_u_a = mcad.get_array_variable(\"HousingWJ_Velocity_A\", 0)\nwj_fluid_u_r = mcad.get_variable(\"WJ_Channel_Fluid_Velocity_[Rear]\")\n\nh_A = 0.005 * wj_fluid_k * wj_fluid_rho * wj_fluid_u_a / wj_fluid_mu\nh_R = 0.005 * wj_fluid_k * wj_fluid_rho * wj_fluid_u_r / wj_fluid_mu\n\nprint(\"h_A = \", h_A)\nprint(\"h_R = \", h_R)\n\nmcad.set_array_variable(\"HousingWJ_InputH_A\", 0, h_A)\nmcad.set_variable(\"Input_Value_h[WJ]_Rear_Housing\", h_R)"
      ]
    },
    {
      "cell_type": "markdown",
      "metadata": {},
      "source": [
        "Save the file.\n\n"
      ]
    },
    {
      "cell_type": "code",
      "execution_count": null,
      "metadata": {
        "collapsed": false
      },
      "outputs": [],
      "source": [
        "mcad.save_to_file(os.path.join(working_folder, \"../MotorCAD_Thermal_Python.mot\"))"
      ]
    },
    {
      "cell_type": "markdown",
      "metadata": {},
      "source": [
        "## Calculate steady state\nCalculate the steady state.\n\n"
      ]
    },
    {
      "cell_type": "code",
      "execution_count": null,
      "metadata": {
        "collapsed": false
      },
      "outputs": [],
      "source": [
        "try:\n    mcad.do_steady_state_analysis()\n    print(\"Thermal calculation successfully completed.\")\nexcept pymotorcad.MotorCADError:\n    print(\"Thermal calculation failed.\")"
      ]
    },
    {
      "cell_type": "markdown",
      "metadata": {},
      "source": [
        "Retrieve the magnet temperature.\n\n"
      ]
    },
    {
      "cell_type": "code",
      "execution_count": null,
      "metadata": {
        "collapsed": false
      },
      "outputs": [],
      "source": [
        "node_temperature = mcad.get_node_temperature(13)\nprint(\"Node Temp = \", node_temperature)"
      ]
    },
    {
      "cell_type": "markdown",
      "metadata": {},
      "source": [
        "Retrieve the minimum, maximum, and average winding temperatures.\n\n"
      ]
    },
    {
      "cell_type": "code",
      "execution_count": null,
      "metadata": {
        "collapsed": false
      },
      "outputs": [],
      "source": [
        "winding_temperature_min = mcad.get_variable(\"T_[Winding_Min]\")\nwinding_temperature_max = mcad.get_variable(\"T_[Winding_Max]\")\nwinding_temperature_average = mcad.get_variable(\"T_[Winding_Average]\")\nprint(\"Min = \", winding_temperature_min)\nprint(\"Max = \", winding_temperature_max)\nprint(\"Average = \", winding_temperature_average)"
      ]
    },
    {
      "cell_type": "markdown",
      "metadata": {},
      "source": [
        "## Run simulation\nRun the transient simulation.\n\n"
      ]
    },
    {
      "cell_type": "code",
      "execution_count": null,
      "metadata": {
        "collapsed": false
      },
      "outputs": [],
      "source": [
        "mcad.set_variable(\"Transient_Calculation_Type\", 0)\nmcad.set_variable(\"Transient_Time_Period\", 60)\n\ntry:\n    mcad.do_transient_analysis()\nexcept pymotorcad.MotorCADError:\n    print(\"Thermal calculation failed.\")"
      ]
    },
    {
      "cell_type": "markdown",
      "metadata": {},
      "source": [
        "Get the transient results.\n\n"
      ]
    },
    {
      "cell_type": "code",
      "execution_count": null,
      "metadata": {
        "collapsed": false
      },
      "outputs": [],
      "source": [
        "num_time_steps = 51\nwinding_temp_average_transient = []\ntime = []\n\nfor timeStep in range(num_time_steps):\n    try:\n        (x, y) = mcad.get_temperature_graph_point(\"Winding (Avg)\", timeStep)\n        time.append(x)\n        winding_temp_average_transient.append(y)\n    except pymotorcad.MotorCADError:\n        print(\"Export failed.\")"
      ]
    },
    {
      "cell_type": "markdown",
      "metadata": {},
      "source": [
        "## Plot results\nPlot results from the simulation.\n\n"
      ]
    },
    {
      "cell_type": "code",
      "execution_count": null,
      "metadata": {
        "collapsed": false
      },
      "outputs": [],
      "source": [
        "plt.figure(1)\nplt.plot(time, winding_temp_average_transient)\nplt.xlabel(\"Time\")\nplt.ylabel(\"WindingTemp_Average_Transient\")\nplt.show()"
      ]
    },
    {
      "cell_type": "markdown",
      "metadata": {},
      "source": [
        "## Exit Motor-CAD\nExit Motor-CAD.\n\n"
      ]
    },
    {
      "cell_type": "code",
      "execution_count": null,
      "metadata": {
        "collapsed": false
      },
      "outputs": [],
      "source": [
        "mcad.quit()"
      ]
    }
  ],
  "metadata": {
    "kernelspec": {
      "display_name": "Python 3",
      "language": "python",
      "name": "python3"
    },
    "language_info": {
      "codemirror_mode": {
        "name": "ipython",
        "version": 3
      },
      "file_extension": ".py",
      "mimetype": "text/x-python",
      "name": "python",
      "nbconvert_exporter": "python",
      "pygments_lexer": "ipython3",
      "version": "3.10.8"
    }
  },
  "nbformat": 4,
  "nbformat_minor": 0
}