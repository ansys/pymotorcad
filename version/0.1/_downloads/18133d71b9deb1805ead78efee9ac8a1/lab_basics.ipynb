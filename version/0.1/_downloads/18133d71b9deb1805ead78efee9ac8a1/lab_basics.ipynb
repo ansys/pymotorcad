{
  "cells": [
    {
      "cell_type": "code",
      "execution_count": null,
      "metadata": {
        "collapsed": false
      },
      "outputs": [],
      "source": [
        "%matplotlib inline"
      ]
    },
    {
      "cell_type": "markdown",
      "metadata": {},
      "source": [
        "\n\n# Motor-CAD Lab model example script\nThis example provides a Motor-CAD Lab model script.\n"
      ]
    },
    {
      "cell_type": "markdown",
      "metadata": {},
      "source": [
        "## Set up example\nSetting up this example consists of performing imports, launching\nMotor-CAD, disabling all popup messages from Motor-CAD, and opening\nthe file for the lab model.\n\n"
      ]
    },
    {
      "cell_type": "code",
      "execution_count": null,
      "metadata": {
        "collapsed": false
      },
      "outputs": [],
      "source": [
        "# Perform required imports\n# ~~~~~~~~~~~~~~~~~~~~~~~~\n# Import the required packages.\nimport os\n\nimport matplotlib.pyplot as plt\nfrom scipy import io\n\nimport ansys.motorcad.core as pymotorcad\n\nif \"QT_API\" in os.environ:\n    os.environ[\"QT_API\"] = \"pyqt\""
      ]
    },
    {
      "cell_type": "markdown",
      "metadata": {},
      "source": [
        "### Launch Motor-CAD\nInitialize ActiveX automation and launch Motor-CAD.\n\n"
      ]
    },
    {
      "cell_type": "code",
      "execution_count": null,
      "metadata": {
        "collapsed": false
      },
      "outputs": [],
      "source": [
        "print(\"Starting initialization.\")\nmcad = pymotorcad.MotorCAD()"
      ]
    },
    {
      "cell_type": "markdown",
      "metadata": {},
      "source": [
        "### Disable popup messages\nDisable all popup messages from Motor-CAD.\n\n"
      ]
    },
    {
      "cell_type": "code",
      "execution_count": null,
      "metadata": {
        "collapsed": false
      },
      "outputs": [],
      "source": [
        "mcad.set_variable(\"MessageDisplayState\", 2)"
      ]
    },
    {
      "cell_type": "markdown",
      "metadata": {},
      "source": [
        "### Open relevant file\nSpecify the working directory and open the relevant file for\nthe lab model.\n\n"
      ]
    },
    {
      "cell_type": "code",
      "execution_count": null,
      "metadata": {
        "collapsed": false
      },
      "outputs": [],
      "source": [
        "working_folder = os.getcwd()\nmcad.load_template(\"e8\")\nmcad_name = \"e8_mobility\"\nmcad.save_to_file(os.path.join(working_folder, mcad_name + \".mot\"))\n\nprint(\"Initialization completed.\")"
      ]
    },
    {
      "cell_type": "markdown",
      "metadata": {},
      "source": [
        "## Build model\nSet build options for the lab model.\n\n"
      ]
    },
    {
      "cell_type": "code",
      "execution_count": null,
      "metadata": {
        "collapsed": false
      },
      "outputs": [],
      "source": [
        "mcad.set_variable(\"ModelType_MotorLAB\", 1)\nmcad.set_variable(\"SatModelPoints_MotorLAB\", 0)\nmcad.set_variable(\"LossModel_Lab\", 0)\nmcad.set_variable(\"ModelBuildSpeed_MotorLAB\", 10000)\nmcad.set_variable(\"MaxModelCurrent_MotorLAB\", 480)\nmcad.set_variable(\"BuildSatModel_MotorLAB\", True)"
      ]
    },
    {
      "cell_type": "markdown",
      "metadata": {},
      "source": [
        "Show the lab context.\n\n"
      ]
    },
    {
      "cell_type": "code",
      "execution_count": null,
      "metadata": {
        "collapsed": false
      },
      "outputs": [],
      "source": [
        "mcad.set_motorlab_context()"
      ]
    },
    {
      "cell_type": "markdown",
      "metadata": {},
      "source": [
        "Build the model.\n\n"
      ]
    },
    {
      "cell_type": "code",
      "execution_count": null,
      "metadata": {
        "collapsed": false
      },
      "outputs": [],
      "source": [
        "mcad.clear_model_build_lab()\nmcad.build_model_lab()"
      ]
    },
    {
      "cell_type": "markdown",
      "metadata": {},
      "source": [
        "Change operating modes.\n\n"
      ]
    },
    {
      "cell_type": "code",
      "execution_count": null,
      "metadata": {
        "collapsed": false
      },
      "outputs": [],
      "source": [
        "mcad.set_variable(\"OperatingMode_Lab\", 0)"
      ]
    },
    {
      "cell_type": "markdown",
      "metadata": {},
      "source": [
        "## Calculate e-magnetic performance\nSet e-magnetic calculation options.\n\n"
      ]
    },
    {
      "cell_type": "code",
      "execution_count": null,
      "metadata": {
        "collapsed": false
      },
      "outputs": [],
      "source": [
        "mcad.set_variable(\"EmagneticCalcType_Lab\", 0)\nmcad.set_variable(\"SpeedMax_MotorLAB\", 10000)\nmcad.set_variable(\"Speedinc_MotorLAB\", 250)\nmcad.set_variable(\"SpeedMin_MotorLAB\", 500)\nmcad.set_variable(\"Imax_MotorLAB\", 480)"
      ]
    },
    {
      "cell_type": "markdown",
      "metadata": {},
      "source": [
        "Calculate e-magnetic performance.\n\n"
      ]
    },
    {
      "cell_type": "code",
      "execution_count": null,
      "metadata": {
        "collapsed": false
      },
      "outputs": [],
      "source": [
        "try:\n    mcad.calculate_magnetic_lab()\n    print(\"Magnetic calculation successfully completed.\")\nexcept pymotorcad.MotorCADError:\n    print(\"Magnetic calculation failed.\")"
      ]
    },
    {
      "cell_type": "markdown",
      "metadata": {},
      "source": [
        "Retrieve results.\n\n"
      ]
    },
    {
      "cell_type": "code",
      "execution_count": null,
      "metadata": {
        "collapsed": false
      },
      "outputs": [],
      "source": [
        "data = io.loadmat(os.path.join(working_folder, mcad_name, \"Lab\", \"MotorLAB_elecdata.mat\"))\nspeed = data[\"Speed\"]\nshaft_torque = data[\"Shaft_Torque\"]\nshaft_power = data[\"Shaft_Power\"]"
      ]
    },
    {
      "cell_type": "markdown",
      "metadata": {},
      "source": [
        "## Plot results\nPlot torque/speed curve results.\n\n"
      ]
    },
    {
      "cell_type": "code",
      "execution_count": null,
      "metadata": {
        "collapsed": false
      },
      "outputs": [],
      "source": [
        "plt.figure(1)\nplt.subplot(211)\nplt.plot(speed, shaft_torque)\nplt.xlabel(\"Speed\")\nplt.ylabel(\"Shaft Torque\")\nplt.subplot(212)\nplt.plot(speed, shaft_power)\nplt.xlabel(\"Speed\")\nplt.ylabel(\"Shaft Power\")\nplt.show(block=False)\nplt.savefig(os.path.join(working_folder, \"../Maximum Torque VS Speed Curve.png\"))"
      ]
    },
    {
      "cell_type": "markdown",
      "metadata": {},
      "source": [
        "## Calculate operating point\nSet operating point calculation options.\n\n"
      ]
    },
    {
      "cell_type": "code",
      "execution_count": null,
      "metadata": {
        "collapsed": false
      },
      "outputs": [],
      "source": [
        "mcad.set_variable(\"OpPointSpec_MotorLAB\", 1)\nmcad.set_variable(\"StatorCurrentDemand_Lab\", 480)\nmcad.set_variable(\"SpeedDemand_MotorLAB\", 4000)\nmcad.set_variable(\"LabThermalCoupling\", 0)\nmcad.set_variable(\"LabMagneticCoupling\", 0)"
      ]
    },
    {
      "cell_type": "markdown",
      "metadata": {},
      "source": [
        "# Calculate operating point.\n\n"
      ]
    },
    {
      "cell_type": "code",
      "execution_count": null,
      "metadata": {
        "collapsed": false
      },
      "outputs": [],
      "source": [
        "mcad.calculate_operating_point_lab()"
      ]
    },
    {
      "cell_type": "markdown",
      "metadata": {},
      "source": [
        "Retrieve results.\n\n"
      ]
    },
    {
      "cell_type": "code",
      "execution_count": null,
      "metadata": {
        "collapsed": false
      },
      "outputs": [],
      "source": [
        "op_point_shaft_torque = mcad.get_variable(\"LabOpPoint_ShaftTorque\")\nop_point_efficiency = mcad.get_variable(\"LabOpPoint_Efficiency\")\nprint(\"Operating Point Shaft Torque = \", op_point_shaft_torque)\nprint(\"Operating Point Efficiency = \", op_point_efficiency)"
      ]
    },
    {
      "cell_type": "markdown",
      "metadata": {},
      "source": [
        "## Exit Motor-CAD\nExit Motor-CAD.\n\n"
      ]
    },
    {
      "cell_type": "code",
      "execution_count": null,
      "metadata": {
        "collapsed": false
      },
      "outputs": [],
      "source": [
        "mcad.quit()\nprint(\"Simulation completed.\")"
      ]
    }
  ],
  "metadata": {
    "kernelspec": {
      "display_name": "Python 3",
      "language": "python",
      "name": "python3"
    },
    "language_info": {
      "codemirror_mode": {
        "name": "ipython",
        "version": 3
      },
      "file_extension": ".py",
      "mimetype": "text/x-python",
      "name": "python",
      "nbconvert_exporter": "python",
      "pygments_lexer": "ipython3",
      "version": "3.10.8"
    }
  },
  "nbformat": 4,
  "nbformat_minor": 0
}