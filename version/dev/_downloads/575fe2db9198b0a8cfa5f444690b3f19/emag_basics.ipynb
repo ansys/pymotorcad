{
  "cells": [
    {
      "cell_type": "markdown",
      "metadata": {},
      "source": [
        "\n\n# Motor-CAD E-magnetic example script\nThis example provides a Motor-CAD E-magnetic script to run calculations and plot results.\n"
      ]
    },
    {
      "cell_type": "markdown",
      "metadata": {},
      "source": [
        "This script will change model parameter values (geometry, winding pattern and materials),\nrun magnetic calculations, extract and plot results.\n\n<div class=\"alert alert-info\"><h4>Note</h4><p>This script creates a partial custom winding pattern. To create a full winding pattern,\n   parameters must be specified for all coils.</p></div>\n\n## Set up example\nTo set up the example, perform imports, specify the working directory, launch Motor-CAD, and\ndisable all popup messages from Motor-CAD.\n\n### Perform required imports\nImport ``pymotorcad`` to access Motor-CAD. Import ``pyplot`` from ``matplotlib`` to display\ngraphics. Import ``os``, ``shutil``  and ``tempfile`` to open and save a temporary MOT\nfile if none is open.\n\n"
      ]
    },
    {
      "cell_type": "code",
      "execution_count": null,
      "metadata": {
        "collapsed": false
      },
      "outputs": [],
      "source": [
        "import os\nimport shutil\nimport tempfile\n\nimport matplotlib.pyplot as plt\n\nimport ansys.motorcad.core as pymotorcad"
      ]
    },
    {
      "cell_type": "markdown",
      "metadata": {},
      "source": [
        "### Specify working directory\nSave the file to a temporary folder\n\n"
      ]
    },
    {
      "cell_type": "code",
      "execution_count": null,
      "metadata": {
        "collapsed": false
      },
      "outputs": [],
      "source": [
        "working_folder = os.path.join(tempfile.gettempdir(), \"basic_examples\")\ntry:\n    shutil.rmtree(working_folder)\nexcept:\n    pass\nos.mkdir(working_folder)\nmot_name = \"EMagnetic\""
      ]
    },
    {
      "cell_type": "markdown",
      "metadata": {},
      "source": [
        "### Launch Motor-CAD\nConnect to Motor-CAD and open a new Motor-CAD instance. To keep a new Motor-CAD instance open\nafter executing the script, use the ``MotorCAD(keep_instance_open=True)`` option when opening the\nnew instance.\n\n"
      ]
    },
    {
      "cell_type": "code",
      "execution_count": null,
      "metadata": {
        "collapsed": false
      },
      "outputs": [],
      "source": [
        "print(\"Starting initialization.\")\nmc = pymotorcad.MotorCAD()"
      ]
    },
    {
      "cell_type": "markdown",
      "metadata": {},
      "source": [
        "### Disable popup messages\nDisable all popup messages from Motor-CAD by setting the ``MessageDisplayState`` parameter to 2.\n\n<div class=\"alert alert-info\"><h4>Note</h4><p>This will also disable crucial popups, for example prompts to save data or overwrite data, or\n   dialogs used to reconcile differences in material data between the database and MOT file. In\n   each case the default action will be taken. This setting will persist until Motor-CAD is\n   closed.</p></div>\n\n"
      ]
    },
    {
      "cell_type": "code",
      "execution_count": null,
      "metadata": {
        "collapsed": false
      },
      "outputs": [],
      "source": [
        "mc.set_variable(\"MessageDisplayState\", 2)"
      ]
    },
    {
      "cell_type": "markdown",
      "metadata": {},
      "source": [
        "### Set Motor-CAD to EMag\nShow the E-Magnetic context in Motor-CAD and ensure that the BPM\nMotor Type is set.\n\n"
      ]
    },
    {
      "cell_type": "code",
      "execution_count": null,
      "metadata": {
        "collapsed": false
      },
      "outputs": [],
      "source": [
        "mc.show_magnetic_context()\nmc.set_variable(\"Motor_Type\", 0)"
      ]
    },
    {
      "cell_type": "markdown",
      "metadata": {},
      "source": [
        "## Set up analysis\nSetting up the analysis consists of setting the geometry, winding and material parameters, setting\nthe calculation options and operating point, and saving the file.\n\n### Geometry setup\nDisplay the **Scripting** tab and set the ``Slot_Number``, ``Tooth_Width`` and\n``Magnet_Thickness`` geometry parameters.\n\n<div class=\"alert alert-info\"><h4>Note</h4><p>To set parameter values via automation with the GUI visible, a different tab must be displayed.\n   The **Scripting** tab is chosen because no parameters on this tab will be changed in this\n   script. It is best practice to display the **Scripting** tab when changing input parameters by\n   automation. This is required only if the GUI is shown.</p></div>\n\n"
      ]
    },
    {
      "cell_type": "code",
      "execution_count": null,
      "metadata": {
        "collapsed": false
      },
      "outputs": [],
      "source": [
        "mc.display_screen(\"Scripting\")\nmc.set_variable(\"Slot_Number\", 24)\nmc.set_variable(\"Tooth_Width\", 6)\nmc.set_variable(\"Magnet_Thickness\", 4.5)"
      ]
    },
    {
      "cell_type": "markdown",
      "metadata": {},
      "source": [
        "### Winding setup\nInstead of using the automatic winding pattern, set parameters for creating a partial custom\nwinding pattern. This example sets up an unevenly distributed winding pattern:\n\n* Set the winding type to *Custom*.\n\n* Set the path type to *Upper/Lower*.\n\n* Set the number of phases to 3.\n\n* Set the number of parallel paths to 1.\n\n* Set the number of winding layers to 2.\n\n* Define parameters for coil 3 using the ``set_winding_coil()`` method. Set positions to a, b, c\n  etc. when using Upper/Lower paths (when Left/Right paths are selected,  L or R should be used\n  instead). Define the third coil to have 60 turns in the second phase.\n\n"
      ]
    },
    {
      "cell_type": "code",
      "execution_count": null,
      "metadata": {
        "collapsed": false
      },
      "outputs": [],
      "source": [
        "mc.set_variable(\"MagneticWindingType\", 2)\nmc.set_variable(\"MagPathType\", 1)\nmc.set_variable(\"MagPhases\", 3)\nmc.set_variable(\"ParallelPaths\", 1)\nmc.set_variable(\"WindingLayers\", 2)\nmc.set_winding_coil(2, 1, 3, 4, \"b\", 18, \"a\", 60)"
      ]
    },
    {
      "cell_type": "markdown",
      "metadata": {},
      "source": [
        "the changes to the winding pattern are shown below\n\n<img src=\"file://../../images/basics_emag_2.png\">\n\n"
      ]
    },
    {
      "cell_type": "markdown",
      "metadata": {},
      "source": [
        "### Materials setup\nSet the stator and rotor lamination materials. Component names are displayed in the\n*Materials* tab in Motor-CAD. Materials and their properties are defined in the Motor-CAD\n*Material database*.\n\n"
      ]
    },
    {
      "cell_type": "code",
      "execution_count": null,
      "metadata": {
        "collapsed": false
      },
      "outputs": [],
      "source": [
        "mc.set_component_material(\"Stator Lam (Back Iron)\", \"M250-35A\")\nmc.set_component_material(\"Rotor Lam (Back Iron)\", \"M250-35A\")"
      ]
    },
    {
      "cell_type": "markdown",
      "metadata": {},
      "source": [
        "### Calculation options\nSet the torque calculation options for a transient torque calculation with 30 points in 1\nelectrical cycle.\n\n"
      ]
    },
    {
      "cell_type": "code",
      "execution_count": null,
      "metadata": {
        "collapsed": false
      },
      "outputs": [],
      "source": [
        "mc.set_variable(\"TorquePointsPerCycle\", 30)\nmc.set_variable(\"TorqueNumberCycles\", 1)"
      ]
    },
    {
      "cell_type": "markdown",
      "metadata": {},
      "source": [
        "Disable all performance tests except the ones for transient torque.\n\n"
      ]
    },
    {
      "cell_type": "code",
      "execution_count": null,
      "metadata": {
        "collapsed": false
      },
      "outputs": [],
      "source": [
        "mc.set_variable(\"BackEMFCalculation\", False)\nmc.set_variable(\"CoggingTorqueCalculation\", False)\nmc.set_variable(\"ElectromagneticForcesCalc_OC\", False)\nmc.set_variable(\"TorqueSpeedCalculation\", False)\nmc.set_variable(\"DemagnetizationCalc\", False)\nmc.set_variable(\"ElectromagneticForcesCalc_Load\", False)\nmc.set_variable(\"InductanceCalc\", False)\nmc.set_variable(\"BPMShortCircuitCalc\", False)"
      ]
    },
    {
      "cell_type": "markdown",
      "metadata": {},
      "source": [
        "Enable transient torque calculation.\n\n"
      ]
    },
    {
      "cell_type": "code",
      "execution_count": null,
      "metadata": {
        "collapsed": false
      },
      "outputs": [],
      "source": [
        "mc.set_variable(\"TorqueCalculation\", True)"
      ]
    },
    {
      "cell_type": "markdown",
      "metadata": {},
      "source": [
        "### Operating point\nSet the operating point of the machine, defined by the speed, current and phase advance. Ensure\nthat the current definition is set to *Peak* (index 0 of the radio group option).\n\n"
      ]
    },
    {
      "cell_type": "code",
      "execution_count": null,
      "metadata": {
        "collapsed": false
      },
      "outputs": [],
      "source": [
        "mc.set_variable(\"Shaft_Speed_[RPM]\", 1000)\nmc.set_variable(\"CurrentDefinition\", 0)\nmc.set_variable(\"PeakCurrent\", 3)\nmc.set_variable(\"DCBusVoltage\", 350)\nmc.set_variable(\"PhaseAdvance\", 45)"
      ]
    },
    {
      "cell_type": "markdown",
      "metadata": {},
      "source": [
        "### Save the file\nSave the file to the temporary folder and display a message that the initialisation in complete.\n\n"
      ]
    },
    {
      "cell_type": "code",
      "execution_count": null,
      "metadata": {
        "collapsed": false
      },
      "outputs": [],
      "source": [
        "mc.save_to_file(working_folder + \"/\" + mot_name + \".mot\")\nprint(\"Initialisation completed.\")"
      ]
    },
    {
      "cell_type": "markdown",
      "metadata": {},
      "source": [
        "## Run simulation\nRun the electromagnetic calculation in Motor-CAD (solve the e-magnetic model).\n\n"
      ]
    },
    {
      "cell_type": "code",
      "execution_count": null,
      "metadata": {
        "collapsed": false
      },
      "outputs": [],
      "source": [
        "print(\"Running simulation.\")\nmc.do_magnetic_calculation()"
      ]
    },
    {
      "cell_type": "markdown",
      "metadata": {},
      "source": [
        "## Export results to CSV file\nExport results to a CSV file. Results will be saved as *Export_EMag_Results.csv* in the temporary\nworking directory. Use a try and except block to raise an error in the case of the export failing.\n\nUse the ``MotorCADError`` object to obtain error messages from Motor-CAD and raise an Exception in\nthe Python script.\n\n"
      ]
    },
    {
      "cell_type": "code",
      "execution_count": null,
      "metadata": {
        "collapsed": false
      },
      "outputs": [],
      "source": [
        "try:\n    mc.export_results(\"EMagnetic\", working_folder + \"/Export_EMag_Results.csv\")\n    print(\"Results successfully exported.\")\nexcept pymotorcad.MotorCADError as e:\n    print(\"Results failed to export due to Motor-CAD Error: \" + str(e))"
      ]
    },
    {
      "cell_type": "markdown",
      "metadata": {},
      "source": [
        "## Get and analyse results\nRetrieve the torque and voltage output data values.\n\n"
      ]
    },
    {
      "cell_type": "code",
      "execution_count": null,
      "metadata": {
        "collapsed": false
      },
      "outputs": [],
      "source": [
        "shaft_torque = mc.get_variable(\"ShaftTorque\")\nline_voltage = mc.get_variable(\"PeakLineLineVoltage\")\nprint(\n    f\"Shaft Torque: {shaft_torque:.2f} Nm\\n\"\n    f\"Line-Line Terminal Voltage (peak): {line_voltage:.2f} V\"\n)"
      ]
    },
    {
      "cell_type": "markdown",
      "metadata": {},
      "source": [
        "Retrieve the *Torque (VW)* graph data. The data type for this series is *E-Magnetics*, so use the\n``get_magnetic_graph()`` method.\n\n<div class=\"alert alert-info\"><h4>Note</h4><p>When retrieving graph data points, use the **Graph Viewer** under **Help** in the Motor-CAD\n   interface to find the series names and data types.</p></div>\n\n"
      ]
    },
    {
      "cell_type": "code",
      "execution_count": null,
      "metadata": {
        "collapsed": false
      },
      "outputs": [],
      "source": [
        "rotor_position, torque_vw = mc.get_magnetic_graph(\"TorqueVW\")"
      ]
    },
    {
      "cell_type": "markdown",
      "metadata": {},
      "source": [
        "Retrieve the airgap flux density graph data. This data can be found in the *Graph Viewer* in\nMotor-CAD. The data type for this series is **FEA Path**, so use the ``get_fea_graph()`` method.\n\n"
      ]
    },
    {
      "cell_type": "code",
      "execution_count": null,
      "metadata": {
        "collapsed": false
      },
      "outputs": [],
      "source": [
        "mech_angle, airgap_flux_density = mc.get_fea_graph(\"B Gap (on load)\", 1, 0)"
      ]
    },
    {
      "cell_type": "markdown",
      "metadata": {},
      "source": [
        "Only the most recently displayed harmonic graphs are available in Motor-CAD via the\n**Graph Viewer**. Retrieve the torque harmonic graph data using the\n``get_magnetic_graph_harmonics()`` method.\n\n<div class=\"alert alert-info\"><h4>Note</h4><p>The ``get_magnetic_graph_harmonics()`` method is available from PyMotorCAD v0.7.2 onwards. The\n   previous workflow for extracting harmonic graph data is detailed in the PyMotorCAD v0.6\n   documentation.</p></div>\n\n"
      ]
    },
    {
      "cell_type": "code",
      "execution_count": null,
      "metadata": {
        "collapsed": false
      },
      "outputs": [],
      "source": [
        "harmonic_order, harmonic_amplitude, __ = mc.get_magnetic_graph_harmonics(\"TorqueVW\")\n\nprint(\"Simulation completed.\")"
      ]
    },
    {
      "cell_type": "markdown",
      "metadata": {},
      "source": [
        "## Plot results\nUse``pyplot`` from ``matplotlib`` (imported as ``plt``) to plot graphs of the simulation results.\nPlot the Airgap Flux Density and the Torque (VW) results as subplots in the same figure.\n\n"
      ]
    },
    {
      "cell_type": "code",
      "execution_count": null,
      "metadata": {
        "collapsed": false
      },
      "outputs": [],
      "source": [
        "plt.subplot(211)\nplt.plot(mech_angle, airgap_flux_density)\nplt.xlabel(\"Mech Angle\")\nplt.ylabel(\"Airgap Flux Density\")\n# plt.subplots_adjust(bottom=0.19)\nplt.subplot(212)\nplt.plot(rotor_position, torque_vw)\nplt.xlabel(\"Rotor Position\")\nplt.ylabel(\"TorqueVW\")\nplt.show()"
      ]
    },
    {
      "cell_type": "markdown",
      "metadata": {},
      "source": [
        "Plot the Torque harmonic results as a bar chart.\n\n"
      ]
    },
    {
      "cell_type": "code",
      "execution_count": null,
      "metadata": {
        "collapsed": false
      },
      "outputs": [],
      "source": [
        "plt.figure(2)\nplt.bar(harmonic_order, harmonic_amplitude)\nplt.xlabel(\"Harmonic order (Electrical)\")\nplt.ylabel(\"Harmonic amplitude (Nm)\")\nplt.show()"
      ]
    },
    {
      "cell_type": "markdown",
      "metadata": {},
      "source": [
        "If you want to continue working with this instance of Motor-CAD, use the\n``MotorCAD(keep_instance_open=True)`` option when you launch Motor-CAD. If Motor-CAD is kept open,\nit is useful to restore the popup messages that were disabled earlier, using the\n``set_variable()`` method.\n\n"
      ]
    },
    {
      "cell_type": "code",
      "execution_count": null,
      "metadata": {
        "collapsed": false
      },
      "outputs": [],
      "source": [
        "mc.set_variable(\"MessageDisplayState\", 0)"
      ]
    }
  ],
  "metadata": {
    "kernelspec": {
      "display_name": "Python 3",
      "language": "python",
      "name": "python3"
    },
    "language_info": {
      "codemirror_mode": {
        "name": "ipython",
        "version": 3
      },
      "file_extension": ".py",
      "mimetype": "text/x-python",
      "name": "python",
      "nbconvert_exporter": "python",
      "pygments_lexer": "ipython3",
      "version": "3.12.10"
    }
  },
  "nbformat": 4,
  "nbformat_minor": 0
}