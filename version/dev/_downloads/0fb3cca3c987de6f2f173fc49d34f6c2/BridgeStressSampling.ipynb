{
  "cells": [
    {
      "cell_type": "markdown",
      "metadata": {},
      "source": [
        "\n# Stress sampling example\nThis example shows how to sample the stresses in the rotor bridges.\n\nThis script should be run from the scripting tab after the stress calculation\nhas been run in Motor-CAD.\n"
      ]
    },
    {
      "cell_type": "code",
      "execution_count": null,
      "metadata": {
        "collapsed": false
      },
      "outputs": [],
      "source": [
        "from math import asin, cos, radians, sin\nimport os\nimport sys\n\n# Standard imports\nimport ansys.motorcad.core as pymotorcad\n\n# Connect to Motor-CAD\nmcApp = pymotorcad.MotorCAD()\n\n# Users should run this script from the scripting tab after the stress calculation\n# Trigger this automatically for the automated documentation build\nif \"PYMOTORCAD_DOCS_BUILD\" in os.environ:\n    mcApp.set_variable(\"MessageDisplayState\", 2)\n    mcApp.load_template(\"e10\")\n    mcApp.do_mechanical_calculation()\n\n# Sample points is hardcoded to 15 in Motor-CAD for stress averaging\nsample_points = 15\n\n# Check the rotor type\nrotor_type = mcApp.get_variable(\"BPMRotor\")\n# U shape is 13, V web is 11\nif rotor_type == 11:\n    layers = mcApp.get_variable(\"VMagnet_Layers\")\nelif rotor_type == 13:\n    layers = mcApp.get_variable(\"Magnet_Layers\")\nelse:\n    sys.exit(\"Stress sampling only available for V web and U templates\")\n\n# Get variables independent of the rotor type\naverage_stress_location_bridge = mcApp.get_variable(\"AvStressRadialLocation_Bridge\")\nrotor_diameter = mcApp.get_variable(\"RotorDiameter\")\npoles = mcApp.get_variable(\"Pole_Number\")\npole_pairs = poles / 2\n\nfor layer in range(layers):\n    if rotor_type == 11:\n        # V Web template\n        bridge_thickness = mcApp.get_array_variable(\"BridgeThickness_Array\", layer)\n        web_thickness = mcApp.get_array_variable(\"WebThickness_Array\", layer)\n        pole_arc = radians(mcApp.get_array_variable(\"PoleArc_Array\", layer) / pole_pairs)\n        theta_4 = asin(web_thickness / (2 * (rotor_diameter / 2 - bridge_thickness)))\n        theta_0 = radians(180 / poles) + pole_arc / 2\n        theta_1 = radians(360 / poles) - theta_4\n        theta_bridge_span = theta_1 - theta_0\n        # Arc covers half the bridge\n        delta_theta = theta_bridge_span / 2 / sample_points\n        theta = theta_0 + theta_bridge_span / 2\n    elif rotor_type == 13:\n        # U template\n        bridge_thickness = mcApp.get_array_variable(\"UShape_BridgeThickness_Array\", layer)\n        web_thickness = mcApp.get_array_variable(\"UShape_WebThickness_Array\", layer)\n        outer_thickness = mcApp.get_array_variable(\"UShape_Thickness_Outer_Array\", layer)\n        theta_offset = radians(mcApp.get_array_variable(\"UShape_OuterAngleOffset_Array\", layer))\n        inner_rad = rotor_diameter / 2 - bridge_thickness\n\n        # The start angle of the FEA model\n        theta_0 = radians(360 / poles)\n\n        # The angle to the end of the web\n        theta_1 = asin(web_thickness / (2 * inner_rad))\n\n        # We now need to solve for phi (the arc angle from the centre) with\n        # cos(theta_offset - theta_1 - phi/2) * sin(phi/2) = outer_thickness / (2 * inner_rad)\n        # This is non-trivial, so do this numerically\n        test_phi = 0\n        found_phi = False\n        phi_step = radians(0.01)\n        iteration = 0\n        last_err = cos(theta_offset - theta_1 - test_phi / 2) * sin(\n            test_phi / 2\n        ) - outer_thickness / (2 * inner_rad)\n        while found_phi == False and iteration < 36000:\n            test_phi = test_phi + phi_step\n            iteration = iteration + 1\n            err = cos(theta_offset - theta_1 - test_phi / 2) * sin(\n                test_phi / 2\n            ) - outer_thickness / (2 * inner_rad)\n            # Check if error has changed sign, if so we are close to the correct solution\n            if err * last_err < 0:\n                found_phi = True\n            else:\n                last_err = err\n        theta_bridge_span = test_phi\n\n        # Arc covers half the bridge\n        delta_theta = theta_bridge_span / 2 / sample_points\n        theta = theta_0 - (theta_1 + theta_bridge_span / 2)\n\n    # Common logic for both rotor types\n    r0 = rotor_diameter / 2 - bridge_thickness * (1 - average_stress_location_bridge)\n    stresses = []\n    points = []\n    for point in range(sample_points):\n        this_theta = theta + point * delta_theta\n        x = r0 * cos(this_theta)\n        y = r0 * sin(this_theta)\n        points.append([x, y])\n        stresses.append(mcApp.get_point_value(\"SVM\", x, y)[0])\n\n    # Display results for this layer\n    print(\"Point positions: \" + str(points))\n    print(\"Stress at points: \" + str(stresses))\n    print(\"Mean stress: \" + str(sum(stresses) / len(stresses)))"
      ]
    }
  ],
  "metadata": {
    "kernelspec": {
      "display_name": "Python 3",
      "language": "python",
      "name": "python3"
    },
    "language_info": {
      "codemirror_mode": {
        "name": "ipython",
        "version": 3
      },
      "file_extension": ".py",
      "mimetype": "text/x-python",
      "name": "python",
      "nbconvert_exporter": "python",
      "pygments_lexer": "ipython3",
      "version": "3.12.10"
    }
  },
  "nbformat": 4,
  "nbformat_minor": 0
}