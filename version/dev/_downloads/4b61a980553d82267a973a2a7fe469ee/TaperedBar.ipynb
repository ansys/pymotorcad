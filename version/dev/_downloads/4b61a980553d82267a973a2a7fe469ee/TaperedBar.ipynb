{
  "cells": [
    {
      "cell_type": "markdown",
      "metadata": {},
      "source": [
        "\n# Converting IM parallel tooth bar to tapered tooth bar\n\nThis script applies the adaptive templates functionality to change\nthe points at the bottom of parallel tooth to create a tapered tooth bar geometry.\n"
      ]
    },
    {
      "cell_type": "code",
      "execution_count": null,
      "metadata": {
        "collapsed": false
      },
      "outputs": [],
      "source": [
        "import math\nimport sys\n\nimport ansys.motorcad.core as pymotorcad\nfrom ansys.motorcad.core.geometry import Coordinate, rt_to_xy, xy_to_rt\n\n# Connect to Motor-CAD, using existing instance\n# Alternatively, we could open a new instance and load a file with mc.load_from_file()\nmc = pymotorcad.MotorCAD()\n\n# Reset geometry to default\nmc.reset_adaptive_geometry()\n\n# Disable popup messages\nmc.set_variable(\"MessageDisplayState\", 2)\n\n\n# function to return angle based on chord length\n# Used for finding new point based on tooth width at bottom of bar\ndef chord_angle(cord_length, r):\n    angle = 2 * math.asin(cord_length / (2 * r))\n    return angle * 180 / math.pi\n\n\n# Set IM motor type if not already\nif not pymotorcad.is_running_in_internal_scripting():\n    mc.load_template(\"i6a\")\n\n\n# Get the bar region\nbar = mc.get_region(\"TopRotorBar\")\n\n# Get the points at the bottom corners of bar\n# Point1 is away from x axis\npoint1 = bar.points[3]\npoint2 = bar.points[5]\n\n# Get the top bar tooth width\n# Define adaptive parameter for booth bar tooth width\ntooth_width_top = mc.get_variable(\"Rotor_Tooth_Width_T\")\nmc.set_adaptive_parameter_default(\"Rotor Tooth Width Bottom\", 4)\ntooth_width_bottom = mc.get_adaptive_parameter_value(\"Rotor Tooth Width Bottom\")\n\n# Get the point 1 polar coordinates and modify\npoint1_r, point_1_t = xy_to_rt(point1.x, point1.y)\nchord_length = (tooth_width_top - tooth_width_bottom) / 2\ndel_angle = chord_angle(chord_length, point1_r)\npoint1_t_new = point_1_t + del_angle\n\n# Get the point 2 polar coordinates and modify\npoint2_r, point_2_t = xy_to_rt(point2.x, point2.y)\nchord_length = (tooth_width_top - tooth_width_bottom) / 2\ndel_angle = chord_angle(chord_length, point2_r)\npoint_2_t_new = point_2_t - del_angle\n\n# Get new region coordinates\nx, y = rt_to_xy(point1_r, point1_t_new)\npoint1_new = Coordinate(x, y)\nx, y = rt_to_xy(point2_r, point_2_t_new)\npoint2_new = Coordinate(x, y)\n\n# Edit points at the bottom of the bar\nbar.edit_point(point1, point1_new)\nbar.edit_point(point2, point2_new)\n\n# Set corner rounding if needed\nbar.round_corner(point1_new, 0.2)\nbar.round_corner(point2_new, 0.2)\n\n# Set new region\nmc.set_region(bar)\n\n# If we're running this externally, load adaptive template script into Motor-CAD\nif not pymotorcad.is_running_in_internal_scripting():\n    mc.set_variable(\"GeometryTemplateType\", 1)\n    mc.load_adaptive_script(sys.argv[0])"
      ]
    }
  ],
  "metadata": {
    "kernelspec": {
      "display_name": "Python 3",
      "language": "python",
      "name": "python3"
    },
    "language_info": {
      "codemirror_mode": {
        "name": "ipython",
        "version": 3
      },
      "file_extension": ".py",
      "mimetype": "text/x-python",
      "name": "python",
      "nbconvert_exporter": "python",
      "pygments_lexer": "ipython3",
      "version": "3.12.10"
    }
  },
  "nbformat": 4,
  "nbformat_minor": 0
}