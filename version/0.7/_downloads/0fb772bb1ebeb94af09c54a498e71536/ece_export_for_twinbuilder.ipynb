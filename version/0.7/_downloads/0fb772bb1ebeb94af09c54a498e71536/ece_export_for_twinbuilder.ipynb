{
  "cells": [
    {
      "cell_type": "markdown",
      "metadata": {},
      "source": [
        "\n# Motor-CAD EMag Twin Builder ECE\nThis example provides a Motor-CAD script for exporting\nan equivalent circuit extraction (ECE) model for permanent\nmagnet synchronous motors (PMSMs) from Motor-CAD to Ansys\nTwin Builder.\n"
      ]
    },
    {
      "cell_type": "markdown",
      "metadata": {},
      "source": [
        "<div class=\"alert alert-info\"><h4>Note</h4><p>This example requires the use of a JSON configuration file. The ``ece_config.json`` file should\n   be saved to the same directory as this example Python script. You can download the\n   ``ece_config.json`` file from:\n   https://github.com/ansys/pymotorcad/blob/main/examples/links/ece_config.json</p></div>\n\n"
      ]
    },
    {
      "cell_type": "markdown",
      "metadata": {},
      "source": [
        "<img src=\"file://../../images/twinbuilder_ECE/EMag_TwinBuilder_ECE.png\">\n\n## Set up example\nSetting up this example consists of performing imports, launching\nMotor-CAD, disabling all popup messages from Motor-CAD, and\nimporting the initial settings.\n\n"
      ]
    },
    {
      "cell_type": "markdown",
      "metadata": {},
      "source": [
        "### Perform required imports\nImport the required packages.\n\n"
      ]
    },
    {
      "cell_type": "code",
      "execution_count": null,
      "metadata": {
        "collapsed": false
      },
      "outputs": [],
      "source": [
        "import json\nimport math\nimport os\nimport shutil\nimport string\nimport tempfile\n\nimport matplotlib.pyplot as plt\nimport numpy as np\nfrom scipy import io\n\nimport ansys.motorcad.core as pymotorcad"
      ]
    },
    {
      "cell_type": "markdown",
      "metadata": {},
      "source": [
        "### Launch Motor-CAD\nInitialise automation and launch Motor-CAD.\n\n"
      ]
    },
    {
      "cell_type": "code",
      "execution_count": null,
      "metadata": {
        "collapsed": false
      },
      "outputs": [],
      "source": [
        "print(\"Starting initialisation.\")\nmc = pymotorcad.MotorCAD()"
      ]
    },
    {
      "cell_type": "markdown",
      "metadata": {},
      "source": [
        "### Disable popup messages\nDisable all popup messages from Motor-CAD.\n\n"
      ]
    },
    {
      "cell_type": "code",
      "execution_count": null,
      "metadata": {
        "collapsed": false
      },
      "outputs": [],
      "source": [
        "mc.set_variable(\"MessageDisplayState\", 2)"
      ]
    },
    {
      "cell_type": "markdown",
      "metadata": {},
      "source": [
        "## Import and save initial settings\nDefine the ``read_parameters`` function to import initial settings from a JSON file and return a\ndictionary:\n\n"
      ]
    },
    {
      "cell_type": "code",
      "execution_count": null,
      "metadata": {
        "collapsed": false
      },
      "outputs": [],
      "source": [
        "def read_parameters(json_file):\n    \"\"\"Read input parameters.\"\"\"\n    with open(json_file, \"r\") as f:\n        param_dict = json.load(f)\n    return param_dict"
      ]
    },
    {
      "cell_type": "markdown",
      "metadata": {},
      "source": [
        "Specify the working directory. The Motor-CAD file and results are saved to a temporary folder.\nAlternatively, you can set the working directory to an appropriate file location on your computer.\n\n"
      ]
    },
    {
      "cell_type": "code",
      "execution_count": null,
      "metadata": {
        "collapsed": false
      },
      "outputs": [],
      "source": [
        "working_folder = os.path.join(tempfile.gettempdir(), \"twinbuilder_ECE_export\")\ntry:\n    shutil.rmtree(working_folder)\nexcept:\n    pass\nos.mkdir(working_folder)"
      ]
    },
    {
      "cell_type": "markdown",
      "metadata": {},
      "source": [
        "Use the ``read_parameters`` function to open the ``ece_config.json`` configuration file and import\nthe data as the ``in_data`` dictionary.\n\nThe JSON configuration file must be saved to the same directory as this Python script. The\n``ece_config.json`` file can be downloaded from the PyMotorCAD GitHub repository:\nhttps://github.com/ansys/pymotorcad/blob/main/examples/links/ece_config.json\n\n"
      ]
    },
    {
      "cell_type": "code",
      "execution_count": null,
      "metadata": {
        "collapsed": false
      },
      "outputs": [],
      "source": [
        "json_file = os.path.join(os.getcwd(), \"ece_config.json\")\nin_data = read_parameters(json_file)"
      ]
    },
    {
      "cell_type": "markdown",
      "metadata": {},
      "source": [
        "The necessary data is extracted from the ``in_data`` dictionary. The JSON configuration file\ncontains:\n\n* The Motor-CAD MOT filename to be used for the ECE export. If the file exists in the same\n  directory as this Python script, it will be copied to the ``working_folder`` location. If the\n  file does not exist in the same directory as this Python script or the ``working_folder``\n  location, the script opens the e8 Motor-CAD template by default.\n\n* Operating parameters for the electric machine (shaft speed, DC bus voltage, temperature, maximum\n  current, current resolution and number of points per cycle for the torque calculation). If using\n  an input file, the file in the ``working_folder`` will be modified by setting the operating\n  parameter input settings.\n\n* The filenames to be used for the results files that are exported (map, text file and SML file).\n  Exported files are saved to the working directory, in a subfolder named ``Results``.\n\n"
      ]
    },
    {
      "cell_type": "code",
      "execution_count": null,
      "metadata": {
        "collapsed": false
      },
      "outputs": [],
      "source": [
        "file_name = in_data[\"mot_file\"]\nmot_file = os.path.join(working_folder, file_name)\n\nshaft_speed = in_data[\"shaft_speed\"]\ndc_bus_voltage = float(in_data[\"dc_bus_voltage\"])\nmachine_temp = float(in_data[\"machine_temp\"])\nId_max = float(in_data[\"Id_max\"])\ncurrent_step = float(in_data[\"current_step\"])\npoints_per_cycle = float(in_data[\"torque_points_per_cycle\"])\n\nresults_folder = os.path.join(working_folder, \"Results\")\ntry:\n    shutil.rmtree(results_folder)\nexcept:\n    pass\nos.mkdir(results_folder)\nmap_name = os.path.join(results_folder, in_data[\"map_name\"])\ntxt_file = os.path.join(results_folder, in_data[\"txt_file\"])\nsml_file = os.path.join(results_folder, in_data[\"sml_file\"])"
      ]
    },
    {
      "cell_type": "markdown",
      "metadata": {},
      "source": [
        "Load the Motor-CAD file. If the ``mot_file`` specified in the JSON configuration file exists in\nthe same directory as this Python script, open the MOT file. If the file does not exist in the\nsame directory as this Python script, check the ``working_folder`` for the Motor-CAD file. The\nfile will be modified by setting the operating parameter input settings and saved to the\n``working_folder``.\n\nIf the file does not exist in the same directory as this Python script or the ``working_folder``,\nload the e8 IPM motor template and save the file to the working directory. Use the ``mot_file``\nfilename that was taken from the JSON configuration file. Save input settings to a Motor-CAD MOT\nfile.\n\n"
      ]
    },
    {
      "cell_type": "code",
      "execution_count": null,
      "metadata": {
        "collapsed": false
      },
      "outputs": [],
      "source": [
        "if os.path.isfile(os.path.join(os.getcwd(), file_name)):\n    shutil.copy(os.path.join(os.getcwd(), file_name), mot_file)\n    print(f\"Motor-CAD file copied from {os.path.join(os.getcwd(), file_name)} to {mot_file}.\")\n    mc.load_from_file(mot_file)\n    print(\"Opening \" + mot_file)\nelif os.path.isfile(mot_file):\n    mc.load_from_file(mot_file)\n    print(\"Opening \" + mot_file)\nelse:\n    mc.load_template(\"e8\")\n    mc.save_to_file(mot_file)\n    print(\"Opening Motor-CAD e8 template and saving to \" + mot_file)"
      ]
    },
    {
      "cell_type": "markdown",
      "metadata": {},
      "source": [
        "## Determine alignment angle\nSet up calculation\n~~~~~~~~~~~~~~~~~~\nSet up the Motor-CAD E-Magnetic calculation to run the open circuit back EMF calculation, so that\nthe drive offset angle can be determined. Define the calculation settings as taken from the JSON\nconfiguration file.\n\n* Set the number of points per cycle for the torque calculation in Motor-CAD.\n\n"
      ]
    },
    {
      "cell_type": "code",
      "execution_count": null,
      "metadata": {
        "collapsed": false
      },
      "outputs": [],
      "source": [
        "mc.set_variable(\"TorquePointsPerCycle\", points_per_cycle)"
      ]
    },
    {
      "cell_type": "markdown",
      "metadata": {},
      "source": [
        "* Set the shaft speed for the calculation.\n\n"
      ]
    },
    {
      "cell_type": "code",
      "execution_count": null,
      "metadata": {
        "collapsed": false
      },
      "outputs": [],
      "source": [
        "mc.set_variable(\"ShaftSpeed\", shaft_speed)"
      ]
    },
    {
      "cell_type": "markdown",
      "metadata": {},
      "source": [
        "* Set the **Line Current Definition** option to **Peak** and set the peak current to zero.\n\n"
      ]
    },
    {
      "cell_type": "code",
      "execution_count": null,
      "metadata": {
        "collapsed": false
      },
      "outputs": [],
      "source": [
        "mc.set_variable(\"CurrentDefinition\", 0)\nmc.set_variable(\"PeakCurrent\", 0)"
      ]
    },
    {
      "cell_type": "markdown",
      "metadata": {},
      "source": [
        "* Set the DC bus voltage.\n\n"
      ]
    },
    {
      "cell_type": "code",
      "execution_count": null,
      "metadata": {
        "collapsed": false
      },
      "outputs": [],
      "source": [
        "mc.set_variable(\"DCBusVoltage\", dc_bus_voltage)"
      ]
    },
    {
      "cell_type": "markdown",
      "metadata": {},
      "source": [
        "* Set the armature winding, magnet and shaft temperatures.\n\n"
      ]
    },
    {
      "cell_type": "code",
      "execution_count": null,
      "metadata": {
        "collapsed": false
      },
      "outputs": [],
      "source": [
        "mc.set_variable(\"ArmatureConductor_Temperature\", machine_temp)\nmc.set_variable(\"Magnet_Temperature\", machine_temp)\nmc.set_variable(\"Shaft_Temperature\", machine_temp)"
      ]
    },
    {
      "cell_type": "markdown",
      "metadata": {},
      "source": [
        "* Set the **E-Magnetic <-> Thermal Coupling** option to **No Coupling**.\n\n"
      ]
    },
    {
      "cell_type": "code",
      "execution_count": null,
      "metadata": {
        "collapsed": false
      },
      "outputs": [],
      "source": [
        "mc.set_variable(\"MagneticThermalCoupling\", 0)"
      ]
    },
    {
      "cell_type": "markdown",
      "metadata": {},
      "source": [
        "* Select the **Back EMF** and deselect the **Cogging Torque** open circuit calculations. Deselect\n  the **On Load Torque** and **Torque Speed Curve** calculations.\n\n"
      ]
    },
    {
      "cell_type": "code",
      "execution_count": null,
      "metadata": {
        "collapsed": false
      },
      "outputs": [],
      "source": [
        "mc.set_variable(\"BackEMFCalculation\", True)\nmc.set_variable(\"CoggingTorqueCalculation\", False)\nmc.set_variable(\"TorqueCalculation\", False)\nmc.set_variable(\"TorqueSpeedCalculation\", False)"
      ]
    },
    {
      "cell_type": "markdown",
      "metadata": {},
      "source": [
        "### Run simulation\nRun the Motor-CAD E-Magnetic open circuit back EMF calculation and obtain the results.\n\nSave the Motor-CAD file with the updated calculation settings and run the E-Magnetic calculation.\nUse a ``try`` statement to print an error message if the calculation is not successful.\n\n"
      ]
    },
    {
      "cell_type": "code",
      "execution_count": null,
      "metadata": {
        "collapsed": false
      },
      "outputs": [],
      "source": [
        "mc.save_to_file(mot_file)\ntry:\n    mc.do_magnetic_calculation()\nexcept pymotorcad.MotorCADError:\n    print(\"Calculation failed.\")"
      ]
    },
    {
      "cell_type": "markdown",
      "metadata": {},
      "source": [
        "Get the graph results for flux linkage versus angle (in electric degrees) for the A phase.\n\n"
      ]
    },
    {
      "cell_type": "code",
      "execution_count": null,
      "metadata": {
        "collapsed": false
      },
      "outputs": [],
      "source": [
        "e_deg, flux_a = mc.get_magnetic_graph(\"FluxLinkageOCPh1\")"
      ]
    },
    {
      "cell_type": "markdown",
      "metadata": {},
      "source": [
        "### Plot results\nPlot flux linkage in the A phase.\n\n"
      ]
    },
    {
      "cell_type": "code",
      "execution_count": null,
      "metadata": {
        "collapsed": false
      },
      "outputs": [],
      "source": [
        "plt.figure(1)\nplt.plot(e_deg, flux_a)\nplt.xlabel(\"Position [EDeg]\")\nplt.ylabel(\"FluxLinkageA\")\nplt.title(\"A_Phase Flux Linkage\")\nplt.show()"
      ]
    },
    {
      "cell_type": "markdown",
      "metadata": {},
      "source": [
        "### Calculate the alignment angle\nGet the drive offset angle (the angle used to align the south pole axis of the rotor with the\nmagnetic axis of the first phase).\n\n"
      ]
    },
    {
      "cell_type": "code",
      "execution_count": null,
      "metadata": {
        "collapsed": false
      },
      "outputs": [],
      "source": [
        "drive_offset = mc.get_variable(\"DriveOffsetAngleLoad\")\nprint(\"Drive Offset Angle = \" + str(drive_offset) + \" \u00b0\")"
      ]
    },
    {
      "cell_type": "markdown",
      "metadata": {},
      "source": [
        "Calculate the alignment angle from the drive_offset offset angle.\n\n"
      ]
    },
    {
      "cell_type": "code",
      "execution_count": null,
      "metadata": {
        "collapsed": false
      },
      "outputs": [],
      "source": [
        "alignment_angle = 90 + drive_offset"
      ]
    },
    {
      "cell_type": "markdown",
      "metadata": {},
      "source": [
        "This correlation can be confirmed by the open circuit calculation results: the negative peak of\nthe flux linkage for the first phase is at 90 electric degrees, and the drive offset angle is 0.\n\n"
      ]
    },
    {
      "cell_type": "markdown",
      "metadata": {},
      "source": [
        "## Calculate the number of rotor positions\nThe number of rotor positions (or torque points per cycle) is calculated. The number of points\nis determined such that the look-up tables are generated starting from the alignment angle.\n\nGet the number of pole pairs, used to calculate the rotor positions.\n\n"
      ]
    },
    {
      "cell_type": "code",
      "execution_count": null,
      "metadata": {
        "collapsed": false
      },
      "outputs": [],
      "source": [
        "p = mc.get_variable(\"Pole_Number\") / 2"
      ]
    },
    {
      "cell_type": "markdown",
      "metadata": {},
      "source": [
        "Calculate the number of rotor positions based on the alignment angle and a specified angular\ninterval (120 electric degrees). Only values for 120 electric degree intervals are used to\ngenerate the look-up tables. The minimum number of rotor positions is set to 30.\n\n"
      ]
    },
    {
      "cell_type": "code",
      "execution_count": null,
      "metadata": {
        "collapsed": false
      },
      "outputs": [],
      "source": [
        "max_elec_degree = 120\nfac = []\nd = 2\nn = alignment_angle\nwhile n >= d:\n    if n % d == 0:\n        fac.append(d)\n        n /= d\n    else:\n        d = d + 1\nelec_deg = fac[len(fac) - 1]\ni = 1\nwhile (max_elec_degree / elec_deg) < 30:\n    elec_deg = fac[len(fac) - 1 - i]\n    i += 1\nm_period = max_elec_degree / p\nmec_deg = float(float(elec_deg) / float(p))\npoints_per_cycle = 360 / elec_deg"
      ]
    },
    {
      "cell_type": "markdown",
      "metadata": {},
      "source": [
        "## Calculate the saturation map\nUse the **Saturation and Loss Map Export** tool in Motor-CAD to calculate and export the\nsaturation map.\n\n### Set up calculation\nGet the phase resistance and end winding inductance output parameter values from Motor-CAD. These\nwill be used when generating the TXT and SML files for the ECE export.\n\n"
      ]
    },
    {
      "cell_type": "code",
      "execution_count": null,
      "metadata": {
        "collapsed": false
      },
      "outputs": [],
      "source": [
        "phase_res = mc.get_variable(\"ArmatureWindingResistancePh\")\nphase_l = mc.get_variable(\"EndWdgInductance_Used\")"
      ]
    },
    {
      "cell_type": "markdown",
      "metadata": {},
      "source": [
        "Define the Motor-CAD calculation settings:\n\n* Set the number of torque points per cycle (rotor positions)\n\n"
      ]
    },
    {
      "cell_type": "code",
      "execution_count": null,
      "metadata": {
        "collapsed": false
      },
      "outputs": [],
      "source": [
        "mc.set_variable(\"TorquePointsPerCycle\", points_per_cycle)"
      ]
    },
    {
      "cell_type": "markdown",
      "metadata": {},
      "source": [
        "* Set the filename and path for the saturation map to be exported to\n\n"
      ]
    },
    {
      "cell_type": "code",
      "execution_count": null,
      "metadata": {
        "collapsed": false
      },
      "outputs": [],
      "source": [
        "mc.set_variable(\"SaturationMap_ExportFile\", map_name)"
      ]
    },
    {
      "cell_type": "markdown",
      "metadata": {},
      "source": [
        "* Set the calculation **Input Definition** to **D/Q Axis Currents**, **Calculation Method** to\n  **FEA Calculations**, **FEA Calculation Type** to **Full Cycle (default)** and **Results** to\n  **Varying with rotor position**.\n\n"
      ]
    },
    {
      "cell_type": "code",
      "execution_count": null,
      "metadata": {
        "collapsed": false
      },
      "outputs": [],
      "source": [
        "mc.set_variable(\"SaturationMap_InputDefinition\", 1)\nmc.set_variable(\"SaturationMap_CalculationMethod\", 1)\nmc.set_variable(\"SaturationMap_FEACalculationType\", 1)\nmc.set_variable(\"SaturationMap_ResultType\", 1)"
      ]
    },
    {
      "cell_type": "markdown",
      "metadata": {},
      "source": [
        "Do not export the loss map.\n\n"
      ]
    },
    {
      "cell_type": "code",
      "execution_count": null,
      "metadata": {
        "collapsed": false
      },
      "outputs": [],
      "source": [
        "mc.set_variable(\"LossMap_Export\", False)"
      ]
    },
    {
      "cell_type": "markdown",
      "metadata": {},
      "source": [
        "Set the **D Axis Current** and **Q Axis Current** parameters (maximum, step size and minimum).\n\n"
      ]
    },
    {
      "cell_type": "code",
      "execution_count": null,
      "metadata": {
        "collapsed": false
      },
      "outputs": [],
      "source": [
        "mc.set_variable(\"SaturationMap_Current_D_Max\", Id_max)\nmc.set_variable(\"SaturationMap_Current_D_Step\", current_step)\nmc.set_variable(\"SaturationMap_Current_D_Min\", -Id_max)\nmc.set_variable(\"SaturationMap_Current_Q_Max\", Id_max)\nmc.set_variable(\"SaturationMap_Current_Q_Step\", current_step)\nmc.set_variable(\"SaturationMap_Current_Q_Min\", -Id_max)"
      ]
    },
    {
      "cell_type": "markdown",
      "metadata": {},
      "source": [
        "### Run simulation\nSave the Motor-CAD file with the updated calculation settings and run the Motor-CAD E-Magnetic\nsaturation map calculation. Use a ``try`` statement to print an error message if the calculation\nis not successful.\n\n"
      ]
    },
    {
      "cell_type": "code",
      "execution_count": null,
      "metadata": {
        "collapsed": false
      },
      "outputs": [],
      "source": [
        "mc.save_to_file(mot_file)\ntry:\n    mc.calculate_saturation_map()\nexcept pymotorcad.MotorCADError:\n    print(\"Map calculation failed.\")"
      ]
    },
    {
      "cell_type": "markdown",
      "metadata": {},
      "source": [
        "## Load the saturation map\nImport the saturation map data that was calculated and exported from Motor-CAD as the\n``mat_file_data`` dictionary.\n\n"
      ]
    },
    {
      "cell_type": "code",
      "execution_count": null,
      "metadata": {
        "collapsed": false
      },
      "outputs": [],
      "source": [
        "mat_file_data = io.loadmat(map_name)"
      ]
    },
    {
      "cell_type": "markdown",
      "metadata": {},
      "source": [
        "Extract data from the ``mat_file_data`` dictionary:\n\n* The D and Q peak current.\n\n* The flux linkages for D and Q axes and the 3 phases.\n\n* The rotor position.\n\n* The electromagnetic torque.\n\n* The phase advance.\n\n"
      ]
    },
    {
      "cell_type": "code",
      "execution_count": null,
      "metadata": {
        "collapsed": false
      },
      "outputs": [],
      "source": [
        "id_peak = mat_file_data[\"Id_Peak\"]\niq_peak = mat_file_data[\"Iq_Peak\"]\nangular_flux_linkage_d = mat_file_data[\"Angular_Flux_Linkage_D\"]\nangular_flux_linkage_q = mat_file_data[\"Angular_Flux_Linkage_Q\"]\nangular_flux_linkage_1 = mat_file_data[\"Angular_Flux_Linkage_Phase_1\"]\nangular_flux_linkage_2 = mat_file_data[\"Angular_Flux_Linkage_Phase_2\"]\nangular_flux_linkage_3 = mat_file_data[\"Angular_Flux_Linkage_Phase_3\"]\nangular_rotor_position = mat_file_data[\"Angular_Rotor_Position\"]\nangular_electromagnetic_torque = mat_file_data[\"Angular_Electromagnetic_Torque\"]\nphase_advance = mat_file_data[\"Phase_Advance\"]"
      ]
    },
    {
      "cell_type": "markdown",
      "metadata": {},
      "source": [
        "## Generate the look-up table\nFor each input current combination and rotor position, the D and Q axis flux linkages, the\nhomopolar component of the flux (approximated to zero) and the torque values are stored in the\n``final_table`` numpy array (look-up table).\n\n"
      ]
    },
    {
      "cell_type": "code",
      "execution_count": null,
      "metadata": {
        "collapsed": false
      },
      "outputs": [],
      "source": [
        "d_values = len(id_peak)\nq_values = len(id_peak[0])\ncomb = d_values * q_values\nmap_points = int((max_elec_degree / elec_deg) + 1)\nrot_pos = (max_elec_degree / p) + 1\nind = 0\nindex_1 = []\nflux_d_2 = []\nflux_q_3 = []\nflux_0_4 = []\ntorque_5 = []\nid_6 = []\niq_7 = []\nphase_ad_8 = []\nrotor_pos_9 = []\nfinal_table = []\nskip = math.ceil(alignment_angle / elec_deg)\n\nfor i in range(d_values):\n    for j in range(q_values):\n        for k in range(int(skip), int(skip - map_points), (-1)):\n            ind = ind + 1\n            if k < 0:\n                kprimo = int(points_per_cycle + k)\n                index_1.append(ind - 1)\n                flux_d_2.append(angular_flux_linkage_d[i, j, kprimo])\n                flux_q_3.append(angular_flux_linkage_q[i, j, kprimo])\n                flux_0_4.append(0)\n                torque_5.append(-angular_electromagnetic_torque[i, j, kprimo])\n                id_6.append(id_peak[i, j])\n                iq_7.append(iq_peak[i, j])\n                phase_ad_8.append(phase_advance[i, j])\n                rotor_pos_9.append(angular_rotor_position[i, j, kprimo])\n            else:\n                index_1.append(ind - 1)\n                flux_d_2.append(angular_flux_linkage_d[i, j, k])\n                flux_q_3.append(angular_flux_linkage_q[i, j, k])\n                flux_0_4.append(0)\n                torque_5.append(-angular_electromagnetic_torque[i, j, k])\n                id_6.append(id_peak[i, j])\n                iq_7.append(iq_peak[i, j])\n                phase_ad_8.append(phase_advance[i, j])\n                rotor_pos_9.append(angular_rotor_position[i, j, k])\n\nfinal_table = np.array(\n    [index_1, flux_d_2, flux_q_3, flux_0_4, torque_5, id_6, iq_7, phase_ad_8, rotor_pos_9]\n)"
      ]
    },
    {
      "cell_type": "markdown",
      "metadata": {},
      "source": [
        "## Plot results\nPlot the D-Q flux.\n\n"
      ]
    },
    {
      "cell_type": "code",
      "execution_count": null,
      "metadata": {
        "collapsed": false
      },
      "outputs": [],
      "source": [
        "plt.figure(2)\nplt.plot(index_1, flux_d_2, \"r\", index_1, flux_q_3, \"b\", linewidth=1.0)\nplt.xlabel(\"Points\")\nplt.ylabel(\"Flux [Vs]\")\nplt.legend([\"Psid\", \"Psiq\"], loc=\"lower right\")\nplt.title(\"D-Q Flux\")\nplt.show()"
      ]
    },
    {
      "cell_type": "markdown",
      "metadata": {},
      "source": [
        "Plot the torque.\n\n"
      ]
    },
    {
      "cell_type": "code",
      "execution_count": null,
      "metadata": {
        "collapsed": false
      },
      "outputs": [],
      "source": [
        "plt.figure(3)\nplt.plot(index_1, torque_5, \"r\", linewidth=2.0)\nplt.ylabel(\"Torque [Nm]\")\nplt.xlabel(\"Points\")\nplt.title(\"Torque\")\nplt.show()"
      ]
    },
    {
      "cell_type": "markdown",
      "metadata": {},
      "source": [
        "Plot D-flux linkages versus the q-axis current.\n\n"
      ]
    },
    {
      "cell_type": "code",
      "execution_count": null,
      "metadata": {
        "collapsed": false
      },
      "outputs": [],
      "source": [
        "plt.figure(3)\nfor i in range(d_values):\n    plt.plot(\n        iq_peak[0, :], angular_flux_linkage_q[i, :, skip], label=\"Id=\" + str(id_peak[i, 0]) + \"A\"\n    )\nplt.ylabel(\"Flux [Vs]\")\nplt.xlabel(\"Iq [A]\")\nplt.legend(fontsize=8, loc=\"lower right\")\nplt.title(\"D-Flux vs Iq\")\nplt.show()"
      ]
    },
    {
      "cell_type": "markdown",
      "metadata": {},
      "source": [
        "Plot Q-flux linkages versus the q-axis current.\n\n"
      ]
    },
    {
      "cell_type": "code",
      "execution_count": null,
      "metadata": {
        "collapsed": false
      },
      "outputs": [],
      "source": [
        "plt.figure(4)\nfor i in range(d_values):\n    plt.plot(\n        iq_peak[0, :], angular_flux_linkage_d[:, i, skip], label=\"Id=\" + str(id_peak[i, 0]) + \"A\"\n    )\nplt.legend(fontsize=8, loc=\"lower right\")\nplt.ylabel(\"Flux [Vs]\")\nplt.xlabel(\"Iq [A]\")\nplt.title(\"Q-Flux vs Iq\")\nplt.show()"
      ]
    },
    {
      "cell_type": "markdown",
      "metadata": {},
      "source": [
        "## Write TXT and SML files\nTo create the ECE model in Ansys Twin Builder, a SML file is generated from the exported Motor-CAD\ndata. A TXT file is also generated.\n\n### Write the TXT text\nGenerate the TXT file, using the path and filename that was taken from the ``ece_config.json``\nconfiguration file.\n\n"
      ]
    },
    {
      "cell_type": "code",
      "execution_count": null,
      "metadata": {
        "collapsed": false
      },
      "outputs": [],
      "source": [
        "file_name = file_name.replace(\".mot\", \"\")\nfile_name = \"\".join(i for i in file_name if i in string.ascii_letters + \"0123456789\")\n\nrows = len(index_1)\n\nfile_id = open(txt_file, \"w\")"
      ]
    },
    {
      "cell_type": "markdown",
      "metadata": {},
      "source": [
        "Write the number of poles to the TXT file.\n\n"
      ]
    },
    {
      "cell_type": "code",
      "execution_count": null,
      "metadata": {
        "collapsed": false
      },
      "outputs": [],
      "source": [
        "file_id.write(\"B_BasicData\\r\\n\")\nfile_id.write(\"\\tVersion\\t1.1\\r\\n\")\nfile_id.write(f\"\\tPoles\\t{p * 2:.0f}\\r\\n\")\n_ = file_id.write(\"E_BasicData\\r\\n\\n\")"
      ]
    },
    {
      "cell_type": "markdown",
      "metadata": {},
      "source": [
        "Write the phase resistance and end winding inductances for each phase to the TXT file.\n\n"
      ]
    },
    {
      "cell_type": "code",
      "execution_count": null,
      "metadata": {
        "collapsed": false
      },
      "outputs": [],
      "source": [
        "file_id.write(\"B_PhaseImp 3\\r\\n\")\nfile_id.write(f\"\\tWG_Ph1\\t{phase_res:.10e}\\t{phase_l:.10e}\\r\\n\")\nfile_id.write(f\"\\tWG_Ph2\\t{phase_res:.10e}\\t{phase_l:.10e}\\r\\n\")\nfile_id.write(f\"\\tWG_Ph3\\t{phase_res:.10e}\\t{phase_l:.10e}\\r\\n\")\n_ = file_id.write(\"E_PhaseImp\\r\\n\\n\")"
      ]
    },
    {
      "cell_type": "markdown",
      "metadata": {},
      "source": [
        "Write the D and Q axis current values to the TXT file.\n\n"
      ]
    },
    {
      "cell_type": "code",
      "execution_count": null,
      "metadata": {
        "collapsed": false
      },
      "outputs": [],
      "source": [
        "file_id.write(\"B_Sweepings\\r\\n\\n\")\nfile_id.write(f\"\\tId_Iq\\t( {d_values} :\")\nfor i in range(d_values):\n    file_id.write(f\"\\t{id_peak[i, 0]}\")\nfile_id.write(\")\\n\")\n\nfile_id.write(f\"\\t\\t( {q_values} :\")\nfor i in range(q_values):\n    file_id.write(f\"\\t{iq_peak[0, i]}\")\n_ = file_id.write(\")\\n\")"
      ]
    },
    {
      "cell_type": "markdown",
      "metadata": {},
      "source": [
        "Write the rotor positions to the TXT file.\n\n"
      ]
    },
    {
      "cell_type": "code",
      "execution_count": null,
      "metadata": {
        "collapsed": false
      },
      "outputs": [],
      "source": [
        "file_id.write(f\"\\tRotate\\t( {map_points} :\")\n\nfor i in range(map_points):\n    file_id.write(f\"\\t{i * mec_deg:.3f}\")\nfile_id.write(\")\\n\")\n_ = file_id.write(\"E_Sweepings\\n\\n\")"
      ]
    },
    {
      "cell_type": "markdown",
      "metadata": {},
      "source": [
        "Write the D and Q axis flux and torque values and then close the TXT file.\n\n"
      ]
    },
    {
      "cell_type": "code",
      "execution_count": null,
      "metadata": {
        "collapsed": false
      },
      "outputs": [],
      "source": [
        "file_id.write(\"B_OutputMatrix DQ0\\n\")\n\nfor i in range(rows):\n    file_id.write(\n        f\"\\t{index_1[i]}\\t{flux_d_2[i]:.10e}\\t{flux_q_3[i]:.10e}\\t{flux_0_4[i]:.10e}\"\n        f\"\\t{torque_5[i]:.10e}\\r\\n\"\n    )\nfile_id.write(\"E_OutputMatrix\\n\")\n\nfile_id.close()"
      ]
    },
    {
      "cell_type": "markdown",
      "metadata": {},
      "source": [
        "### Write the SML file\nGenerate the SML that will be loaded into Ansys Twin Builder to generate the ECE model. The SML\nfile uses the phase resistance and end winding inductance and data from the look-up table. The\nSML file is saved using the path and filename taken from the ``ece_config.json`` configuration\nfile.\n\n"
      ]
    },
    {
      "cell_type": "code",
      "execution_count": null,
      "metadata": {
        "collapsed": false
      },
      "outputs": [],
      "source": [
        "file_id = open(sml_file, \"w\")\nfile_id.write(f\"MODELDEF ECE_{file_name}\\r\\n\")\nfile_id.write(\"{\\r\\n\")\nfile_id.write(\"PORT electrical: A0;\\r\\n\")\nfile_id.write(\"PORT electrical: X0;\\r\\n\")\nfile_id.write(\"PORT electrical: B0;\\r\\n\")\nfile_id.write(\"PORT electrical: Y0;\\r\\n\")\nfile_id.write(\"PORT electrical: C0;\\r\\n\")\nfile_id.write(\"PORT electrical: Z0;\\r\\n\")\nfile_id.write(\"PORT ROTATIONAL_V: ROT1;\\r\\n\")\nfile_id.write(\"PORT ROTATIONAL_V: ROT2;\\r\\n\")\n\nfile_id.write(f\"PORT REAL IN: ra0 = {phase_res:.3f};\\r\\n\")\nfile_id.write(f\"PORT REAL IN: la0 = {phase_l:.0e};\\r\\n\")\nfile_id.write(\"PORT REAL IN: IniIa0 = 0;\\r\\n\")\nfile_id.write(\"PORT REAL IN: IniIb0 = 0;\\r\\n\")\nfile_id.write(\"PORT REAL IN: IniIc0 = 0;\\r\\n\")\nfile_id.write(\"PORT REAL OUT: Fluxa0 = AM_Fluxa0.I;\\r\\n\")\nfile_id.write(\"PORT REAL OUT: Fluxb0 = AM_Fluxb0.I;\\r\\n\")\nfile_id.write(\"PORT REAL OUT: Fluxc0 = AM_Fluxc0.I;\\r\\n\")\nfile_id.write(\"PORT REAL OUT: Fluxd0 = AMFd.I;\\r\\n\")\nfile_id.write(\"PORT REAL OUT: Fluxq0 = AMFq.I;\\r\\n\")\n\nfile_id.write(\"PORT REAL IN ANGLE[deg]: IniPos = 0;\\r\\n\")\nfile_id.write(\"PORT REAL OUT ANGLE[deg]: Pos = VM_Mdeg.V;\\r\\n\\n\")\n\nfile_id.write(\"INTERN  R        Ra0  N1:=A0, N2:=N_1  ( R:=ra0 );\\r\\n\")\nfile_id.write(\"INTERN  L        La0  N1:=N_1, N2:=N_2  ( L:=la0, I0:=IniIa0 );\\r\\n\")\nfile_id.write(\"INTERN  AM       AMa0  N1:=N_2, N2:=N_3  ;\\r\\n\")\nfile_id.write(\"INTERN  EV       Ema0  N1:=N_3, N2:=X0  ( QUANT:=VMa0.V, FACT:=-1 ); \\r\\n\")\nfile_id.write(\"INTERN  L        Lma0  N1:=N_4, N2:=GND  ( L:=1 ); \\r\\n\")\nfile_id.write(\"INTERN  VM       VMa0  N1:=N_4, N2:=GND  ; \\r\\n\")\nfile_id.write(\"INTERN  AM       AM_Fluxa0  N1:=N_5, N2:=N_4  ; \\r\\n\")\nfile_id.write(\n    \"INTERN  II       Fluxad  N1:=GND, N2:=N_5  ( QUANT:=AMFd.I, FACT:=cos(VM_Erad.V) ); \\r\\n\"\n)\nfile_id.write(\n    \"INTERN  II       Fluxaq  N1:=GND, N2:=N_5  ( QUANT:=AMFq.I, FACT:=sin(VM_Erad.V) ); \\r\\n\"\n)\nfile_id.write(\"INTERN  II       Fluxao  N1:=GND, N2:=N_5  ( QUANT:=AMFo.I, FACT:=1 ); \\r\\n\")\nfile_id.write(\"INTERN  II       Fluxa0  N1:=GND, N2:=N_5  ( QUANT:=AMo.I, FACT:=0 ); \\r\\n\\n\")\n\nfile_id.write(\"INTERN  R        Rb0  N1:=B0, N2:=N_6  ( R:=ra0 ); \\r\\n\")\nfile_id.write(\"INTERN  L        Lb0  N1:=N_6, N2:=N_7  ( L:=la0, I0:=IniIb0 );\\r\\n\")\nfile_id.write(\"INTERN  AM       AMb0  N1:=N_7, N2:=N_8  ; \\r\\n\")\nfile_id.write(\"INTERN  EV       Emb0  N1:=N_8, N2:=Y0  ( QUANT:=VMb0.V, FACT:=-1 );  \\r\\n\")\nfile_id.write(\"INTERN  L        Lmb0  N1:=N_9, N2:=GND  ( L:=1 ); \\r\\n\")\nfile_id.write(\"INTERN  VM       VMb0  N1:=N_9, N2:=GND  ; \\r\\n\")\nfile_id.write(\"INTERN  AM       AM_Fluxb0  N1:=N_10, N2:=N_9  ; \\r\\n\")\nfile_id.write(\n    \"INTERN  II       Fluxbd  N1:=GND, N2:=N_10  ( QUANT:=AMFd.I, FACT:=cos(VM_Erad.V-2*PI/3) );\"\n    \"\\r\\n\"\n)\nfile_id.write(\n    \"INTERN  II       Fluxbq  N1:=GND, N2:=N_10  ( QUANT:=AMFq.I, FACT:=sin(VM_Erad.V-2*PI/3) ); \"\n    \"\\r\\n\"\n)\nfile_id.write(\"INTERN  II       Fluxbo  N1:=GND, N2:=N_10\" \"  ( QUANT:=AMFo.I, FACT:=1 ); \\r\\n\")\nfile_id.write(\"INTERN  II       Fluxb0  N1:=GND, N2:=N_10\" \"  ( QUANT:=AMo.I, FACT:=0 ); \\r\\n\\n\")\n\nfile_id.write(\"INTERN  R        Rc0  N1:=C0, N2:=N_11  \" \"( R:=ra0 ); \\r\\n\")\nfile_id.write(\"INTERN  L        Lc0  N1:=N_11, N2:=N_12\" \"  ( L:=la0, I0:=IniIc0 ); \\r\\n\")\nfile_id.write(\"INTERN  AM       AMc0  N1:=N_12, N2:=N_13\" \"  ;  \\r\\n\")\nfile_id.write(\"INTERN  EV       Emc0  N1:=N_13, N2:=Z0\" \"  ( QUANT:=VMc0.V, FACT:=-1 ); \\r\\n\")\nfile_id.write(\"INTERN  L        Lmc0  N1:=N_14, N2:=GND\" \"  ( L:=1 ); \\r\\n\")\nfile_id.write(\"INTERN  VM       VMc0  N1:=N_14, N2:=GND\" \"  ;\\r\\n\")\nfile_id.write(\"INTERN  AM       AM_Fluxc0  N1:=N_15,\" \" N2:=N_14  ;\\r\\n\")\nfile_id.write(\n    \"INTERN  II       Fluxcd  N1:=GND, N2:=N_15  ( QUANT:=AMFd.I, FACT:=cos(VM_Erad.V-4*PI/3) ); \"\n    \"\\r\\n\"\n)\nfile_id.write(\n    \"INTERN  II       Fluxcq  N1:=GND, N2:=N_15  ( QUANT:=AMFq.I, FACT:=sin(VM_Erad.V-4*PI/3) ); \"\n    \"\\r\\n\"\n)\nfile_id.write(\"INTERN  II       Fluxco  N1:=GND,\" \" N2:=N_15  ( QUANT:=AMFo.I, FACT:=1 ); \\r\\n\")\nfile_id.write(\"INTERN  II       Fluxc0  N1:=GND,\" \" N2:=N_15  ( QUANT:=AMo.I, FACT:=0 );\\r\\n\\n\")\n\nfile_id.write(\"INTERN  AM\" \"       AMFd  N1:=N_16, N2:=GND  ; \\r\\n\")\nfile_id.write(\"INTERN\" \"  AM       AMFq  N1:=N_17, N2:=GND  ;\\r\\n\")\nfile_id.write(\"INTERN\" \"  AM       AMFo  N1:=N_18, N2:=GND  ; \\r\\n\\n\")\n\nfile_id.write(\n    \"INTERN  II       Id0  N1:=GND, N2:=N_19  ( QUANT:=AMa0.I, FACT:=2/3*cos(VM_Erad.V) ); \\r\\n\"\n)\nfile_id.write(\n    \"INTERN  II       Id1  N1:=GND, N2:=N_19  ( QUANT:=AMb0.I, FACT:=2/3*cos(VM_Erad.V-2*PI/3) ); \"\n    \"\\r\\n\"\n)\nfile_id.write(\n    \"INTERN  II       Id2  N1:=GND, N2:=N_19  ( QUANT:=AMc0.I, FACT:=2/3*cos(VM_Erad.V-4*PI/3) );\"\n    \"\\r\\n\"\n)\nfile_id.write(\"INTERN  AM       AM0  N1:=N_19,\" \" N2:=GND  ;\\r\\n\")\nfile_id.write(\n    \"INTERN  II       Iq0  N1:=GND, N2:=N_20\"\n    \"  ( QUANT:=AMa0.I, FACT:=2/3*sin(VM_Erad.V) ); \"\n    \"\\r\\n\"\n)\nfile_id.write(\n    \"INTERN  II       Iq1  N1:=GND, N2:=N_20  ( QUANT:=AMb0.I, FACT:=2/3*sin(VM_Erad.V-2*PI/3) ); \"\n    \"\\r\\n\"\n)\nfile_id.write(\n    \"INTERN  II       Iq2  N1:=GND, N2:=N_20  ( QUANT:=AMc0.I, FACT:=2/3*sin(VM_Erad.V-4*PI/3) ); \"\n    \"\\r\\n\"\n)\nfile_id.write(\"INTERN  AM       AM1  N1:=N_20,\" \" N2:=GND  ; \\r\\n\")\nfile_id.write(\"INTERN  II       I00  N1:=GND,\" \" N2:=N_21  ( QUANT:=AMa0.I, FACT:=1/3 ); \\r\\n\")\nfile_id.write(\"INTERN  II       I01  N1:=GND,\" \" N2:=N_21  ( QUANT:=AMb0.I, FACT:=1/3 ); \\r\\n\")\nfile_id.write(\"INTERN  II       I02  N1:=GND,\" \" N2:=N_21  ( QUANT:=AMc0.I, FACT:=1/3 ); \\r\\n\")\nfile_id.write(\"INTERN  \" \"AM       AMo  N1:=N_21, N2:=GND  ; \\r\\n\\n\")\n\nfile_id.write(\"INTERN  \" \"VM       VM_Speed  N1:=N_23, N2:=N_22  ; \\r\\n\")\nfile_id.write(\n    \"UMODEL  D2D      \"\n    'D2D1 N1:=N_23, N2:=ROT1 ( NATURE_1:=\"electrical\",'\n    ' NATURE_2:=\"Rotational_V\" ) SRC: DLL( File:=\"Domains.dll\");\\r\\n'\n)\nfile_id.write(\n    \"UMODEL  D2D      \"\n    'D2D2 N1:=N_22, N2:=ROT2 ( NATURE_1:=\"electrical\",'\n    ' NATURE_2:=\"Rotational_V\" ) SRC: DLL( File:=\"Domains.dll\");\\r\\n'\n)\nfile_id.write(\n    \"INTERN  IV       \" \"Gx  N1:=GND,\" \" N2:=N_24  ( QUANT:=VM_Speed.V, FACT:=57.29578 ); \\r\\n\"\n)\nfile_id.write(\"INTERN  C\" \"        \" \"Cx  N1:=N_24, N2:=GND  ( C:=1, V0:=IniPos ); \\r\\n\")\nfile_id.write(\"INTERN  VM\" \"\" \"       VM_Mdeg  N1:=N_24, N2:=GND  ; \\r\\n\")\nfile_id.write(\"INTERN  IV\" \"\" \"       Ipos  N1:=GND, N2:=N_25  ( QUANT:=VM_Mdeg.V, FACT:=1 ); \\r\\n\")\nfile_id.write(\"INTERN  AM\" \"\" \"       AM2  N1:=N_25, N2:=N_26  ; \\r\\n\")\nfile_id.write(f\"INTERN  R        Rpos  N1:=N_26, N2:=GND  ( R:={0.0174533 * p:.7f} ); \\r\\n\")\nfile_id.write(\"INTERN  VM\" \"\" \"       VM_Erad  N1:=N_26, N2:=GND  ;\\r\\n\\n\")\n\nfile_id.write(\n    f\"INTERN  NDSRC    PECE_{file_name}  N0:=GND,\"\n    \" N1:=N_16, N2:=GND, N3:=N_17,\"\n    \" N4:=GND, N5:=N_18, N6:=N_22, N7:=N_23 \\ \\r\\n\"\n)\nfile_id.write(\n    \" ( QUANT:={ AM0.I, AM1.I, AM2.I },\" ' SRC:={ isrc, isrc, isrc, isrc }, TableData:=\"\\ \\r\\n'\n)\nfile_id.write(f\".MODEL ECE_{file_name}_table pwl TABLE=(\")\nfile_id.write(f\" {d_values},\")\n\nindex = 0\n\nfor i in range(d_values):\n    file_id.write(f\" {id_peak[i, 0]}\")\n    file_id.write(\",\")\n    if i == (d_values - 1):\n        file_id.write(\"\\ \\n\")\n        file_id.write(\" 0,\")\n\nfor r in range(d_values):\n    file_id.write(f\" {q_values},\")\n    for i in range(q_values):\n        file_id.write(f\" {iq_peak[0, i]}\")\n        file_id.write(\",\")\n        if i == (q_values - 1):\n            file_id.write(\"\\ \\n\")\n            file_id.write(\" 0,\")\n\n    for k in range(q_values):\n        file_id.write(f\" {map_points},\")\n        for i in range(map_points):\n            file_id.write(f\" {i * mec_deg:.3f}\")\n            file_id.write(\",\")\n            if i == (map_points - 1):\n                file_id.write(\"\\ \\n\")\n                file_id.write(\" 4,\")\n\n        for j in range(1, 5):\n            for i in range(map_points):\n                file_id.write(f\" {final_table[int(j), int(index + i)]:.6f}\")\n                file_id.write(\",\")\n                if r == (d_values - 1) and k == (q_values - 1) and j == 4 and i == (map_points - 1):\n                    file_id.write(\") LINEAR LINEAR PERIODIC\\ \\r\\n\")\n                    file_id.write(' DEEPSPLINE\" );\\r\\n')\n                    file_id.write(\"}\\r\\n\")\n                elif i == (map_points - 1):\n                    file_id.write(\"\\ \\n\")\n        index = index + map_points\n\nfile_id.close()"
      ]
    },
    {
      "cell_type": "markdown",
      "metadata": {},
      "source": [
        "## Generating the ECE component\nTo generate the component, within Ansys Electronics Desktop, go to the menu bar and select\n**Tools -> Project Tools -> Import Twin Builder Models**. Select the SML file and click **Open**.\nClick **OK** in the **Import Components** window.\n\n<img src=\"file://../../images/twinbuilder_ECE/twinbuilder_procedure_1.png\">\n\n"
      ]
    },
    {
      "cell_type": "markdown",
      "metadata": {},
      "source": [
        "A new project component **ECE_e8_eMobility** is added to\n**Component Libraries / Project Components**. Drag the ECE component into the\n**Schematic Capture** window.\n\n<img src=\"file://../../images/twinbuilder_ECE/twinbuilder_procedure_2.png\">\n\n"
      ]
    },
    {
      "cell_type": "markdown",
      "metadata": {},
      "source": [
        "Right-click on the ECE component and select **Edit Symbol -> Edit Pin Locations...** to open the\n**Pin Location Editor** window. Rearrange the pins such that **A0**, **B0**, **C0** and **ROT2**\nare on the left and **X0**, **Y0**, **Z0** and **ROT1** are on the right. Click **OK** to close\nthe window.\n\n<img src=\"file://../../images/twinbuilder_ECE/twinbuilder_procedure_3.png\">\n\n"
      ]
    },
    {
      "cell_type": "markdown",
      "metadata": {},
      "source": [
        "To open the **Parameters** tab, double-click on the ECE component. The phase resistance (**ra0**)\n(at the armature conductor temperature) and armature end winding inductance (**la0**) imported\nfrom the Motor-CAD model.\n\n<img src=\"file://../../images/twinbuilder_ECE/twinbuilder_procedure_4.png\">\n\n"
      ]
    },
    {
      "cell_type": "markdown",
      "metadata": {},
      "source": [
        "For more information on using the ECE component in Twin Builder, see the tutorial supplied with\nMotor-CAD (**TwinBuilder_ECE_Tutorial**).\n\n"
      ]
    }
  ],
  "metadata": {
    "kernelspec": {
      "display_name": "Python 3",
      "language": "python",
      "name": "python3"
    },
    "language_info": {
      "codemirror_mode": {
        "name": "ipython",
        "version": 3
      },
      "file_extension": ".py",
      "mimetype": "text/x-python",
      "name": "python",
      "nbconvert_exporter": "python",
      "pygments_lexer": "ipython3",
      "version": "3.10.11"
    }
  },
  "nbformat": 4,
  "nbformat_minor": 0
}