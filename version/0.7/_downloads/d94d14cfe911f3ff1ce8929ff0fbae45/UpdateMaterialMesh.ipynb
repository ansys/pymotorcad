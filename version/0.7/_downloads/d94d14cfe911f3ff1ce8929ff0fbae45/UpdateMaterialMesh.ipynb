{
  "cells": [
    {
      "cell_type": "markdown",
      "metadata": {},
      "source": [
        "\n# Material and Mesh Properties\nThis script applies the adaptive templates functionality to modify material and mesh properties\nin a turbocharger machine.\n"
      ]
    },
    {
      "cell_type": "markdown",
      "metadata": {},
      "source": [
        "<div class=\"alert alert-info\"><h4>Note</h4><p>Adaptive Templates material and mesh properties described in this example require v2025.1.1\n   (Motor-CAD 2025 R1 Update) or later</p></div>\n\n"
      ]
    },
    {
      "cell_type": "markdown",
      "metadata": {},
      "source": [
        "## Perform required imports\nImport ``pymotorcad`` to access Motor-CAD.\nImport ``Arc``, ``EntityList``, ``Coordinate``, ``Line``, ``Line``, ``Region``, ``rt_to_xy``\nto define the adaptive template geometry.\nImport ``os``, ``shutil``, ``sys``, and ``tempfile``\nto open and save a temporary .mot file if none is open.\n\n"
      ]
    },
    {
      "cell_type": "code",
      "execution_count": null,
      "metadata": {
        "collapsed": false
      },
      "outputs": [],
      "source": [
        "import os\nimport shutil\nimport sys\nimport tempfile\n\nimport ansys.motorcad.core as pymotorcad\nfrom ansys.motorcad.core.geometry import Arc, Coordinate, EntityList, Line, Region, rt_to_xy"
      ]
    },
    {
      "cell_type": "markdown",
      "metadata": {},
      "source": [
        "## Connect to Motor-CAD\nIf this script is loaded into the Adaptive Templates file in Motor-CAD, the current Motor-CAD\ninstance is used.\n\nIf the script is run externally, these actions occur: a new Motor-CAD instance is opened,\nthe e7 IPM motor template is loaded and  the file is saved to a temporary folder.\nTo keep a new Motor-CAD instance open after executing the script, use\nthe ``MotorCAD(keep_instance_open=True)`` option when opening the new instance.\nAlternatively, use the ``MotorCAD()`` method, which closes the Motor-CAD instance after the\nscript is executed.\n\n"
      ]
    },
    {
      "cell_type": "code",
      "execution_count": null,
      "metadata": {
        "collapsed": false
      },
      "outputs": [],
      "source": [
        "if pymotorcad.is_running_in_internal_scripting():\n    # Use existing Motor-CAD instance if possible\n    mc = pymotorcad.MotorCAD(open_new_instance=False)\nelse:\n    mc = pymotorcad.MotorCAD(keep_instance_open=True)\n    # Disable popup messages\n    mc.set_variable(\"MessageDisplayState\", 2)\n    if not \"PYMOTORCAD_DOCS_BUILD\" in os.environ:\n        mc.set_visible(True)\n    mc.load_template(\"e7\")\n    # Open relevant file\n    working_folder = os.path.join(tempfile.gettempdir(), \"adaptive_library\")\n    try:\n        shutil.rmtree(working_folder)\n    except:\n        pass\n    os.mkdir(working_folder)\n    mot_name = \"E7\"\n    mc.save_to_file(working_folder + \"/\" + mot_name + \".mot\")\n\n# Reset geometry to default\nmc.reset_adaptive_geometry()"
      ]
    },
    {
      "cell_type": "markdown",
      "metadata": {},
      "source": [
        "The **Geometry -> Editor** tab contains the Geometry Tree. Here the user can select a region to\nvisualise relevant information such as entities, material type etc. For example, the Rotor\nmaterial is defined as *Laminated* with material *N10 0.1 strip*. From Motor-CAD version 2025 R1\nonwards, a user can define different materials as well as the lamination type such as *Solid* or\n*Laminated* as will be demonstrated in this example.\n\n"
      ]
    },
    {
      "cell_type": "markdown",
      "metadata": {},
      "source": [
        "<img src=\"file://../../images/Material_E7.png\">\n\n\n"
      ]
    },
    {
      "cell_type": "markdown",
      "metadata": {},
      "source": [
        "## Create the Adaptive Templates geometry\nSet adaptive parameter if required\n~~~~~~~~~~~~~~~~~~~~~~~~~~~~~~~~~~\n\n"
      ]
    },
    {
      "cell_type": "code",
      "execution_count": null,
      "metadata": {
        "collapsed": false
      },
      "outputs": [],
      "source": [
        "mc.set_adaptive_parameter_default(\n    \"Rotor_band_thickness\", 0.225\n)  # Adaptive parameter of  rotor band thickness\nmc.set_adaptive_parameter_default(\n    \"Rotor_band_mesh_length\", 0.05\n)  # Adaptive parameter for mesh density of rotor band"
      ]
    },
    {
      "cell_type": "markdown",
      "metadata": {},
      "source": [
        "### Create points and entities for rotor band\n\n"
      ]
    },
    {
      "cell_type": "code",
      "execution_count": null,
      "metadata": {
        "collapsed": false
      },
      "outputs": [],
      "source": [
        "rt_region = mc.get_region(\"Rotor\")  # get the rotor region\nst_bore = mc.get_variable(\"Stator_Bore\")  # Get the stator inner diameter\nairgap = mc.get_variable(\"Airgap\")  # Airgap\nmag_thickness = mc.get_variable(\"Magnet_thickness\")  # Magnet thickness\nrt_radius = st_bore / 2 - airgap - mag_thickness  # Rotor lamination outer radius\nrt_band_thickness = mc.get_adaptive_parameter_value(\"Rotor_band_thickness\")  # Read the adaptive\n# parameter for rotor band thickness\nrt_band_radius = rt_radius - rt_band_thickness\nsymm_angle = 360 / rt_region.duplications\np1 = Coordinate(rt_to_xy(rt_radius, 0)[0], rt_to_xy(rt_radius, 0)[1])\np2 = Coordinate(rt_to_xy(rt_radius, symm_angle)[0], rt_to_xy(rt_radius, symm_angle)[1])\np3 = Coordinate(rt_to_xy(rt_band_radius, 0)[0], rt_to_xy(rt_band_radius, 0)[1])\np4 = Coordinate(rt_to_xy(rt_band_radius, symm_angle)[0], rt_to_xy(rt_band_radius, symm_angle)[1])\nline_1 = Line(p3, p1)\nline_2 = Line(p2, p4)\narc_mag = Arc(p1, p2, centre=None, radius=rt_radius)\narc_rt = Arc(p4, p3, centre=None, radius=-rt_band_radius)"
      ]
    },
    {
      "cell_type": "markdown",
      "metadata": {},
      "source": [
        "### Create rotor band region with material and mesh properties\n\n"
      ]
    },
    {
      "cell_type": "code",
      "execution_count": null,
      "metadata": {
        "collapsed": false
      },
      "outputs": [],
      "source": [
        "rt_band = Region()\nrt_band.name = \"rotor band\"\nrt_band.entities = EntityList([line_1, arc_mag, line_2, arc_rt])\nrt_band.duplications = rt_region.duplications\nrt_band.parent = rt_region"
      ]
    },
    {
      "cell_type": "markdown",
      "metadata": {},
      "source": [
        "Change the material using the ``Region.material`` method.\n\n"
      ]
    },
    {
      "cell_type": "code",
      "execution_count": null,
      "metadata": {
        "collapsed": false
      },
      "outputs": [],
      "source": [
        "rt_band.material = \"4340 Steel\""
      ]
    },
    {
      "cell_type": "markdown",
      "metadata": {},
      "source": [
        "Change the mesh length / density using the ``Region.mesh_length`` method.\n\n"
      ]
    },
    {
      "cell_type": "code",
      "execution_count": null,
      "metadata": {
        "collapsed": false
      },
      "outputs": [],
      "source": [
        "rt_band.mesh_length = mc.get_adaptive_parameter_value(\"Rotor_band_mesh_length\")"
      ]
    },
    {
      "cell_type": "markdown",
      "metadata": {},
      "source": [
        "Change the lamination type to Solid from Laminated using the ``Region.lamination_type`` method.\n\n"
      ]
    },
    {
      "cell_type": "code",
      "execution_count": null,
      "metadata": {
        "collapsed": false
      },
      "outputs": [],
      "source": [
        "rt_band.lamination_type = \"Solid\"\nmc.set_region(rt_band)"
      ]
    },
    {
      "cell_type": "markdown",
      "metadata": {},
      "source": [
        "The new rotor band region should be visible in the *Geometry* tab, with the updated material and\nlamination type.\n\n"
      ]
    },
    {
      "cell_type": "markdown",
      "metadata": {},
      "source": [
        "<img src=\"file://../../images/RotorBand.png\">\n\n"
      ]
    },
    {
      "cell_type": "markdown",
      "metadata": {},
      "source": [
        "## Run the EMag (On Load > Torque) calculation\nThe flux density distribution of the rotor with rotor band will be visible as shown below.\n\n"
      ]
    },
    {
      "cell_type": "markdown",
      "metadata": {},
      "source": [
        "<img src=\"file://../../images/FluxDensity_rotorband.png\">\n\n"
      ]
    },
    {
      "cell_type": "markdown",
      "metadata": {},
      "source": [
        "As the rotor band region is defined as *Solid* lamination type, eddy current losses can also be\nobserved.\n\n"
      ]
    },
    {
      "cell_type": "markdown",
      "metadata": {},
      "source": [
        "<img src=\"file://../../images/RotorBand_EddyLosses.png\">\n\n"
      ]
    },
    {
      "cell_type": "markdown",
      "metadata": {},
      "source": [
        "The eddy current losses are confined to the narrow band, as shown above. Hence, by creating a band\nregion and controlling the mesh length of specific regions, the user can make a computationally\nefficient model as presented in this example.\n\nNotice the different mesh densities of the rotor and rotor-band regions. As rotor band density is\nan adaptive parameter, the user can change it accordingly.\n\n"
      ]
    },
    {
      "cell_type": "markdown",
      "metadata": {},
      "source": [
        "<img src=\"file://../../images/RotorBandMesh.png\">\n\n"
      ]
    },
    {
      "cell_type": "markdown",
      "metadata": {},
      "source": [
        "Eddy current losses of the rotor band region created by the adaptive templates script will be\nreported under the **Output Data -> Losses** tab as **Additional Custom Materials Loss**.\n\n"
      ]
    },
    {
      "cell_type": "markdown",
      "metadata": {},
      "source": [
        "<img src=\"file://../../images/RotorBand_CustomLoss.png\">\n\n"
      ]
    },
    {
      "cell_type": "markdown",
      "metadata": {},
      "source": [
        "## Load in Adaptive Templates script if required\nWhen this script is run externally, the script executes the following:\n\n* Set **Geometry type** to **Adaptive**.\n\n* Load the script into the **Adaptive Templates** tab.\n\n* Go to the **Geometry -> Radial** tab to run the Adaptive Templates script and display the new\n  geometry.\n\n"
      ]
    },
    {
      "cell_type": "markdown",
      "metadata": {},
      "source": [
        "<div class=\"alert alert-info\"><h4>Note</h4><p>When running in a Jupyter Notebook, you must provide the path for the Adaptive Templates script\n   (PY file) instead of ``sys.argv[0]`` when using the ``load_adaptive_script()`` method.</p></div>\n\n"
      ]
    },
    {
      "cell_type": "code",
      "execution_count": null,
      "metadata": {
        "collapsed": false
      },
      "outputs": [],
      "source": [
        "if not pymotorcad.is_running_in_internal_scripting():\n    mc.set_variable(\"GeometryTemplateType\", 1)\n    mc.load_adaptive_script(sys.argv[0])\n    mc.display_screen(\"Geometry;Radial\")"
      ]
    }
  ],
  "metadata": {
    "kernelspec": {
      "display_name": "Python 3",
      "language": "python",
      "name": "python3"
    },
    "language_info": {
      "codemirror_mode": {
        "name": "ipython",
        "version": 3
      },
      "file_extension": ".py",
      "mimetype": "text/x-python",
      "name": "python",
      "nbconvert_exporter": "python",
      "pygments_lexer": "ipython3",
      "version": "3.10.11"
    }
  },
  "nbformat": 4,
  "nbformat_minor": 0
}