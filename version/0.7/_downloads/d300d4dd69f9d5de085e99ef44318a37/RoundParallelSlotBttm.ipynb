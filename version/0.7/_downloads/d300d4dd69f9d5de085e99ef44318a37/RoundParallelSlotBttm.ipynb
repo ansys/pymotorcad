{
  "cells": [
    {
      "cell_type": "markdown",
      "metadata": {},
      "source": [
        "\n# Round Parallel Slot Bottom\nThis script applies the adaptive templates functionality to modify parallel slot bottoms from\nhaving square corners to round corners.\n"
      ]
    },
    {
      "cell_type": "markdown",
      "metadata": {},
      "source": [
        "## Perform required imports\nImport ``pymotorcad`` to access Motor-CAD. Import ``draw_objects_debug`` to plot figures of\ngeometry objects.\nImport ``os``, ``shutil``, ``sys``, and ``tempfile``\nto open and save a temporary .mot file if none is open.\n\n"
      ]
    },
    {
      "cell_type": "code",
      "execution_count": null,
      "metadata": {
        "collapsed": false
      },
      "outputs": [],
      "source": [
        "import os\nimport shutil\nimport sys\nimport tempfile\n\nimport ansys.motorcad.core as pymotorcad\nfrom ansys.motorcad.core.geometry_drawing import draw_objects_debug"
      ]
    },
    {
      "cell_type": "markdown",
      "metadata": {},
      "source": [
        "## Connect to Motor-CAD\nIf this script is loaded into the Adaptive Templates file in Motor-CAD, the current Motor-CAD\ninstance is used.\n\nIf the script is run externally, these actions occur: a new Motor-CAD instance is opened, the e3\nWFSM motor template is loaded, the **Slot Type** is set to **Parallel Slot** and the file is saved\nto a temporary folder. To keep a new Motor-CAD instance open after executing the script, use the\n``MotorCAD(keep_instance_open=True)`` option when opening the new instance. Alternatively, use the\n``MotorCAD()`` method, which closes the Motor-CAD instance after the script is executed.\n\n"
      ]
    },
    {
      "cell_type": "code",
      "execution_count": null,
      "metadata": {
        "collapsed": false
      },
      "outputs": [],
      "source": [
        "if pymotorcad.is_running_in_internal_scripting():\n    # Use existing Motor-CAD instance if possible\n    mc = pymotorcad.MotorCAD(open_new_instance=False)\nelse:\n    mc = pymotorcad.MotorCAD(keep_instance_open=True)\n    # Disable popup messages\n    mc.set_variable(\"MessageDisplayState\", 2)\n    if not \"PYMOTORCAD_DOCS_BUILD\" in os.environ:\n        mc.set_visible(True)\n    mc.load_template(\"e3\")\n    mc.set_variable(\"SlotType\", 2)\n\n    # Open relevant file\n    working_folder = os.path.join(tempfile.gettempdir(), \"adaptive_library\")\n    try:\n        shutil.rmtree(working_folder)\n    except:\n        pass\n    os.mkdir(working_folder)\n    mot_name = \"e3_WFSM_Round_Parallel_Slot\"\n    mc.save_to_file(working_folder + \"/\" + mot_name + \".mot\")\n\n# Reset geometry to default\nmc.reset_adaptive_geometry()"
      ]
    },
    {
      "cell_type": "markdown",
      "metadata": {},
      "source": [
        "## Get required parameters and objects\nFrom Motor-CAD, get the adaptive parameters and their values.\n\nUse the ``set_adaptive_parameter_default`` method to set the required ``Slot Bttm Corner Radius``\nparameter if undefined.\n\n"
      ]
    },
    {
      "cell_type": "code",
      "execution_count": null,
      "metadata": {
        "collapsed": false
      },
      "outputs": [],
      "source": [
        "mc.set_adaptive_parameter_default(\"Slot Bttm Corner Radius\", 0.5)"
      ]
    },
    {
      "cell_type": "markdown",
      "metadata": {},
      "source": [
        "Get the slot bottom corner radius adaptive parameter value.\n\n"
      ]
    },
    {
      "cell_type": "code",
      "execution_count": null,
      "metadata": {
        "collapsed": false
      },
      "outputs": [],
      "source": [
        "radius = mc.get_adaptive_parameter_value(\"Slot Bttm Corner Radius\")"
      ]
    },
    {
      "cell_type": "markdown",
      "metadata": {},
      "source": [
        "Get the standard template regions with corners to be rounded. These can be drawn for debugging if\nrequired.\n\n"
      ]
    },
    {
      "cell_type": "code",
      "execution_count": null,
      "metadata": {
        "collapsed": false
      },
      "outputs": [],
      "source": [
        "stator = mc.get_region(\"Stator\")\nwinding_1 = mc.get_region(\"ArmatureSlotL1\")\nwinding_2 = mc.get_region(\"ArmatureSlotR1\")\nstator_slot = mc.get_region(\"StatorSlot\")\nliner = mc.get_region(\"Liner\")\nimpreg = mc.get_region(\"Impreg\")"
      ]
    },
    {
      "cell_type": "markdown",
      "metadata": {},
      "source": [
        "Get the slot corner coordinates to be rounded. Plot the corner coordinates and the stator region\nusing the ``draw_objects_debug`` function to ensure you have selected the correct points.\n\n"
      ]
    },
    {
      "cell_type": "code",
      "execution_count": null,
      "metadata": {
        "collapsed": false
      },
      "outputs": [],
      "source": [
        "corners = [stator.entities[5].end, stator.entities[7].end]\ndraw_objects_debug([stator, corners[0], corners[1]])"
      ]
    },
    {
      "cell_type": "markdown",
      "metadata": {},
      "source": [
        "Define the impregration corner coordinates to be rounded. Draw the impregnation region and corner\ncoordinates using the ``draw_objects_debug`` function.\n\n"
      ]
    },
    {
      "cell_type": "code",
      "execution_count": null,
      "metadata": {
        "collapsed": false
      },
      "outputs": [],
      "source": [
        "impreg_corners = [impreg.entities[1].end, impreg.entities[3].end]\ndraw_objects_debug([stator, impreg, impreg_corners[0], impreg_corners[1]])"
      ]
    },
    {
      "cell_type": "markdown",
      "metadata": {},
      "source": [
        "## Create the Adaptive Templates geometry\nRound the slot bottom corners for all regions that share these corner coordinates using the\n``Region.round_corners`` method. Armature winding regions only have 1 of the two corners, so use\nthe ``Region.round_corner`` method for these regions.\n\n"
      ]
    },
    {
      "cell_type": "code",
      "execution_count": null,
      "metadata": {
        "collapsed": false
      },
      "outputs": [],
      "source": [
        "stator.round_corners(corners, radius)\nstator_slot.round_corners(corners, radius)\nliner.round_corners(corners, radius)\nwinding_1.round_corner(corners[1], radius)\nwinding_2.round_corner(corners[0], radius)"
      ]
    },
    {
      "cell_type": "markdown",
      "metadata": {},
      "source": [
        "Round the impregnation corners for the liner and impregnation regions using the\n``Region.round_corners`` method.\n\n"
      ]
    },
    {
      "cell_type": "code",
      "execution_count": null,
      "metadata": {
        "collapsed": false
      },
      "outputs": [],
      "source": [
        "liner.round_corners(impreg_corners, radius)\nimpreg.round_corners(impreg_corners, radius)"
      ]
    },
    {
      "cell_type": "markdown",
      "metadata": {},
      "source": [
        "Set the edited regions in Motor-CAD.\n\n"
      ]
    },
    {
      "cell_type": "code",
      "execution_count": null,
      "metadata": {
        "collapsed": false
      },
      "outputs": [],
      "source": [
        "mc.set_region(stator)\nmc.set_region(stator_slot)\nmc.set_region(winding_1)\nmc.set_region(winding_2)\nmc.set_region(liner)\nmc.set_region(impreg)"
      ]
    },
    {
      "cell_type": "markdown",
      "metadata": {},
      "source": [
        "<img src=\"file://../../images/adaptive_templates/RoundParSlotBttm.png\" width=\"600pt\">\n\n"
      ]
    },
    {
      "cell_type": "markdown",
      "metadata": {},
      "source": [
        "## Load in Adaptive Templates script if required\nWhen this script is run externally, the script executes the following:\n\n* Set **Geometry type** to **Adaptive**.\n\n* Load the script into the **Adaptive Templates** tab.\n\n* Go to the **Geometry -> Radial** tab to run the Adaptive Templates script and display the new\n  geometry.\n\n"
      ]
    },
    {
      "cell_type": "markdown",
      "metadata": {},
      "source": [
        "<div class=\"alert alert-info\"><h4>Note</h4><p>When running in a Jupyter Notebook, you must provide the path for the Adaptive Templates script\n   (PY file) instead of ``sys.argv[0]`` when using the ``load_adaptive_script()`` method.</p></div>\n\n"
      ]
    },
    {
      "cell_type": "code",
      "execution_count": null,
      "metadata": {
        "collapsed": false
      },
      "outputs": [],
      "source": [
        "if not pymotorcad.is_running_in_internal_scripting():\n    mc.set_variable(\"GeometryTemplateType\", 1)\n    mc.load_adaptive_script(sys.argv[0])\n    mc.display_screen(\"Geometry;Radial\")"
      ]
    }
  ],
  "metadata": {
    "kernelspec": {
      "display_name": "Python 3",
      "language": "python",
      "name": "python3"
    },
    "language_info": {
      "codemirror_mode": {
        "name": "ipython",
        "version": 3
      },
      "file_extension": ".py",
      "mimetype": "text/x-python",
      "name": "python",
      "nbconvert_exporter": "python",
      "pygments_lexer": "ipython3",
      "version": "3.10.11"
    }
  },
  "nbformat": 4,
  "nbformat_minor": 0
}