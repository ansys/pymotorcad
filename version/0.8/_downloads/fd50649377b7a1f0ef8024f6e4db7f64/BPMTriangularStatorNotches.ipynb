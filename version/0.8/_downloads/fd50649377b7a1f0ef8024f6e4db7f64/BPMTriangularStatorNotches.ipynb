{
  "cells": [
    {
      "cell_type": "markdown",
      "metadata": {},
      "source": [
        "\n\n# Triangular Stator Notches\nAdaptive Template script to create triangular stator notches to improve NVH performance.\n"
      ]
    },
    {
      "cell_type": "markdown",
      "metadata": {},
      "source": [
        "<div class=\"alert alert-info\"><h4>Note</h4><p>For more information on the use of Adaptive Templates in Motor-CAD, and how to create, modify\n   and debug Adaptive Templates Scripts, see `ref_adaptive_templates_UG` in the\n   `ref_user_guide`.</p></div>\n\n<div class=\"alert alert-info\"><h4>Note</h4><p>Adaptive Templates in Motor-CAD require v2024.1.2 (Motor-CAD 2024 R1 Update) or later and\n   PyMotorCAD v0.4.1. To update PyMotorCAD in Motor-CAD, go to Scripting -> Settings -> PyMotorCAD\n   updates and select 'Update to Latest Release'.</p></div>\n\nThis script is designed to be run from Motor-CAD template \"e10\". If no Motor-CAD file is open, the\ne10 template will be loaded.\n\nThis script uses the following adaptive parameters:\n\n* Notch Sweep (2)\n\n* Notch Depth (1)\n\n\nIf these parameters are not already set up in the Motor-CAD file, the parameters will be\nautomatically set, with the default values shown in brackets.\n\nTo set an adaptive geometry for a Motor-CAD file, a script must be loaded in to the Adaptive\nTemplates tab (Geometry -> Editor -> Adaptive Templates) in Motor-CAD and run. When the option\n'Geometry Templates Type' is set to 'Adaptive', this script is automatically run repeatedly to\nkeep the Adaptive Geometry set in Motor-CAD.\n\nThis Python script can also be executed externally. When executed externally, a Motor-CAD instance\nwill be launched and a file based on the \"e10\" template will be saved to a temporary folder. This\nscript will be loaded into the Adaptive Templates tab.\n\n"
      ]
    },
    {
      "cell_type": "code",
      "execution_count": null,
      "metadata": {
        "collapsed": false
      },
      "outputs": [],
      "source": [
        "import math\n\nimport os\nimport shutil\nimport sys\nimport tempfile\n\nimport ansys.motorcad.core as pymotorcad\nfrom ansys.motorcad.core.geometry import Arc, Coordinate, Line, Region, RegionType, rt_to_xy"
      ]
    },
    {
      "cell_type": "markdown",
      "metadata": {},
      "source": [
        "## Perform Required imports\nImport pymotorcad to access Motor-CAD. Import os, tempfile and shutil to open and save a\ntemporary .mot file if none is open.\n\n"
      ]
    },
    {
      "cell_type": "markdown",
      "metadata": {},
      "source": [
        "## Connect to Motor-CAD\nIf this script is loaded into the Adaptive Templates file in Motor-CAD, the current Motor-CAD\ninstance is used.\n\nIf the script is run externally, these actions occur: a new Motor-CAD instance is opened,\nthe e10 IPM motor template is loaded and the file is saved to a temporary folder.\nTo keep a new Motor-CAD instance open after executing the script, use the\n``MotorCAD(keep_instance_open=True)`` option when opening the new instance.\nAlternatively, use the ``MotorCAD()`` method, which closes the Motor-CAD instance after the\nscript is executed.\n\n"
      ]
    },
    {
      "cell_type": "code",
      "execution_count": null,
      "metadata": {
        "collapsed": false
      },
      "outputs": [],
      "source": [
        "if pymotorcad.is_running_in_internal_scripting():\n    # Use existing Motor-CAD instance if possible\n    mc = pymotorcad.MotorCAD(open_new_instance=False)\nelse:\n    mc = pymotorcad.MotorCAD(keep_instance_open=True)\n    # Disable popup messages\n    mc.set_variable(\"MessageDisplayState\", 2)\n    mc.set_visible(True)\n    mc.load_template(\"e10\")\n\n    # Open relevant file\n    working_folder = os.path.join(tempfile.gettempdir(), \"adaptive_library\")\n    try:\n        shutil.rmtree(working_folder)\n    except:\n        pass\n    os.mkdir(working_folder)\n    mot_name = \"BPMTriStatorNotches\"\n    mc.save_to_file(working_folder + \"/\" + mot_name + \".mot\")\n\n# Reset geometry to default\nmc.reset_adaptive_geometry()"
      ]
    },
    {
      "cell_type": "markdown",
      "metadata": {},
      "source": [
        "## Set Adaptive Parameters if required\nTwo Adaptive Parameters are required for this adaptive template. These are used to define the\nsize of the stator notches to be added.\n\nIf the Adaptive Parameters have already been set in the current Motor-CAD file, their current\nvalues will be used. Otherwise, the Adaptive Parameters will be defined and set to default values.\n\nUse the ``set_adaptive_parameter_default`` method to set the required parameters if undefined.\n\n"
      ]
    },
    {
      "cell_type": "code",
      "execution_count": null,
      "metadata": {
        "collapsed": false
      },
      "outputs": [],
      "source": [
        "mc.set_adaptive_parameter_default(\"Notch Sweep\", 2)\nmc.set_adaptive_parameter_default(\"Notch Depth\", 1)"
      ]
    },
    {
      "cell_type": "markdown",
      "metadata": {},
      "source": [
        "## Get required parameters and objects\nGet the Adaptive Parameters specified in Motor-CAD, and their values\n\n"
      ]
    },
    {
      "cell_type": "code",
      "execution_count": null,
      "metadata": {
        "collapsed": false
      },
      "outputs": [],
      "source": [
        "notch_angular_width = mc.get_adaptive_parameter_value(\"notch sweep\")\nnotch_depth = mc.get_adaptive_parameter_value(\"notch depth\")"
      ]
    },
    {
      "cell_type": "markdown",
      "metadata": {},
      "source": [
        "Get the standard template stator region from Motor-CAD. Calculate the stator radius and define the\nstator centre coordinates.\n\n"
      ]
    },
    {
      "cell_type": "code",
      "execution_count": null,
      "metadata": {
        "collapsed": false
      },
      "outputs": [],
      "source": [
        "stator_region = mc.get_region(\"Stator\")\n\nstator_radius = mc.get_variable(\"Stator_Bore\") / 2\nduplication_angle = 360 / stator_region.duplications\n\nstator_centre = Coordinate(0, 0)"
      ]
    },
    {
      "cell_type": "markdown",
      "metadata": {},
      "source": [
        "## Create the Adaptive Templates geometry\nFor each notch to be added:\n\n* Calculate the angular position of the notch in mechanical degrees\n\n\n* Create the notch Region and define the properties for the notch region\n\n  * name\n\n  * colour\n\n  * duplications\n\n  * material\n\n* set the notch's ``parent`` to the stator region. This will allow Motor-CAD to treat the notch as\n  a sub-region of the stator and handle subtractions automatically.\n\n* If the notch is closed, set the region in Motor-CAD.\n\n"
      ]
    },
    {
      "cell_type": "code",
      "execution_count": null,
      "metadata": {
        "collapsed": false
      },
      "outputs": [],
      "source": [
        "notch_name = \"Stator_Notch\"\n\nnotch = Region(region_type=RegionType.stator_air)\nnotch.name = notch_name\nnotch.colour = (255, 255, 255)\nnotch.duplications = stator_region.duplications\nnotch.material = \"Air\"\nnotch.parent = stator_region\n\n# generate coordinates for triangular notch using start/mid/end\n# angles above converting from polar to cartesian\nx1, y1 = rt_to_xy(stator_radius, 0)\nx2, y2 = rt_to_xy(stator_radius, notch_angular_width / 2)\nx3, y3 = rt_to_xy(stator_radius + notch_depth, 0)\n\np1 = Coordinate(x1, y1)\np2 = Coordinate(x2, y2)\np3 = Coordinate(x3, y3)\n\n# using coordinate create entities making up notch region\nairgap_arc = Arc(p1, p2, stator_centre, stator_radius * 1.0)\nline_1 = Line(p2, p3)\nline_2 = Line(p3, p1)\n\n# add entities into notch region\nnotch.add_entity(airgap_arc)\nnotch.add_entity(line_1)\nnotch.add_entity(line_2)\n\nif notch.is_closed():\n    mc.set_region(notch)\n\n# Generate other side by symmetry\nsymmetry_angle = (2 * math.pi) / stator_region.duplications / 2\nsymmetry_line = Line(\n    stator_centre,\n    Coordinate(stator_radius * math.cos(symmetry_angle), stator_radius * math.sin(symmetry_angle)),\n)\n\nnotch_mirror = notch.mirror(symmetry_line)\nnotch_mirror.name = \"Stator_Notch_2\"\nif notch_mirror.is_closed():\n    # set the notches parent to the stator region, this will allow Motor-CAD to treat\n    # the notch as a sub-region of the stator and handle subtractions automatically\n    notch_mirror.parent = stator_region\n    mc.set_region(notch_mirror)"
      ]
    },
    {
      "cell_type": "markdown",
      "metadata": {},
      "source": [
        "## Load in Adaptive Templates Script if required\nWhen the script is run externally:\n\n* Set Geometry type to \"Adaptive\"\n\n* Load the script into the Adaptive Templates tab\n\n* Go to the Geometry -> Radial tab to run the Adaptive Templates Script and display the new\n  geometry\n\n"
      ]
    },
    {
      "cell_type": "code",
      "execution_count": null,
      "metadata": {
        "collapsed": false
      },
      "outputs": [],
      "source": [
        "if not pymotorcad.is_running_in_internal_scripting():\n    mc.set_variable(\"GeometryTemplateType\", 1)\n    mc.load_adaptive_script(sys.argv[0])\n    mc.display_screen(\"Geometry;Radial\")"
      ]
    },
    {
      "cell_type": "markdown",
      "metadata": {},
      "source": [
        "<img src=\"file://../../images/BPMTriangularStatorNotches.png\" width=\"300pt\">\n\n"
      ]
    }
  ],
  "metadata": {
    "kernelspec": {
      "display_name": "Python 3",
      "language": "python",
      "name": "python3"
    },
    "language_info": {
      "codemirror_mode": {
        "name": "ipython",
        "version": 3
      },
      "file_extension": ".py",
      "mimetype": "text/x-python",
      "name": "python",
      "nbconvert_exporter": "python",
      "pygments_lexer": "ipython3",
      "version": "3.12.10"
    }
  },
  "nbformat": 4,
  "nbformat_minor": 0
}