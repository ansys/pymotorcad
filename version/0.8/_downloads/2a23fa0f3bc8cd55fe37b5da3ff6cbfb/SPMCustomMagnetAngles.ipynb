{
  "cells": [
    {
      "cell_type": "markdown",
      "metadata": {},
      "source": [
        "\n# Custom Magnet Angles for SPM\nThis script applies the adaptive templates functionality to modify magnet angles in a Halbach array.\n"
      ]
    },
    {
      "cell_type": "markdown",
      "metadata": {},
      "source": [
        "## Perform required imports\nImport ``pymotorcad`` to access Motor-CAD. Import ``draw_objects`` to plot figures of geometry\nobjects.\nImport ``os``, ``shutil``, ``sys``, and ``tempfile``\nto open and save a temporary .mot file if none is open.\n\n"
      ]
    },
    {
      "cell_type": "code",
      "execution_count": null,
      "metadata": {
        "collapsed": false
      },
      "outputs": [],
      "source": [
        "import os\nimport shutil\nimport sys\nimport tempfile\n\nimport ansys.motorcad.core as pymotorcad\nfrom ansys.motorcad.core.geometry_drawing import draw_objects"
      ]
    },
    {
      "cell_type": "markdown",
      "metadata": {},
      "source": [
        "## Connect to Motor-CAD\nIf this script is loaded into the Adaptive Templates file in Motor-CAD, the current Motor-CAD\ninstance is used.\n\nIf the script is run externally, these actions occur:\n\n* open a new Motor-CAD instance,\n\n* load the a1 SPM motor template,\n\n* set the **Rotor Type** to **Surface Radial**,\n\n* set the **Magnet Arc [ED]** to **180 EDeg**,\n\n* set the **Magnet Segments** to **5**,\n\n* set the **Magnetization** type to **Halbach**,\n\n* set the **Halbach Magnetization** type to **Sinusoidal Array**,\n\n* save the file to a temporary folder.\nTo keep a new Motor-CAD instance open after executing the script, use the\n``MotorCAD(keep_instance_open=True)`` option when opening the new instance. Alternatively, use the\n``MotorCAD()`` method, which closes the Motor-CAD instance after the script is executed.\n\n"
      ]
    },
    {
      "cell_type": "code",
      "execution_count": null,
      "metadata": {
        "collapsed": false
      },
      "outputs": [],
      "source": [
        "if pymotorcad.is_running_in_internal_scripting():\n    # Use existing Motor-CAD instance if possible\n    mc = pymotorcad.MotorCAD(open_new_instance=False)\nelse:\n    mc = pymotorcad.MotorCAD(keep_instance_open=True)\n    # Disable popup messages\n    mc.set_variable(\"MessageDisplayState\", 2)\n    if not \"PYMOTORCAD_DOCS_BUILD\" in os.environ:\n        mc.set_visible(True)\n    mc.load_template(\"a1\")\n    mc.set_variable(\"BPMRotor\", 0)  # set Surface Radial rotor type\n    mc.set_variable(\"Magnet_Arc_[ED]\", 180)\n    mc.set_variable(\"CircumferentialSegments\", 5)\n    mc.set_variable(\"Magnetization\", 2)  # set Halbach magnetisation\n    mc.set_variable(\"HalbachMagnetization\", 1)  # set sinusoidal array\n\n    # Open relevant file\n    working_folder = os.path.join(tempfile.gettempdir(), \"adaptive_library\")\n    try:\n        shutil.rmtree(working_folder)\n    except:\n        pass\n    os.mkdir(working_folder)\n    mot_name = \"a1_SPM_Custom_Magnet_Angles\"\n    mc.save_to_file(working_folder + \"/\" + mot_name + \".mot\")\n\n# Reset geometry to default\nmc.reset_adaptive_geometry()"
      ]
    },
    {
      "cell_type": "markdown",
      "metadata": {},
      "source": [
        "## Get required parameters and objects\nFrom Motor-CAD, get the required standard template parameter values and the adaptive parameters\nand their values.\n\nGet the number of magnet segments, so you know how many custom magnet angles can be set.\n\n"
      ]
    },
    {
      "cell_type": "code",
      "execution_count": null,
      "metadata": {
        "collapsed": false
      },
      "outputs": [],
      "source": [
        "magnet_segments = int(mc.get_variable(\"CircumferentialSegments\"))"
      ]
    },
    {
      "cell_type": "markdown",
      "metadata": {},
      "source": [
        "Get the magnet regions and add them to the ``magnets`` list.:\n\n"
      ]
    },
    {
      "cell_type": "code",
      "execution_count": null,
      "metadata": {
        "collapsed": false
      },
      "outputs": [],
      "source": [
        "magnets = []\nfor i in range(magnet_segments):\n    magnets.append(mc.get_region(f\"{i+1}Magnet1\"))"
      ]
    },
    {
      "cell_type": "markdown",
      "metadata": {},
      "source": [
        "This example is designed for halbach magnet arrays, where the rotor has an odd number of magnet\nsegments. The central magnet angle remains unchanged. Custom magnet angles are defined for outer\nmagnet segments, such that symmetric pairs have symmetric magnet angles. Use the\n``draw_objects`` method to visualise the rotor and magnets with labels.\n\n"
      ]
    },
    {
      "cell_type": "code",
      "execution_count": null,
      "metadata": {
        "collapsed": false
      },
      "outputs": [],
      "source": [
        "to_draw = [mc.get_region(\"Rotor\"), mc.get_region(\"Banding\"), mc.get_region(\"Shaft\")]\nto_draw.extend(magnets)\ndraw_objects(to_draw, label_regions=True, axes=False)"
      ]
    },
    {
      "cell_type": "markdown",
      "metadata": {},
      "source": [
        "When there are 5 magnet segments, the magnet angles for ``5Magnet1`` and ``1Magnet1`` will be\nsymmetric, and the magnet angles for ``4Magnet1`` and ``2Magnet1`` will be symmetric.\n\n"
      ]
    },
    {
      "cell_type": "markdown",
      "metadata": {},
      "source": [
        "<img src=\"file://../../images/adaptive_templates/halbach_custom_angles_1.png\" width=\"600pt\">\n\n"
      ]
    },
    {
      "cell_type": "markdown",
      "metadata": {},
      "source": [
        "This example sets custom magnet angles for the outer pairs of magnet segments. For every pair of\nmagnet segments, an adaptive parameter ``Magnet angle offset x`` is used to define how many\ndegrees to shift the angle by. ``Magnet angle offset 1`` is for the outermost pair of magnet\nsegments (``5Magnet1`` and ``1Magnet1`` in this example).\n\nUse the ``set_adaptive_parameter_default`` method to set the required ``Magnet angle offset``\nparameters if undefined. The number of adaptive parameters required is half the number of outer\nmagnet segments (for **5** magnet segments, this would be **2**). Set the default offset values\nto 10 \u00b0 for all pairs of magnet segments.\n\nUse the ``get_adaptive_parameter_value`` method to add the adaptive parameters to the\n``magnet_angle_offset_values`` list.\n\n"
      ]
    },
    {
      "cell_type": "code",
      "execution_count": null,
      "metadata": {
        "collapsed": false
      },
      "outputs": [],
      "source": [
        "magnet_angle_offset_values = []\nhalf_outer_segments = int((magnet_segments - 1) / 2)\nfor i in range(half_outer_segments):\n    mc.set_adaptive_parameter_default(f\"Magnet angle offset {i+1}\", 10)\n    magnet_angle_offset_values.append(mc.get_adaptive_parameter_value(f\"Magnet angle offset {i+1}\"))"
      ]
    },
    {
      "cell_type": "markdown",
      "metadata": {},
      "source": [
        "## Create the Adaptive Templates geometry\nSet the ``magnet_angle`` property of the magnet segment regions to change the magnet angles. Loop\nthrough the pairs of magnet segments, and add the corresponding ``magnet_angle_offset_values``\nto the original magnet angle for magnet segments on the left hand side of the rotor (for example\n``5Magnet1``, which is ``magnets[-1]``, the last element of the ``magnets`` list). Subtract the\noffset value for magnet segments of the right hand side of the rotor (for example ``1Magnet1``,\nwhich is ``magnets[0]``, the first element of the ``magnets`` list).\n\nOnce the magnet angle has been modified, set the magnet segment regions using the ``set_region``\nmethod.\n\n"
      ]
    },
    {
      "cell_type": "code",
      "execution_count": null,
      "metadata": {
        "collapsed": false
      },
      "outputs": [],
      "source": [
        "for i in range(half_outer_segments):\n    magnets[i].magnet_angle -= magnet_angle_offset_values[i]\n    magnets[-(i + 1)].magnet_angle += magnet_angle_offset_values[i]\n    mc.set_region(magnets[i])\n    mc.set_region(magnets[-(i + 1)])"
      ]
    },
    {
      "cell_type": "markdown",
      "metadata": {},
      "source": [
        "Go to the **E-Magnetics -> FEA Editor** tab to see the updated magnet angles.\n\n"
      ]
    },
    {
      "cell_type": "markdown",
      "metadata": {},
      "source": [
        "<img src=\"file://../../images/adaptive_templates/halbach_custom_angles_2.png\" width=\"600pt\">\n\n"
      ]
    },
    {
      "cell_type": "markdown",
      "metadata": {},
      "source": [
        "## Load in Adaptive Templates script if required\nWhen this script is run externally, the script executes the following:\n\n* Set **Geometry type** to **Adaptive**.\n\n* Load the script into the **Adaptive Templates** tab.\n\n* Go to the **Geometry -> Radial** tab to run the Adaptive Templates script and display the new\n  geometry.\n\n"
      ]
    },
    {
      "cell_type": "markdown",
      "metadata": {},
      "source": [
        "<div class=\"alert alert-info\"><h4>Note</h4><p>When running in a Jupyter Notebook, you must provide the path for the Adaptive Templates script\n   (PY file) instead of ``sys.argv[0]`` when using the ``load_adaptive_script()`` method.</p></div>\n\n"
      ]
    },
    {
      "cell_type": "code",
      "execution_count": null,
      "metadata": {
        "collapsed": false
      },
      "outputs": [],
      "source": [
        "if not pymotorcad.is_running_in_internal_scripting():\n    mc.set_variable(\"GeometryTemplateType\", 1)\n    mc.load_adaptive_script(sys.argv[0])\n    mc.display_screen(\"Geometry;Radial\")"
      ]
    }
  ],
  "metadata": {
    "kernelspec": {
      "display_name": "Python 3",
      "language": "python",
      "name": "python3"
    },
    "language_info": {
      "codemirror_mode": {
        "name": "ipython",
        "version": 3
      },
      "file_extension": ".py",
      "mimetype": "text/x-python",
      "name": "python",
      "nbconvert_exporter": "python",
      "pygments_lexer": "ipython3",
      "version": "3.12.10"
    }
  },
  "nbformat": 4,
  "nbformat_minor": 0
}