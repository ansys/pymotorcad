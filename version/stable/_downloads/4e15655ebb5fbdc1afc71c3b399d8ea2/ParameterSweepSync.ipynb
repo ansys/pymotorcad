{
  "cells": [
    {
      "cell_type": "markdown",
      "metadata": {},
      "source": [
        "\n# Simple parametric sweep for SYNC machine\nThis is a simple example showing a two-dimensional parametric sweep for a wound field synchronous\nmotor varying continuous stator skew and field current.\n"
      ]
    },
    {
      "cell_type": "code",
      "execution_count": null,
      "metadata": {
        "collapsed": false
      },
      "outputs": [],
      "source": [
        "import math\n\nimport ansys.motorcad.core as pymotorcad\n\n# Open connection to Motor-CAD, and open e3 template (Sync machine)\nmc = pymotorcad.MotorCAD()\nmc.set_variable(\"MessageDisplayState\", 2)\nmc.load_template(\"e3\")\n# Alternatively, use the following\n# mc = pymotorcad.MotorCAD()\n# mc.load_from_file('filename.mot')\n\n# Ensure the transient calculation and force calculation are enabled\nmc.set_variable(\"TorqueCalculation\", True)\nmc.set_variable(\"ElectromagneticForcesCalc_Load\", True)\n\n# Make sure continuous stator skew is enabled\nmc.set_variable(\"SkewType\", 1)\n\n# Set up the sweep parameters, in this case for sync machine field current and skew angle\nskew_angles = [0, 7.5]\nfield_currents = [5, 10]\n\n# Run the sweep\nfor skew_angle in skew_angles:\n    for field_current in field_currents:\n        # Set the parameter(s) to sweep\n        mc.set_variable(\"StatorSkew\", skew_angle)\n        mc.set_variable(\"DCFieldCurrent\", field_current)\n\n        # Tell the user what step we are on:\n        print(\"Running skew: \" + str(skew_angle) + \" Field current: \" + str(field_current))\n\n        # Run the calculation\n        mc.do_magnetic_calculation()\n\n        # Find many steps have been run\n        if mc.get_variable(\"MotorType_MotorLAB\") == \"IM\":\n            try:\n                # Variable was renamed in 2024R1, try newer naming first\n                numberOfCycles = mc.get_variable(\"IMSingleLoadNumberCycles_Rotating\")\n            except pymotorcad.MotorCADError:\n                numberOfCycles = mc.get_variable(\"IMSingleLoadNumberCycles\")\n        else:\n            numberOfCycles = mc.get_variable(\"TorqueNumberCycles\")\n\n        # Get the NVH data matrix\n        nvh_data_raw = mc.get_magnetic_3d_graph(\"NVH_RadiatedPower_Level_OL\", 1)\n\n        # Find length of data available\n        time_order_items = len(nvh_data_raw.y)\n        space_order_items = len(nvh_data_raw.x)\n        index_offset_space = math.floor(space_order_items / 2)\n\n        # Iterate over data, storing as a list of tuples, so we can sort to find the biggest\n        nvh_list = []\n        for raw_time_order in range(time_order_items):\n            electrical_order = raw_time_order / numberOfCycles\n            for raw_space_order in range(space_order_items):\n                space_order = raw_space_order - index_offset_space\n                # Store a tuple of sound power level, electrical time order, space order\n                nvh_list.append(\n                    (\n                        nvh_data_raw.data[raw_space_order][raw_time_order],\n                        electrical_order,\n                        space_order,\n                    )\n                )\n\n        # Sort the list on NVH, from highest to lowest, and show top 5 orders\n        nvh_list.sort(reverse=True)\n        print(\"Sound power level [dB], electrical time order, space order:\")\n        for i in range(min(5, len(nvh_list))):\n            print(nvh_list[i])\n        print(\"\")"
      ]
    }
  ],
  "metadata": {
    "kernelspec": {
      "display_name": "Python 3",
      "language": "python",
      "name": "python3"
    },
    "language_info": {
      "codemirror_mode": {
        "name": "ipython",
        "version": 3
      },
      "file_extension": ".py",
      "mimetype": "text/x-python",
      "name": "python",
      "nbconvert_exporter": "python",
      "pygments_lexer": "ipython3",
      "version": "3.12.10"
    }
  },
  "nbformat": 4,
  "nbformat_minor": 0
}