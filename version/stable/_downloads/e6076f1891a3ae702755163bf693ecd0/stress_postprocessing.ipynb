{
  "cells": [
    {
      "cell_type": "markdown",
      "metadata": {},
      "source": [
        "\n\n# Motor-CAD Stress post-processing example script\nThis example provides post-processing for Motor-CAD rotor stress results.\nThe stress results are loaded, and estimates for non-linear stress and strain\nresults are calculated from Motor-CAD's linear stress results using the\nNeuber and Glinka correction methods.\n"
      ]
    },
    {
      "cell_type": "markdown",
      "metadata": {},
      "source": [
        "## Perform required imports\n\n"
      ]
    },
    {
      "cell_type": "code",
      "execution_count": null,
      "metadata": {
        "collapsed": false
      },
      "outputs": [],
      "source": [
        "import math\nimport pathlib\nimport tempfile\nimport uuid\n\nimport matplotlib.pyplot as plt\nimport numpy as np\n\nimport ansys.motorcad.core as pymotorcad"
      ]
    },
    {
      "cell_type": "markdown",
      "metadata": {},
      "source": [
        "## Utility functions to check non-linear material data\n\n"
      ]
    },
    {
      "cell_type": "code",
      "execution_count": null,
      "metadata": {
        "collapsed": false
      },
      "outputs": [],
      "source": [
        "def check_youngs_modulus(non_linear_strain, non_linear_stress, youngs_modulus):\n    \"\"\"Check the initial slope of the non-linear stress strain curve matches the Young's modulus.\n\n    Parameters\n    ----------\n    non_linear_strain : list or ndarray\n        Strain values\n    non_linear_stress : list or ndarray\n        Corresponding stress values in MPa\n    youngs_modulus : float\n        Young's modulus in MPa\n\n    Returns\n    -------\n    None\n\n    Raises\n    ------\n    ValueError\n        If the initial slope is not consistent with the Young's modulus.\n    \"\"\"\n    initial_youngs_modulus = (non_linear_stress[1] - non_linear_stress[0]) / (\n        non_linear_strain[1] - non_linear_strain[0]\n    )\n    # Error if notably different\n    if not math.isclose(initial_youngs_modulus, youngs_modulus, rel_tol=0.01, abs_tol=0.1):\n        raise ValueError(\n            \"Youngs Modulus and initial slope of non-linear data are different, \"\n            \"please check the inputs. Initial slope is \"\n            + str(initial_youngs_modulus)\n            + \" MPa \"\n            + \"Young's modulus is \"\n            + str(youngs_modulus)\n            + \" MPa\"\n        )\n\n\ndef find_divergence_point(non_linear_strain, non_linear_stress, youngs_modulus):\n    \"\"\"Find last point where the non-linear stress strain curve is on the linear region.\n\n    Parameters\n    ----------\n    non_linear_strain : list or ndarray\n        Strain values\n    non_linear_stress : list or ndarray\n        Corresponding stress values in MPa\n    youngs_modulus : float\n        Young's modulus in MPa\n\n    Returns\n    -------\n    float\n        The last stress point in the linear range\n    \"\"\"\n    for i in range(1, len(non_linear_stress)):\n        if not math.isclose(\n            non_linear_stress[i] / non_linear_strain[i], youngs_modulus, rel_tol=0.0001\n        ):\n            return non_linear_stress[i - 1]\n    # Return maximum stress in list if no divergence found\n    return non_linear_stress[-1]"
      ]
    },
    {
      "cell_type": "markdown",
      "metadata": {},
      "source": [
        "## Classes to store and manipulate stress and FEA data\n\n"
      ]
    },
    {
      "cell_type": "code",
      "execution_count": null,
      "metadata": {
        "collapsed": false
      },
      "outputs": [],
      "source": [
        "class Element:\n    \"\"\"Data for a 1st order triangular element and its associated stress and strain\n\n    Parameters\n    ----------\n    tri_index : int\n        The triangle element index number\n    node_1 : int\n        The ID of the first node in this element\n    node_2 : int\n        The ID of the second node in this element\n    node_3 : int\n        The ID of the third node in this element\n    x : float\n        The X position in mm of the element\n    y : float\n        The Y position in mm of the element\n    s_x : float\n        The X direction stress component in MPa\n    s_y\n        The Y direction stress component in MPa\n    t_xy\n        The XY plane shear stress in MPa\n    sp_1\n        The first principal stress in MPa\n    sp_2\n        The second principal stress in MPa\n    svm\n        The Von Mises stress in MPa\n    u_x\n        The X direction displacement in mm\n    u_y\n        The Y direction displacement in mm\n\n    Attributes\n    ----------\n    stress_nonlinear_neuber : float\n        The corrected equivalent stress using the Neuber correction in MPa.\n        Populated by apply_neuber_correction\n    strain_nonlinear_neuber : float\n        The corrected equivalent total strain using the Neuber correction.\n        Populated by apply_neuber_correction\n    strain_plastic_neuber : float\n        The plastic strain using the Neuber correction.\n        Populated by apply_neuber_correction\n    stress_nonlinear_glinka : float\n        The corrected equivalent stress using the Glinka correction in MPa.\n        Populated by apply_glinka_correction\n    strain_nonlinear_glinka : float\n        he corrected equivalent total strain using the Glinka correction.\n        Populated by apply_glinka_correction\n    strain_plastic_glinka : float\n        The plastic strain using the Glinka correction. Populated by apply_glinka_correction\n    \"\"\"\n\n    def __init__(\n        self, tri_index, node_1, node_2, node_3, x, y, s_x, s_y, t_xy, sp_1, sp_2, svm, u_x, u_y\n    ):\n        self.tri_index = tri_index\n        self.node_1 = node_1\n        self.node_2 = node_2\n        self.node_3 = node_3\n\n        self.x = x\n        self.y = y\n        self.s_x = s_x\n        self.s_y = s_y\n        self.t_xy = t_xy\n        self.sp_1 = sp_1\n        self.sp_2 = sp_2\n        self.svm = svm\n        self.u_x = u_x\n        self.u_y = u_y\n\n        self.stress_nonlinear_neuber = 0\n        self.strain_nonlinear_neuber = 0\n        self.strain_plastic_neuber = 0\n\n        self.stress_nonlinear_glinka = 0\n        self.strain_nonlinear_glinka = 0\n        self.strain_plastic_glinka = 0\n\n    def apply_neuber_correction(self, youngs_modulus, non_linear_strain, non_linear_stress):\n        \"\"\"Update the Neuber correction estimates from the Von Mises stress.\n\n        Parameters\n        ----------\n        youngs_modulus : float\n            The Young's modulus used in the linear stress calculation.\n        non_linear_strain, non_linear_stress : np.ndarray\n            Corresponding arrays of strain (ratio) and stress (MPa) for the non-linear correction.\n        \"\"\"\n\n        elastic_stress = self.svm\n        elastic_strain = elastic_stress / youngs_modulus\n        elastic_stress_strain_product = elastic_stress * elastic_strain\n\n        # Check input data is sensible\n        check_youngs_modulus(non_linear_strain, non_linear_stress, youngs_modulus)\n        # If on the elastic portion, just return inputs, so we don't get interpolation errors\n        if elastic_stress < find_divergence_point(\n            non_linear_strain, non_linear_stress, youngs_modulus\n        ):\n            self.strain_nonlinear_neuber = elastic_strain\n            self.stress_nonlinear_neuber = elastic_stress\n            self.strain_plastic_neuber = 0\n            return\n\n        # Find a matching stress-strain product in the non-linear response\n        # (This is the Neuber correction)\n        non_linear_stress_strain_product = non_linear_stress * non_linear_strain\n        # Error if out of range:\n        if elastic_stress_strain_product > np.max(non_linear_stress_strain_product):\n            raise ValueError(\n                \"Input too large (elastic stress strain product > maximum stress strain product in \"\n                \"non-linear data). \"\n                \"Elastic stress is \"\n                + str(elastic_stress)\n                + \", elastic stress strain product is \"\n                + str(elastic_stress_strain_product)\n                + \", maximum plastic stress strain product is \"\n                + str(np.max(non_linear_stress_strain_product))\n            )\n\n        # Lookup to find non-linear strain at matching stress strain product:\n        equivalent_non_linear_strain = np.interp(\n            elastic_stress_strain_product, non_linear_stress_strain_product, non_linear_strain\n        )\n        # Lookup to find non-linear stress at this strain:\n        equivalent_non_linear_stress = np.interp(\n            equivalent_non_linear_strain, non_linear_strain, non_linear_stress\n        )\n\n        # Find plastic strain\n        plastic_strain = equivalent_non_linear_strain - elastic_strain\n\n        self.strain_nonlinear_neuber = equivalent_non_linear_strain\n        self.stress_nonlinear_neuber = equivalent_non_linear_stress\n        self.strain_plastic_neuber = plastic_strain\n\n    def apply_glinka_correction(self, youngs_modulus, non_linear_strain, non_linear_stress):\n        \"\"\"Update the Glinka correction estimates from the Von Mises stress.\n\n        Parameters\n        ----------\n        youngs_modulus : float\n            The Young's modulus used in the linear stress calculation.\n        non_linear_strain, non_linear_stress : np.ndarray\n            Corresponding arrays of strain (ratio) and stress (MPa) for the non-linear correction.\n        \"\"\"\n\n        elastic_stress = self.svm\n        elastic_strain = elastic_stress / youngs_modulus\n        elastic_stress_strain_integral = 0.5 * elastic_strain * elastic_stress\n\n        # Check input data is sensible\n        check_youngs_modulus(non_linear_strain, non_linear_stress, youngs_modulus)\n        # If on the elastic portion, just return inputs, so we don't get interpolation errors\n        if elastic_stress < find_divergence_point(\n            non_linear_strain, non_linear_stress, youngs_modulus\n        ):\n            self.strain_nonlinear_glinka = elastic_strain\n            self.stress_nonlinear_glinka = elastic_stress\n            self.strain_plastic_glinka = 0\n            return\n\n        # Find a matching stress-strain integral in the non-linear response\n        # (This is the Glinka correction)\n        non_linear_stress_strain_integral = np.zeros(len(non_linear_stress))\n        for i in range(1, len(non_linear_stress)):\n            # This assumes that our stress strain curve starts at zero,\n            # and uses simple trapezium integration\n            non_linear_stress_strain_integral[i] = (\n                non_linear_stress_strain_integral[i - 1]\n                + (non_linear_strain[i] - non_linear_strain[i - 1])\n                * (non_linear_stress[i] + non_linear_stress[i - 1])\n                / 2\n            )\n\n        # Error if out of range:\n        if elastic_stress_strain_integral > np.max(non_linear_stress_strain_integral):\n            raise ValueError(\n                \"Input too large (elastic stress strain integral > \"\n                \"maximum stress strain integral in non-linear data). \"\n                \"Elastic stress is \"\n                + str(elastic_stress)\n                + \", elastic stress strain integral is \"\n                + str(elastic_stress_strain_integral)\n                + \", maximum plastic stress strain integral is \"\n                + str(np.max(non_linear_stress_strain_integral))\n            )\n\n        # Lookup to find non-linear strain at matching stress strain integral:\n        equivalent_non_linear_strain = np.interp(\n            elastic_stress_strain_integral, non_linear_stress_strain_integral, non_linear_strain\n        )\n        # Lookup to find non-linear stress at this strain:\n        equivalent_non_linear_stress = np.interp(\n            equivalent_non_linear_strain, non_linear_strain, non_linear_stress\n        )\n\n        # Find plastic strain\n        plastic_strain = equivalent_non_linear_strain - elastic_strain\n\n        self.strain_nonlinear_glinka = equivalent_non_linear_strain\n        self.stress_nonlinear_glinka = equivalent_non_linear_stress\n        self.strain_plastic_glinka = plastic_strain\n\n\nclass StressRegion:\n    \"\"\"Data for a stressed region, including element stress data and region properties.\n\n    Attributes\n    ----------\n    region_name : str\n        The name of the region\n    reg_code : int\n        The region identifier code from the FEA\n    youngs_modulus : float\n        The region's Young's modulus\n    poissons_ratio : float\n        The region's Poisson's ratio\n    elements : list of Element\n        List of elements that make up the region\n    \"\"\"\n\n    def __init__(self):\n        self.region_name = \"\"\n        self.reg_code = 0\n        self.youngs_modulus = 0\n        self.poissons_ratio = 0\n        self.elements = []\n\n    def add_element(\n        self, tri_index, node_1, node_2, node_3, x, y, s_x, s_y, t_xy, sp_1, sp_2, svm, u_x, u_y\n    ):\n        \"\"\"Add an element to the region with results from a linear elastic calculation.\n\n        Parameters\n        ----------\n        tri_index : int\n            The triangle element index number\n        node_1 : int\n            The ID of the first node in this element\n        node_2 : int\n            The ID of the second node in this element\n        node_3 : int\n            The ID of the third node in this element\n        x : float\n            The X position in mm of the element\n        y : float\n            The Y position in mm of the element\n        s_x : float\n            The X direction stress component in MPa\n        s_y\n            The Y direction stress component in MPa\n        t_xy\n            The XY plane shear stress in MPa\n        sp_1\n            The first principal stress in MPa\n        sp_2\n            The second principal stress in MPa\n        svm\n            The Von Mises stress in MPa\n        u_x\n            The X direction displacement in mm\n        u_y\n            The Y direction displacement in mm\n        \"\"\"\n        self.elements.append(\n            Element(\n                tri_index, node_1, node_2, node_3, x, y, s_x, s_y, t_xy, sp_1, sp_2, svm, u_x, u_y\n            )\n        )\n\n    def get_number_elements(self):\n        \"\"\"Return the number of elements in the region.\n\n        Returns\n        -------\n        int\n            Number of elements in the region.\n        \"\"\"\n        return len(self.elements)\n\n    def get_sp1(self):\n        \"\"\"Return the first principal stress as a list in MPa.\"\"\"\n        result_array = []\n        for i in range(len(self.elements)):\n            result_array.append(self.elements[i].sp_1)\n        return result_array\n\n    def get_sp2(self):\n        \"\"\"Return the second principal stress as a list in MPa.\"\"\"\n        result_array = []\n        for i in range(len(self.elements)):\n            result_array.append(self.elements[i].sp_2)\n        return result_array\n\n    def get_svm(self):\n        \"\"\"Return the Von Mises stress as a list in MPa.\"\"\"\n        result_array = []\n        for i in range(len(self.elements)):\n            result_array.append(self.elements[i].svm)\n        return result_array\n\n    def get_stress_nonlinear_neuber(self):\n        \"\"\"Return the estimated stress with the Neuber correction as a list in MPa.\"\"\"\n        result_array = []\n        for i in range(len(self.elements)):\n            result_array.append(self.elements[i].stress_nonlinear_neuber)\n        return result_array\n\n    def get_strain_nonlinear_neuber(self):\n        \"\"\"Return the estimated total strain with the Neuber correction as a list.\"\"\"\n        result_array = []\n        for i in range(len(self.elements)):\n            result_array.append(self.elements[i].strain_nonlinear_neuber)\n        return result_array\n\n    def get_strain_plastic_neuber(self):\n        \"\"\"Return the estimated plastic strain with the Neuber correction as a list.\"\"\"\n        result_array = []\n        for i in range(len(self.elements)):\n            result_array.append(self.elements[i].strain_plastic_neuber)\n        return result_array\n\n    def get_stress_nonlinear_glinka(self):\n        \"\"\"Return the estimated stress with the Glinka correction as a list in MPa.\"\"\"\n        result_array = []\n        for i in range(len(self.elements)):\n            result_array.append(self.elements[i].stress_nonlinear_glinka)\n        return result_array\n\n    def get_strain_nonlinear_glinka(self):\n        \"\"\"Return the estimated total strain with the Glinka correction as a list.\"\"\"\n        result_array = []\n        for i in range(len(self.elements)):\n            result_array.append(self.elements[i].strain_nonlinear_glinka)\n        return result_array\n\n    def get_strain_plastic_glinka(self):\n        \"\"\"Return the estimated plastic strain with the Glinka correction as a list.\"\"\"\n        result_array = []\n        for i in range(len(self.elements)):\n            result_array.append(self.elements[i].strain_plastic_glinka)\n        return result_array\n\n    def get_x(self):\n        \"\"\"Return the X coordinate as a list in mm.\"\"\"\n        result_array = []\n        for i in range(len(self.elements)):\n            result_array.append(self.elements[i].x)\n        return result_array\n\n    def get_y(self):\n        \"\"\"Return the Y coordinate as a list in mm.\"\"\"\n        result_array = []\n        for i in range(len(self.elements)):\n            result_array.append(self.elements[i].y)\n        return result_array\n\n    def apply_corrections(self, non_linear_strain, non_linear_stress):\n        \"\"\"Update the Neuber and Glinka estimates using the Von Mises stress for all elements.\n\n        Parameters\n        ----------\n        non_linear_strain, non_linear_stress : np.ndarray\n            Corresponding arrays of strain (ratio) and stress (MPa) for the non-linear correction.\n        \"\"\"\n        for i in range(len(self.elements)):\n            self.elements[i].apply_neuber_correction(\n                self.youngs_modulus, non_linear_strain, non_linear_stress\n            )\n            self.elements[i].apply_glinka_correction(\n                self.youngs_modulus, non_linear_strain, non_linear_stress\n            )\n\n        # In principle, we could not apply a scaling based on the corrected stresses to the\n        # s_x, s_y and t_xy stresses, so we have an offset to apply to account for relaxation\n        # following plastic strain for later load cases.\n\n\nclass StressRegions:\n    \"\"\"Data on stresses for multiple regions.\"\"\"\n\n    def __init__(self):\n        self._regions = []\n\n    def __getitem__(self, region_number):\n        return self._regions[region_number]\n\n    def __setitem__(self, region_number, data):\n        self._regions[region_number] = data\n\n    def __len__(self):\n        return len(self._regions)\n\n    def add_region(self):\n        \"\"\"Add a new region\"\"\"\n        self._regions.append(StressRegion())\n\n\ndef get_stress_data(mc, clean_up=True):\n    \"\"\"Load stress data from Motor-CAD\n\n    This function should be called after the stress calculation has been carried out using\n    `do_mechanical_calculation`.\n\n    Parameters\n    ----------\n    mc : pymotorcad.motorcad_methods.MotorCAD\n        The PyMotorCAD instance to use.\n    clean_up : bool, default True\n        If the temporary text file should be deleted after use.\n\n    Returns\n    -------\n    StressRegions\n        The stress information for all regions.\n    \"\"\"\n    # Make a temporary filename\n    temp_filename = pathlib.Path(tempfile.gettempdir()) / pathlib.Path(str(uuid.uuid4()) + \".txt\")\n\n    # The Motor-CAD FEA file always saves with '.' as a decimal separator, independent of regional\n    # settings. Empty string for regions means we get all available regions\n    mc.save_fea_data(str(temp_filename), 0, 0, \"RegCode,X,Y,Sx,Sy,Txy,Sp1,Sp2,SVM,Ux,Uy\", \"\", \",\")\n\n    # Open the file\n    in_file = open(temp_filename, \"r\")\n\n    # Read first line, second value will be length of element table (e.g. '1 41230 ElementsTable')\n    split_line = in_file.readline().split(sep=\" \")\n    number_of_elements = int(split_line[1])\n    # Skip over 4 redundant lines (blank line, plus descriptive header)\n    for i in range(4):\n        in_file.readline()\n\n    # Start with an empty set of regions\n    stress_regions = StressRegions()\n\n    # Read the element data\n    for i in range(number_of_elements):\n        split_line = in_file.readline().split(sep=\",\")\n        # The region code is the 5th element, after the TriIndex, Node1, Node2 & Node3\n        reg_code = int(split_line[4])\n\n        # Increase the number of regions as required\n        while reg_code > len(stress_regions):\n            stress_regions.add_region()\n\n        stress_regions[reg_code - 1].add_element(\n            tri_index=int(split_line[0]),\n            node_1=int(split_line[1]),\n            node_2=int(split_line[2]),\n            node_3=int(split_line[3]),\n            # Note that split_line[4] is the region code, not stored per-element\n            x=float(split_line[5]),\n            y=float(split_line[6]),\n            s_x=float(split_line[7]),\n            s_y=float(split_line[8]),\n            t_xy=float(split_line[9]),\n            sp_1=float(split_line[10]),\n            sp_2=float(split_line[11]),\n            svm=float(split_line[12]),\n            u_x=float(split_line[13]),\n            u_y=float(split_line[14]),\n        )\n\n    split_line = in_file.readline().split(sep=\" \")\n    # This should be the 2 XXX NodesTable line\n    number_of_nodes = int(split_line[1])\n\n    # Skip over 4 redundant lines (blank line, plus descriptive header)\n    for i in range(4):\n        in_file.readline()\n\n    # Read the nodal data\n    for i in range(number_of_nodes):\n        split_line = in_file.readline().split(sep=\",\")\n        # TODO: We could store this data, to get nodal average stresses later.\n\n    split_line = in_file.readline().split(sep=\" \")\n    # This should be the 3 XXX RegionsTable line\n    number_of_regions = int(split_line[1])\n\n    # Skip over 4 redundant lines (blank line, plus descriptive header)\n    for i in range(4):\n        in_file.readline()\n\n    if number_of_regions > len(stress_regions):\n        raise ValueError(\"RegionsTable and element region codes do not match\")\n\n    # Read the region data\n    for i in range(number_of_regions):\n        split_line = in_file.readline().split(sep=\",\")\n        this_region = int(split_line[0])\n        if this_region > len(stress_regions):\n            raise ValueError(\"RegionsTable and element region codes do not match\")\n        stress_regions[this_region - 1].reg_code = this_region\n        stress_regions[this_region - 1].youngs_modulus = float(split_line[1])\n        stress_regions[this_region - 1].poissons_ratio = float(split_line[2])\n        stress_regions[this_region - 1].region_name = split_line[-1].strip()\n\n    # Tidy up\n    in_file.close()\n    # Delete the temp file\n    if clean_up:\n        temp_filename.unlink()\n    else:\n        print(\"Temporary file not deleted: \" + str(temp_filename))\n\n    return stress_regions"
      ]
    },
    {
      "cell_type": "markdown",
      "metadata": {},
      "source": [
        "## Main script, using the classes and methods defined above\n\n### Start Motor-CAD\nLoad a template (for users this would normally be replaced by `load_from_file()`, and disable\npopup messages.\n\n"
      ]
    },
    {
      "cell_type": "code",
      "execution_count": null,
      "metadata": {
        "collapsed": false
      },
      "outputs": [],
      "source": [
        "mc = pymotorcad.MotorCAD()\nmc.set_variable(\"MessageDisplayState\", 2)\nmc.load_template(\"e9\")"
      ]
    },
    {
      "cell_type": "markdown",
      "metadata": {},
      "source": [
        "### Run the stress calculation\nSet the shaft speed and run the mechanical stress calculation\n\n"
      ]
    },
    {
      "cell_type": "code",
      "execution_count": null,
      "metadata": {
        "collapsed": false
      },
      "outputs": [],
      "source": [
        "mc.set_variable(\"ShaftSpeed\", 15000)\nmc.do_mechanical_calculation()"
      ]
    },
    {
      "cell_type": "markdown",
      "metadata": {},
      "source": [
        "### Read the stress data\n\n"
      ]
    },
    {
      "cell_type": "code",
      "execution_count": null,
      "metadata": {
        "collapsed": false
      },
      "outputs": [],
      "source": [
        "stress_regions = get_stress_data(mc)"
      ]
    },
    {
      "cell_type": "markdown",
      "metadata": {},
      "source": [
        "### Choose which regions to show data for\n\n"
      ]
    },
    {
      "cell_type": "code",
      "execution_count": null,
      "metadata": {
        "collapsed": false
      },
      "outputs": [],
      "source": [
        "region_names_to_postprocess = [\"Rotor\"]"
      ]
    },
    {
      "cell_type": "markdown",
      "metadata": {},
      "source": [
        "### Plot the elastic stress data for each region\n\n"
      ]
    },
    {
      "cell_type": "code",
      "execution_count": null,
      "metadata": {
        "collapsed": false
      },
      "outputs": [],
      "source": [
        "for region_name_to_postprocess in region_names_to_postprocess:\n    # Find matching regions\n    for i in range(len(stress_regions)):\n        if stress_regions[i].region_name == region_name_to_postprocess:\n            if stress_regions[i].get_number_elements() > 0:\n                fig, ax = plt.subplots(1, 2, layout=\"constrained\", sharey=True)\n                ax[0].scatter(\n                    stress_regions[i].get_sp1(), stress_regions[i].get_sp2(), marker=\".\"\n                )  # , c=svm)\n                ax[0].set_xlabel(\"Principal stress 1 [MPa]\")\n                ax[0].set_ylabel(\"Principal stress 2 [MPa]\")\n                ax[1].scatter(\n                    stress_regions[i].get_svm(), stress_regions[i].get_sp1(), marker=\".\"\n                )  # , c=svm)\n                ax[1].scatter(\n                    stress_regions[i].get_svm(), stress_regions[i].get_sp2(), marker=\"x\"\n                )  # , c=svm)\n                ax[1].legend([\"Sp1\", \"Sp2\"])\n                ax[1].set_xlabel(\"Von Mises Stress [MPa]\")\n                ax[1].set_ylabel(\"Principal Stress [MPa]\")\n                plt.suptitle(stress_regions[i].region_name)\n                plt.show()"
      ]
    },
    {
      "cell_type": "markdown",
      "metadata": {},
      "source": [
        "### Non-linear stress strain data\nOur non-linear stress-strain data, in this case for a region with\nYoung's modulus of 185 GPa, and with plastic deformation above 480 MPa.\n\n"
      ]
    },
    {
      "cell_type": "code",
      "execution_count": null,
      "metadata": {
        "collapsed": false
      },
      "outputs": [],
      "source": [
        "non_linear_strain = np.array(\n    [\n        0,\n        0.0002,\n        0.0004,\n        0.0006,\n        0.0008,\n        0.001,\n        0.0012,\n        0.0014,\n        0.0016,\n        0.0018,\n        0.002,\n        0.0022,\n        0.0024,\n        0.0026,\n        0.0028,\n        0.003,\n        0.0032,\n        0.0034,\n        0.0036,\n        0.0038,\n        0.004,\n        0.0042,\n        0.0044,\n        0.0046,\n        0.0048,\n        0.005,\n        0.0052,\n        0.0054,\n        0.0056,\n        0.0058,\n    ]\n)\nnon_linear_stress = np.array(\n    [\n        0,\n        37,\n        74,\n        111,\n        148,\n        185,\n        222,\n        259,\n        296,\n        333,\n        370,\n        407,\n        444,\n        481,\n        500,\n        520,\n        540,\n        560,\n        570,\n        580,\n        590,\n        600,\n        605,\n        610,\n        615,\n        620,\n        625,\n        630,\n        635,\n        640,\n    ]\n)"
      ]
    },
    {
      "cell_type": "markdown",
      "metadata": {},
      "source": [
        "### Apply corrections\nApply the Glinka and Neuber stress corrections to the regions of interest using the region's\n`apply_corrections` method, and plot the results.\n\n"
      ]
    },
    {
      "cell_type": "code",
      "execution_count": null,
      "metadata": {
        "collapsed": false
      },
      "outputs": [],
      "source": [
        "for region_name_to_postprocess in region_names_to_postprocess:\n    # Find matching regions\n    for i in range(len(stress_regions)):\n        if stress_regions[i].region_name == region_name_to_postprocess:\n            # Apply the actual stress correction here\n            stress_regions[i].apply_corrections(non_linear_strain, non_linear_stress)\n\n            # Print the maximum stresses and strains\n            print(f\"For region {stress_regions[i].region_name}:\")\n            print(f\"Maximum elastic stress \" f\"{np.max(stress_regions[i].get_svm()):.6} MPa\")\n            print(\n                f\"Maximum stress with Neuber correction: \"\n                f\"{np.max(stress_regions[i].get_stress_nonlinear_neuber()):.6} MPa\"\n            )\n            print(\n                f\"Maximum stress with Glinka correction: \"\n                f\"{np.max(stress_regions[i].get_stress_nonlinear_glinka()):.6} MPa\"\n            )\n            print(\n                f\"Maximum plastic strain with Neuber correction: \"\n                f\"{np.max(stress_regions[i].get_strain_plastic_neuber()):.6}\"\n            )\n            print(\n                f\"Maximum plastic strain with Glinka correction: \"\n                f\"{np.max(stress_regions[i].get_strain_plastic_glinka()):.6}\"\n            )\n\n            # Plot:\n            fig, ax = plt.subplots(3, 1, layout=\"constrained\")\n\n            # Stress vs strain\n            ax[0].scatter(\n                stress_regions[i].get_strain_nonlinear_neuber(),\n                stress_regions[i].get_stress_nonlinear_neuber(),\n                marker=\".\",\n            )\n            ax[0].scatter(\n                stress_regions[i].get_strain_nonlinear_glinka(),\n                stress_regions[i].get_stress_nonlinear_glinka(),\n                marker=\"x\",\n            )\n            ax[0].legend([\"Neuber\", \"Glinka\"])\n            ax[0].set_xlabel(\"Strain [-]\")\n            ax[0].set_ylabel(\"Stress [MPa]\")\n            # Plastic stress vs elastic stress\n            ax[1].scatter(\n                stress_regions[i].get_svm(),\n                stress_regions[i].get_stress_nonlinear_neuber(),\n                marker=\".\",\n            )\n            ax[1].scatter(\n                stress_regions[i].get_svm(),\n                stress_regions[i].get_stress_nonlinear_glinka(),\n                marker=\"x\",\n            )\n            ax[1].legend([\"Neuber\", \"Glinka\"])\n            ax[1].set_xlabel(\"Stress Von Mises [MPa]\")\n            ax[1].set_ylabel(\"Stress Adjusted [MPa]\")\n            # Plastic strain vs elastic stress\n            ax[2].scatter(\n                stress_regions[i].get_svm(),\n                stress_regions[i].get_strain_plastic_neuber(),\n                marker=\".\",\n            )\n            ax[2].scatter(\n                stress_regions[i].get_svm(),\n                stress_regions[i].get_strain_plastic_glinka(),\n                marker=\"x\",\n            )\n            ax[2].legend([\"Neuber\", \"Glinka\"])\n            ax[2].set_xlabel(\"Stress Von Mises [MPa]\")\n            ax[2].set_ylabel(\"Plastic strain [-]\")\n            plt.suptitle(stress_regions[i].region_name)\n            plt.show()\n\n            # Plot stress including correction, and plastic strain\n            # Plot against element data X and Y (check exactly what this corresponds to,\n            # assume element centre, but seems to be one node of triangle)\n            cm = plt.colormaps[\"jet\"]\n            fig, ax = plt.subplots(2, 2, layout=\"constrained\")\n            plot1 = ax[0, 0].scatter(\n                stress_regions[i].get_x(),\n                stress_regions[i].get_y(),\n                c=stress_regions[i].get_stress_nonlinear_neuber(),\n                marker=\".\",\n                cmap=cm,\n            )\n            plt.colorbar(plot1, ax=ax[0, 0])\n            ax[0, 0].set_title(\"Stress (Neuber correction)\")\n\n            plot2 = ax[0, 1].scatter(\n                stress_regions[i].get_x(),\n                stress_regions[i].get_y(),\n                c=stress_regions[i].get_stress_nonlinear_glinka(),\n                marker=\".\",\n                cmap=cm,\n            )\n            plt.colorbar(plot2, ax=ax[0, 1])\n            ax[0, 1].set_title(\"Stress (Glinka correction)\")\n\n            plot3 = ax[1, 0].scatter(\n                stress_regions[i].get_x(),\n                stress_regions[i].get_y(),\n                c=stress_regions[i].get_strain_plastic_neuber(),\n                marker=\".\",\n                cmap=cm,\n            )\n            plt.colorbar(plot3, ax=ax[1, 0])\n            ax[1, 0].set_title(\"Plastic strain (Neuber correction)\")\n\n            plot4 = ax[1, 1].scatter(\n                stress_regions[i].get_x(),\n                stress_regions[i].get_y(),\n                c=stress_regions[i].get_strain_plastic_glinka(),\n                marker=\".\",\n                cmap=cm,\n            )\n            plt.colorbar(plot4, ax=ax[1, 1])\n            ax[1, 1].set_title(\"Plastic strain (Glinka correction)\")\n            plt.show()"
      ]
    }
  ],
  "metadata": {
    "kernelspec": {
      "display_name": "Python 3",
      "language": "python",
      "name": "python3"
    },
    "language_info": {
      "codemirror_mode": {
        "name": "ipython",
        "version": 3
      },
      "file_extension": ".py",
      "mimetype": "text/x-python",
      "name": "python",
      "nbconvert_exporter": "python",
      "pygments_lexer": "ipython3",
      "version": "3.12.10"
    }
  },
  "nbformat": 4,
  "nbformat_minor": 0
}