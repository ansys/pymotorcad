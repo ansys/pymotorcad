{
  "cells": [
    {
      "cell_type": "markdown",
      "metadata": {},
      "source": [
        "\n# Setting material properties to close slot\n\nThis script applies the adaptive templates functionality to change\nthe air region in the slot opening to steel, to model a closed slot.\n"
      ]
    },
    {
      "cell_type": "code",
      "execution_count": null,
      "metadata": {
        "collapsed": false
      },
      "outputs": [],
      "source": [
        "import sys\n\nimport ansys.motorcad.core as pymotorcad\nimport ansys.motorcad.core.geometry as geo\n\n# Connect to Motor-CAD, using existing instance\n# Alternatively, we could open a new instance and load a file with mc.load_from_file()\nmc = pymotorcad.MotorCAD()\n\n\n# Reset geometry to default\nmc.reset_adaptive_geometry()\n\n# Try to replace the StatorAir region properties, so it behaves like steel\nstator_air = mc.get_region(\"StatorAir\")\nstator = mc.get_region(\"Stator\")\nstator_air.material = stator.material\nstator_air.colour = stator.colour\n\n# Set to laminated region type\n# (setting as adaptive region type will not be necessary in the future)\nstator_air._region_type = geo.RegionType.adaptive\nstator_air.lamination_type = \"Laminated\"\nmc.set_region(stator_air)\n\n# If we're running this externally, load adaptive template script into Motor-CAD\nif not pymotorcad.is_running_in_internal_scripting():\n    mc.set_variable(\"GeometryTemplateType\", 1)\n    mc.load_adaptive_script(sys.argv[0])"
      ]
    }
  ],
  "metadata": {
    "kernelspec": {
      "display_name": "Python 3",
      "language": "python",
      "name": "python3"
    },
    "language_info": {
      "codemirror_mode": {
        "name": "ipython",
        "version": 3
      },
      "file_extension": ".py",
      "mimetype": "text/x-python",
      "name": "python",
      "nbconvert_exporter": "python",
      "pygments_lexer": "ipython3",
      "version": "3.12.10"
    }
  },
  "nbformat": 4,
  "nbformat_minor": 0
}